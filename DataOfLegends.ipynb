{
 "metadata": {
  "name": "",
  "signature": "sha256:d5bc73ed803a46d481ced199fb4f82d4267c180ac2de05208e55bc8f5f5dbd37"
 },
 "nbformat": 3,
 "nbformat_minor": 0,
 "worksheets": [
  {
   "cells": [
    {
     "cell_type": "markdown",
     "metadata": {},
     "source": [
      "#Data of Legends\n",
      "##An analysis of League of Legends and how team composition affects outcomes of games\n",
      "###George Wu, James Ho, Michael Ma, Shannon Zhu"
     ]
    },
    {
     "cell_type": "markdown",
     "metadata": {},
     "source": [
      "##Motivation\n",
      "\n",
      "League of Legends is the #1 most played game in the world and has been revolutionizing the online gaming scene through tournaments such as E-sports. One huge endeavor that Riot (the creator of League of Legends) is undertaking is the promotion of esports (electronic sports), which are consistently getting a lot of publicity from major media outlets such as the New York Times. Even colleges are recognizing esports as official sports and are starting varsity teams, and much of the world is beginning to see it as a real competition of sorts. Because so much money from streaming and major corporations such as Coca Cola is being poured into the industry and the tournaments, we are very interested in how much games can be predicted by arbitrary starting factors that are not tied to skill. \n",
      "\n",
      "To clarify, at the beginning of each game, players choose to play certain characters with different strengths and weaknesses - and the teams are randomly assigned a side of the map. These are recognized as nontrivial differences, but we are interested in statistically formalizing this starting bias and analyzing how much it affects game outcomes."
     ]
    },
    {
     "cell_type": "code",
     "collapsed": false,
     "input": [
      "%matplotlib inline\n",
      "\n",
      "import json\n",
      "\n",
      "import requests\n",
      "import pandas as pd\n",
      "import numpy as np\n",
      "import matplotlib.pyplot as plt\n",
      "import time\n",
      "import pickle\n",
      "\n",
      "api_key = 'c977fbae-0c60-4d6c-a3dc-ee1b305dbdd7'"
     ],
     "language": "python",
     "metadata": {},
     "outputs": [],
     "prompt_number": 2
    },
    {
     "cell_type": "markdown",
     "metadata": {},
     "source": [
      "### Retrieving Players in Challenger Tier\n",
      "First we'll get the list of all players who are in the highest ranked tier (Challenger tier). Players in this group are essentially professional and we assume that they play optimally, so the impact of skill level on the game outcome is minimized."
     ]
    },
    {
     "cell_type": "code",
     "collapsed": false,
     "input": [
      "# get all player IDs in \"challenger\" (professional) level of play\n",
      "url = 'https://na.api.pvp.net/api/lol/na/v2.5/league/challenger?type=RANKED_SOLO_5x5&api_key=' + api_key\n",
      "data = requests.get(url).json()\n",
      "\n",
      "summoners = data['entries']\n",
      "summoner_df = pd.read_json(json.dumps(summoners))\n",
      "summoner_df.head()"
     ],
     "language": "python",
     "metadata": {},
     "outputs": [
      {
       "html": [
        "<div style=\"max-height:1000px;max-width:1500px;overflow:auto;\">\n",
        "<table border=\"1\" class=\"dataframe\">\n",
        "  <thead>\n",
        "    <tr style=\"text-align: right;\">\n",
        "      <th></th>\n",
        "      <th>division</th>\n",
        "      <th>isFreshBlood</th>\n",
        "      <th>isHotStreak</th>\n",
        "      <th>isInactive</th>\n",
        "      <th>isVeteran</th>\n",
        "      <th>leaguePoints</th>\n",
        "      <th>playerOrTeamId</th>\n",
        "      <th>playerOrTeamName</th>\n",
        "      <th>wins</th>\n",
        "    </tr>\n",
        "  </thead>\n",
        "  <tbody>\n",
        "    <tr>\n",
        "      <th>0</th>\n",
        "      <td> I</td>\n",
        "      <td> False</td>\n",
        "      <td> False</td>\n",
        "      <td> False</td>\n",
        "      <td>  True</td>\n",
        "      <td> 1085</td>\n",
        "      <td> 51409228</td>\n",
        "      <td>         Apdo Dog</td>\n",
        "      <td> 269</td>\n",
        "    </tr>\n",
        "    <tr>\n",
        "      <th>1</th>\n",
        "      <td> I</td>\n",
        "      <td> False</td>\n",
        "      <td> False</td>\n",
        "      <td> False</td>\n",
        "      <td> False</td>\n",
        "      <td>  531</td>\n",
        "      <td> 27798233</td>\n",
        "      <td>       Just Jayce</td>\n",
        "      <td> 400</td>\n",
        "    </tr>\n",
        "    <tr>\n",
        "      <th>2</th>\n",
        "      <td> I</td>\n",
        "      <td> False</td>\n",
        "      <td> False</td>\n",
        "      <td>  True</td>\n",
        "      <td> False</td>\n",
        "      <td>  480</td>\n",
        "      <td>   410417</td>\n",
        "      <td>            MeyeA</td>\n",
        "      <td> 306</td>\n",
        "    </tr>\n",
        "    <tr>\n",
        "      <th>3</th>\n",
        "      <td> I</td>\n",
        "      <td> False</td>\n",
        "      <td>  True</td>\n",
        "      <td> False</td>\n",
        "      <td> False</td>\n",
        "      <td>  566</td>\n",
        "      <td> 21540249</td>\n",
        "      <td> PowerlessToplane</td>\n",
        "      <td> 859</td>\n",
        "    </tr>\n",
        "    <tr>\n",
        "      <th>4</th>\n",
        "      <td> I</td>\n",
        "      <td> False</td>\n",
        "      <td> False</td>\n",
        "      <td> False</td>\n",
        "      <td>  True</td>\n",
        "      <td>  561</td>\n",
        "      <td> 20156016</td>\n",
        "      <td>           willxo</td>\n",
        "      <td> 624</td>\n",
        "    </tr>\n",
        "  </tbody>\n",
        "</table>\n",
        "</div>"
       ],
       "metadata": {},
       "output_type": "pyout",
       "prompt_number": 2,
       "text": [
        "  division isFreshBlood isHotStreak isInactive isVeteran  leaguePoints  \\\n",
        "0        I        False       False      False      True          1085   \n",
        "1        I        False       False      False     False           531   \n",
        "2        I        False       False       True     False           480   \n",
        "3        I        False        True      False     False           566   \n",
        "4        I        False       False      False      True           561   \n",
        "\n",
        "   playerOrTeamId  playerOrTeamName  wins  \n",
        "0        51409228          Apdo Dog   269  \n",
        "1        27798233        Just Jayce   400  \n",
        "2          410417             MeyeA   306  \n",
        "3        21540249  PowerlessToplane   859  \n",
        "4        20156016            willxo   624  "
       ]
      }
     ],
     "prompt_number": 2
    },
    {
     "cell_type": "markdown",
     "metadata": {},
     "source": [
      "### Match Histories\n",
      "For each player in the challenger tier, we query the Riot API for their match history and accumulate a list of match IDs. We filtered the list to contain games played only in the 2014 season and filtered out duplicates. We only wanted games played in the 2014 season to take out differences due to game changes from different seasons. "
     ]
    },
    {
     "cell_type": "code",
     "collapsed": false,
     "input": [
      "# get match histories of all professional-level players\n",
      "player_Ids = summoner_df[\"playerOrTeamId\"].tolist()\n",
      "\n",
      "# constant for later\n",
      "beta_map_Id = 11\n",
      "\n",
      "# we don't want duplicate match IDs, so we use a set\n",
      "match_Ids = set()\n",
      "\n",
      "print \"Starting request from Riot:\"\n",
      "for i in xrange(0,len(player_Ids)):\n",
      "    print \"Processing player # \" + str(i+1) + \", ID: \" + str(player_Ids[i])\n",
      "    \n",
      "    # keep track of number of requests so we don't get rate limited\n",
      "    num_requests = 0\n",
      "    \n",
      "    # Riot's API only allows for retrieving 15 matches at a time, so we have to index into the history\n",
      "    index = 0\n",
      "    while True:\n",
      "        \n",
      "        # we filter for solo queues because we don't want team synergy to influence our results\n",
      "        queue = \"RANKED_SOLO_5x5\"\n",
      "        url = \"https://na.api.pvp.net/api/lol/na/v2.2/matchhistory/\" + str(player_Ids[i]) + \\\n",
      "            \"?beginIndex=\" + str(index) + \"&endIndex=\" + str((index + 15)) + \"&api_key=\" + api_key\n",
      "        response = requests.get(url)\n",
      "        try:\n",
      "            data = response.json()\n",
      "        except ValueError:\n",
      "            print 'JSON Decoding failed for url: ' + url\n",
      "        \n",
      "        # if the request was empty, then we have reached the end of the history and we should move on to the next player\n",
      "        if not data:\n",
      "            break\n",
      "            \n",
      "        matches = data['matches']\n",
      "        for match in matches:\n",
      "            \n",
      "            # we want to exclude the new Summoner's Rift map because it has changes in the game\n",
      "            if match['mapId'] != beta_map_Id:\n",
      "                match_Ids.add(match['matchId'])\n",
      "        index += 15\n",
      "        num_requests += 1\n",
      "        \n",
      "        # to ensure we don't get rate limited, we pause every 10 requests and after finding all of a player's history\n",
      "        if num_requests % 9 == 0:\n",
      "            time.sleep(10)\n",
      "        \n",
      "    time.sleep(10)"
     ],
     "language": "python",
     "metadata": {},
     "outputs": [
      {
       "output_type": "stream",
       "stream": "stdout",
       "text": [
        "Starting request from Riot:\n",
        "Processing player # 1, ID: 20026563\n",
        "Processing player # 2, ID: 50749357"
       ]
      },
      {
       "output_type": "stream",
       "stream": "stdout",
       "text": [
        "\n",
        "Processing player # 3, ID: 21238911"
       ]
      },
      {
       "output_type": "stream",
       "stream": "stdout",
       "text": [
        "\n",
        "Processing player # 4, ID: 21542029"
       ]
      },
      {
       "output_type": "stream",
       "stream": "stdout",
       "text": [
        "\n",
        "Processing player # 5, ID: 44979328"
       ]
      },
      {
       "output_type": "stream",
       "stream": "stdout",
       "text": [
        "\n",
        "Processing player # 6, ID: 19201346"
       ]
      },
      {
       "output_type": "stream",
       "stream": "stdout",
       "text": [
        "\n",
        "Processing player # 7, ID: 21361834"
       ]
      },
      {
       "output_type": "stream",
       "stream": "stdout",
       "text": [
        "\n",
        "Processing player # 8, ID: 56397325"
       ]
      },
      {
       "output_type": "stream",
       "stream": "stdout",
       "text": [
        "\n",
        "Processing player # 9, ID: 22645232"
       ]
      },
      {
       "output_type": "stream",
       "stream": "stdout",
       "text": [
        "\n",
        "Processing player # 10, ID: 35301382"
       ]
      },
      {
       "output_type": "stream",
       "stream": "stdout",
       "text": [
        "\n",
        "Processing player # 11, ID: 19998293"
       ]
      },
      {
       "output_type": "stream",
       "stream": "stdout",
       "text": [
        "\n",
        "Processing player # 12, ID: 20156016"
       ]
      },
      {
       "output_type": "stream",
       "stream": "stdout",
       "text": [
        "\n",
        "Processing player # 13, ID: 60729817"
       ]
      },
      {
       "output_type": "stream",
       "stream": "stdout",
       "text": [
        "\n",
        "Processing player # 14, ID: 42762376"
       ]
      },
      {
       "output_type": "stream",
       "stream": "stdout",
       "text": [
        "\n",
        "Processing player # 15, ID: 38839329"
       ]
      },
      {
       "output_type": "stream",
       "stream": "stdout",
       "text": [
        "\n",
        "Processing player # 16, ID: 20132258"
       ]
      },
      {
       "output_type": "stream",
       "stream": "stdout",
       "text": [
        "\n",
        "Processing player # 17, ID: 23292582"
       ]
      },
      {
       "output_type": "stream",
       "stream": "stdout",
       "text": [
        "\n",
        "Processing player # 18, ID: 21124626"
       ]
      },
      {
       "output_type": "stream",
       "stream": "stdout",
       "text": [
        "\n",
        "Processing player # 19, ID: 60939398"
       ]
      },
      {
       "output_type": "stream",
       "stream": "stdout",
       "text": [
        "\n",
        "Processing player # 20, ID: 31670053"
       ]
      },
      {
       "output_type": "stream",
       "stream": "stdout",
       "text": [
        "\n",
        "Processing player # 21, ID: 20971952"
       ]
      },
      {
       "output_type": "stream",
       "stream": "stdout",
       "text": [
        "\n",
        "Processing player # 22, ID: 22140119"
       ]
      },
      {
       "output_type": "stream",
       "stream": "stdout",
       "text": [
        "\n",
        "Processing player # 23, ID: 20017478"
       ]
      },
      {
       "output_type": "stream",
       "stream": "stdout",
       "text": [
        "\n",
        "Processing player # 24, ID: 25244896"
       ]
      },
      {
       "output_type": "stream",
       "stream": "stdout",
       "text": [
        "\n",
        "Processing player # 25, ID: 401169"
       ]
      },
      {
       "output_type": "stream",
       "stream": "stdout",
       "text": [
        "\n",
        "Processing player # 26, ID: 22005573"
       ]
      },
      {
       "output_type": "stream",
       "stream": "stdout",
       "text": [
        "\n",
        "Processing player # 27, ID: 7184"
       ]
      },
      {
       "output_type": "stream",
       "stream": "stdout",
       "text": [
        "\n",
        "Processing player # 28, ID: 410417"
       ]
      },
      {
       "output_type": "stream",
       "stream": "stdout",
       "text": [
        "\n",
        "Processing player # 29, ID: 37962884"
       ]
      },
      {
       "output_type": "stream",
       "stream": "stdout",
       "text": [
        "\n",
        "Processing player # 30, ID: 47015652"
       ]
      },
      {
       "output_type": "stream",
       "stream": "stdout",
       "text": [
        "\n",
        "Processing player # 31, ID: 30172503"
       ]
      },
      {
       "output_type": "stream",
       "stream": "stdout",
       "text": [
        "\n",
        "Processing player # 32, ID: 44989299"
       ]
      },
      {
       "output_type": "stream",
       "stream": "stdout",
       "text": [
        "\n",
        "Processing player # 33, ID: 28407347"
       ]
      },
      {
       "output_type": "stream",
       "stream": "stdout",
       "text": [
        "\n",
        "Processing player # 34, ID: 57008072"
       ]
      },
      {
       "output_type": "stream",
       "stream": "stdout",
       "text": [
        "\n",
        "Processing player # 35, ID: 22058902"
       ]
      },
      {
       "output_type": "stream",
       "stream": "stdout",
       "text": [
        "\n",
        "Processing player # 36, ID: 50539313"
       ]
      },
      {
       "output_type": "stream",
       "stream": "stdout",
       "text": [
        "\n",
        "Processing player # 37, ID: 20072604"
       ]
      },
      {
       "output_type": "stream",
       "stream": "stdout",
       "text": [
        "\n",
        "Processing player # 38, ID: 29699937"
       ]
      },
      {
       "output_type": "stream",
       "stream": "stdout",
       "text": [
        "\n",
        "Processing player # 39, ID: 25848742"
       ]
      },
      {
       "output_type": "stream",
       "stream": "stdout",
       "text": [
        "\n",
        "Processing player # 40, ID: 39040566"
       ]
      },
      {
       "output_type": "stream",
       "stream": "stdout",
       "text": [
        "\n",
        "Processing player # 41, ID: 21966037"
       ]
      },
      {
       "output_type": "stream",
       "stream": "stdout",
       "text": [
        "\n",
        "Processing player # 42, ID: 19602876"
       ]
      },
      {
       "output_type": "stream",
       "stream": "stdout",
       "text": [
        "\n",
        "Processing player # 43, ID: 24332462"
       ]
      },
      {
       "output_type": "stream",
       "stream": "stdout",
       "text": [
        "\n",
        "Processing player # 44, ID: 23235987"
       ]
      },
      {
       "output_type": "stream",
       "stream": "stdout",
       "text": [
        "\n",
        "Processing player # 45, ID: 56838917"
       ]
      },
      {
       "output_type": "stream",
       "stream": "stdout",
       "text": [
        "\n",
        "Processing player # 46, ID: 47199162"
       ]
      },
      {
       "output_type": "stream",
       "stream": "stdout",
       "text": [
        "\n",
        "Processing player # 47, ID: 20441329"
       ]
      },
      {
       "output_type": "stream",
       "stream": "stdout",
       "text": [
        "\n",
        "Processing player # 48, ID: 286367"
       ]
      },
      {
       "output_type": "stream",
       "stream": "stdout",
       "text": [
        "\n",
        "Processing player # 49, ID: 56917699"
       ]
      },
      {
       "output_type": "stream",
       "stream": "stdout",
       "text": [
        "\n",
        "Processing player # 50, ID: 22826752"
       ]
      },
      {
       "output_type": "stream",
       "stream": "stdout",
       "text": [
        "\n",
        "Processing player # 51, ID: 24221302"
       ]
      },
      {
       "output_type": "stream",
       "stream": "stdout",
       "text": [
        "\n",
        "Processing player # 52, ID: 21903966"
       ]
      },
      {
       "output_type": "stream",
       "stream": "stdout",
       "text": [
        "\n",
        "Processing player # 53, ID: 20171127"
       ]
      },
      {
       "output_type": "stream",
       "stream": "stdout",
       "text": [
        "\n",
        "Processing player # 54, ID: 19113946"
       ]
      },
      {
       "output_type": "stream",
       "stream": "stdout",
       "text": [
        "\n",
        "Processing player # 55, ID: 27020026"
       ]
      },
      {
       "output_type": "stream",
       "stream": "stdout",
       "text": [
        "\n",
        "Processing player # 56, ID: 22365815"
       ]
      },
      {
       "output_type": "stream",
       "stream": "stdout",
       "text": [
        "\n",
        "Processing player # 57, ID: 22933497"
       ]
      },
      {
       "output_type": "stream",
       "stream": "stdout",
       "text": [
        "\n",
        "Processing player # 58, ID: 20842490"
       ]
      },
      {
       "output_type": "stream",
       "stream": "stdout",
       "text": [
        "\n",
        "Processing player # 59, ID: 22051304"
       ]
      },
      {
       "output_type": "stream",
       "stream": "stdout",
       "text": [
        "\n",
        "Processing player # 60, ID: 57029179"
       ]
      },
      {
       "output_type": "stream",
       "stream": "stdout",
       "text": [
        "\n",
        "Processing player # 61, ID: 42060215"
       ]
      },
      {
       "output_type": "stream",
       "stream": "stdout",
       "text": [
        "\n",
        "Processing player # 62, ID: 27798233"
       ]
      },
      {
       "output_type": "stream",
       "stream": "stdout",
       "text": [
        "\n",
        "Processing player # 63, ID: 22300476"
       ]
      },
      {
       "output_type": "stream",
       "stream": "stdout",
       "text": [
        "\n",
        "Processing player # 64, ID: 25295387"
       ]
      },
      {
       "output_type": "stream",
       "stream": "stdout",
       "text": [
        "\n",
        "Processing player # 65, ID: 57019107"
       ]
      },
      {
       "output_type": "stream",
       "stream": "stdout",
       "text": [
        "\n",
        "Processing player # 66, ID: 44989349"
       ]
      },
      {
       "output_type": "stream",
       "stream": "stdout",
       "text": [
        "\n",
        "Processing player # 67, ID: 40984753"
       ]
      },
      {
       "output_type": "stream",
       "stream": "stdout",
       "text": [
        "\n",
        "Processing player # 68, ID: 23817924"
       ]
      },
      {
       "output_type": "stream",
       "stream": "stdout",
       "text": [
        "\n",
        "JSON Decoding failed for url: https://na.api.pvp.net/api/lol/na/v2.2/matchhistory/23817924?beginIndex=405&endIndex=420&api_key=c977fbae-0c60-4d6c-a3dc-ee1b305dbdd7"
       ]
      },
      {
       "output_type": "stream",
       "stream": "stdout",
       "text": [
        "\n",
        "JSON Decoding failed for url: https://na.api.pvp.net/api/lol/na/v2.2/matchhistory/23817924?beginIndex=420&endIndex=435&api_key=c977fbae-0c60-4d6c-a3dc-ee1b305dbdd7"
       ]
      },
      {
       "output_type": "stream",
       "stream": "stdout",
       "text": [
        "\n",
        "JSON Decoding failed for url: https://na.api.pvp.net/api/lol/na/v2.2/matchhistory/23817924?beginIndex=435&endIndex=450&api_key=c977fbae-0c60-4d6c-a3dc-ee1b305dbdd7"
       ]
      },
      {
       "output_type": "stream",
       "stream": "stdout",
       "text": [
        "\n",
        "Processing player # 69, ID: 390600"
       ]
      },
      {
       "output_type": "stream",
       "stream": "stdout",
       "text": [
        "\n",
        "Processing player # 70, ID: 5908"
       ]
      },
      {
       "output_type": "stream",
       "stream": "stdout",
       "text": [
        "\n",
        "Processing player # 71, ID: 26324263"
       ]
      },
      {
       "output_type": "stream",
       "stream": "stdout",
       "text": [
        "\n",
        "Processing player # 72, ID: 21101048"
       ]
      },
      {
       "output_type": "stream",
       "stream": "stdout",
       "text": [
        "\n",
        "Processing player # 73, ID: 19440665"
       ]
      },
      {
       "output_type": "stream",
       "stream": "stdout",
       "text": [
        "\n",
        "Processing player # 74, ID: 2648"
       ]
      },
      {
       "output_type": "stream",
       "stream": "stdout",
       "text": [
        "\n",
        "Processing player # 75, ID: 47836799"
       ]
      },
      {
       "output_type": "stream",
       "stream": "stdout",
       "text": [
        "\n",
        "Processing player # 76, ID: 59673766"
       ]
      },
      {
       "output_type": "stream",
       "stream": "stdout",
       "text": [
        "\n",
        "Processing player # 77, ID: 23137868"
       ]
      },
      {
       "output_type": "stream",
       "stream": "stdout",
       "text": [
        "\n",
        "Processing player # 78, ID: 31014009"
       ]
      },
      {
       "output_type": "stream",
       "stream": "stdout",
       "text": [
        "\n",
        "Processing player # 79, ID: 23534118"
       ]
      },
      {
       "output_type": "stream",
       "stream": "stdout",
       "text": [
        "\n",
        "Processing player # 80, ID: 44979366"
       ]
      },
      {
       "output_type": "stream",
       "stream": "stdout",
       "text": [
        "\n",
        "Processing player # 81, ID: 49159160"
       ]
      },
      {
       "output_type": "stream",
       "stream": "stdout",
       "text": [
        "\n",
        "Processing player # 82, ID: 492066"
       ]
      },
      {
       "output_type": "stream",
       "stream": "stdout",
       "text": [
        "\n",
        "Processing player # 83, ID: 19019472"
       ]
      },
      {
       "output_type": "stream",
       "stream": "stdout",
       "text": [
        "\n",
        "Processing player # 84, ID: 22507642"
       ]
      },
      {
       "output_type": "stream",
       "stream": "stdout",
       "text": [
        "\n",
        "Processing player # 85, ID: 23050296"
       ]
      },
      {
       "output_type": "stream",
       "stream": "stdout",
       "text": [
        "\n",
        "Processing player # 86, ID: 19061980"
       ]
      },
      {
       "output_type": "stream",
       "stream": "stdout",
       "text": [
        "\n",
        "Processing player # 87, ID: 22673591"
       ]
      },
      {
       "output_type": "stream",
       "stream": "stdout",
       "text": [
        "\n",
        "Processing player # 88, ID: 58261653"
       ]
      },
      {
       "output_type": "stream",
       "stream": "stdout",
       "text": [
        "\n",
        "Processing player # 89, ID: 35592112"
       ]
      },
      {
       "output_type": "stream",
       "stream": "stdout",
       "text": [
        "\n",
        "Processing player # 90, ID: 55508353"
       ]
      },
      {
       "output_type": "stream",
       "stream": "stdout",
       "text": [
        "\n",
        "Processing player # 91, ID: 62599179"
       ]
      },
      {
       "output_type": "stream",
       "stream": "stdout",
       "text": [
        "\n",
        "Processing player # 92, ID: 20833616"
       ]
      },
      {
       "output_type": "stream",
       "stream": "stdout",
       "text": [
        "\n",
        "Processing player # 93, ID: 20131827"
       ]
      },
      {
       "output_type": "stream",
       "stream": "stdout",
       "text": [
        "\n",
        "Processing player # 94, ID: 26082266"
       ]
      },
      {
       "output_type": "stream",
       "stream": "stdout",
       "text": [
        "\n",
        "Processing player # 95, ID: 19238304"
       ]
      },
      {
       "output_type": "stream",
       "stream": "stdout",
       "text": [
        "\n",
        "Processing player # 96, ID: 29259499"
       ]
      },
      {
       "output_type": "stream",
       "stream": "stdout",
       "text": [
        "\n",
        "Processing player # 97, ID: 44989348"
       ]
      },
      {
       "output_type": "stream",
       "stream": "stdout",
       "text": [
        "\n",
        "Processing player # 98, ID: 36488045"
       ]
      },
      {
       "output_type": "stream",
       "stream": "stdout",
       "text": [
        "\n",
        "Processing player # 99, ID: 28039649"
       ]
      },
      {
       "output_type": "stream",
       "stream": "stdout",
       "text": [
        "\n",
        "Processing player # 100, ID: 21051986"
       ]
      },
      {
       "output_type": "stream",
       "stream": "stdout",
       "text": [
        "\n",
        "Processing player # 101, ID: 25244616"
       ]
      },
      {
       "output_type": "stream",
       "stream": "stdout",
       "text": [
        "\n",
        "Processing player # 102, ID: 21328590"
       ]
      },
      {
       "output_type": "stream",
       "stream": "stdout",
       "text": [
        "\n",
        "Processing player # 103, ID: 245353"
       ]
      },
      {
       "output_type": "stream",
       "stream": "stdout",
       "text": [
        "\n",
        "Processing player # 104, ID: 26600205"
       ]
      },
      {
       "output_type": "stream",
       "stream": "stdout",
       "text": [
        "\n",
        "Processing player # 105, ID: 44979325"
       ]
      },
      {
       "output_type": "stream",
       "stream": "stdout",
       "text": [
        "\n",
        "Processing player # 106, ID: 21705406"
       ]
      },
      {
       "output_type": "stream",
       "stream": "stdout",
       "text": [
        "\n",
        "Processing player # 107, ID: 62374009"
       ]
      },
      {
       "output_type": "stream",
       "stream": "stdout",
       "text": [
        "\n",
        "Processing player # 108, ID: 24069119"
       ]
      },
      {
       "output_type": "stream",
       "stream": "stdout",
       "text": [
        "\n",
        "Processing player # 109, ID: 19738326"
       ]
      },
      {
       "output_type": "stream",
       "stream": "stdout",
       "text": [
        "\n",
        "Processing player # 110, ID: 20576181"
       ]
      },
      {
       "output_type": "stream",
       "stream": "stdout",
       "text": [
        "\n",
        "Processing player # 111, ID: 23404806"
       ]
      },
      {
       "output_type": "stream",
       "stream": "stdout",
       "text": [
        "\n",
        "Processing player # 112, ID: 36718800"
       ]
      },
      {
       "output_type": "stream",
       "stream": "stdout",
       "text": [
        "\n",
        "Processing player # 113, ID: 20151025"
       ]
      },
      {
       "output_type": "stream",
       "stream": "stdout",
       "text": [
        "\n",
        "Processing player # 114, ID: 19944591"
       ]
      },
      {
       "output_type": "stream",
       "stream": "stdout",
       "text": [
        "\n",
        "Processing player # 115, ID: 19732914"
       ]
      },
      {
       "output_type": "stream",
       "stream": "stdout",
       "text": [
        "\n",
        "Processing player # 116, ID: 23557909"
       ]
      },
      {
       "output_type": "stream",
       "stream": "stdout",
       "text": [
        "\n",
        "Processing player # 117, ID: 20726321"
       ]
      },
      {
       "output_type": "stream",
       "stream": "stdout",
       "text": [
        "\n",
        "Processing player # 118, ID: 48637590"
       ]
      },
      {
       "output_type": "stream",
       "stream": "stdout",
       "text": [
        "\n",
        "Processing player # 119, ID: 63389080"
       ]
      },
      {
       "output_type": "stream",
       "stream": "stdout",
       "text": [
        "\n",
        "Processing player # 120, ID: 22216718"
       ]
      },
      {
       "output_type": "stream",
       "stream": "stdout",
       "text": [
        "\n",
        "Processing player # 121, ID: 18991200"
       ]
      },
      {
       "output_type": "stream",
       "stream": "stdout",
       "text": [
        "\n",
        "Processing player # 122, ID: 19967304"
       ]
      },
      {
       "output_type": "stream",
       "stream": "stdout",
       "text": [
        "\n",
        "Processing player # 123, ID: 21600556"
       ]
      },
      {
       "output_type": "stream",
       "stream": "stdout",
       "text": [
        "\n",
        "Processing player # 124, ID: 49389111"
       ]
      },
      {
       "output_type": "stream",
       "stream": "stdout",
       "text": [
        "\n",
        "Processing player # 125, ID: 22059766"
       ]
      },
      {
       "output_type": "stream",
       "stream": "stdout",
       "text": [
        "\n",
        "Processing player # 126, ID: 22079480"
       ]
      },
      {
       "output_type": "stream",
       "stream": "stdout",
       "text": [
        "\n",
        "Processing player # 127, ID: 23480331"
       ]
      },
      {
       "output_type": "stream",
       "stream": "stdout",
       "text": [
        "\n",
        "Processing player # 128, ID: 24295656"
       ]
      },
      {
       "output_type": "stream",
       "stream": "stdout",
       "text": [
        "\n",
        "Processing player # 129, ID: 29200584"
       ]
      },
      {
       "output_type": "stream",
       "stream": "stdout",
       "text": [
        "\n",
        "Processing player # 130, ID: 26114733"
       ]
      },
      {
       "output_type": "stream",
       "stream": "stdout",
       "text": [
        "\n",
        "Processing player # 131, ID: 56403918"
       ]
      },
      {
       "output_type": "stream",
       "stream": "stdout",
       "text": [
        "\n",
        "Processing player # 132, ID: 19889421"
       ]
      },
      {
       "output_type": "stream",
       "stream": "stdout",
       "text": [
        "\n",
        "Processing player # 133, ID: 21837426"
       ]
      },
      {
       "output_type": "stream",
       "stream": "stdout",
       "text": [
        "\n",
        "Processing player # 134, ID: 20203681"
       ]
      },
      {
       "output_type": "stream",
       "stream": "stdout",
       "text": [
        "\n",
        "Processing player # 135, ID: 58060767"
       ]
      },
      {
       "output_type": "stream",
       "stream": "stdout",
       "text": [
        "\n",
        "Processing player # 136, ID: 57539163"
       ]
      },
      {
       "output_type": "stream",
       "stream": "stdout",
       "text": [
        "\n",
        "Processing player # 137, ID: 23765764"
       ]
      },
      {
       "output_type": "stream",
       "stream": "stdout",
       "text": [
        "\n",
        "Processing player # 138, ID: 26676087"
       ]
      },
      {
       "output_type": "stream",
       "stream": "stdout",
       "text": [
        "\n",
        "Processing player # 139, ID: 56779211"
       ]
      },
      {
       "output_type": "stream",
       "stream": "stdout",
       "text": [
        "\n",
        "Processing player # 140, ID: 19202854"
       ]
      },
      {
       "output_type": "stream",
       "stream": "stdout",
       "text": [
        "\n",
        "Processing player # 141, ID: 61109246"
       ]
      },
      {
       "output_type": "stream",
       "stream": "stdout",
       "text": [
        "\n",
        "Processing player # 142, ID: 271851"
       ]
      },
      {
       "output_type": "stream",
       "stream": "stdout",
       "text": [
        "\n",
        "Processing player # 143, ID: 19134540"
       ]
      },
      {
       "output_type": "stream",
       "stream": "stdout",
       "text": [
        "\n",
        "Processing player # 144, ID: 581716"
       ]
      },
      {
       "output_type": "stream",
       "stream": "stdout",
       "text": [
        "\n",
        "Processing player # 145, ID: 21701239"
       ]
      },
      {
       "output_type": "stream",
       "stream": "stdout",
       "text": [
        "\n",
        "Processing player # 146, ID: 25888946"
       ]
      },
      {
       "output_type": "stream",
       "stream": "stdout",
       "text": [
        "\n",
        "Processing player # 147, ID: 19770082"
       ]
      },
      {
       "output_type": "stream",
       "stream": "stdout",
       "text": [
        "\n",
        "Processing player # 148, ID: 27271906"
       ]
      },
      {
       "output_type": "stream",
       "stream": "stdout",
       "text": [
        "\n",
        "Processing player # 149, ID: 26782828"
       ]
      },
      {
       "output_type": "stream",
       "stream": "stdout",
       "text": [
        "\n",
        "Processing player # 150, ID: 51409228"
       ]
      },
      {
       "output_type": "stream",
       "stream": "stdout",
       "text": [
        "\n",
        "Processing player # 151, ID: 58110784"
       ]
      },
      {
       "output_type": "stream",
       "stream": "stdout",
       "text": [
        "\n",
        "Processing player # 152, ID: 21540249"
       ]
      },
      {
       "output_type": "stream",
       "stream": "stdout",
       "text": [
        "\n",
        "Processing player # 153, ID: 29524444"
       ]
      },
      {
       "output_type": "stream",
       "stream": "stdout",
       "text": [
        "\n",
        "Processing player # 154, ID: 39877298"
       ]
      },
      {
       "output_type": "stream",
       "stream": "stdout",
       "text": [
        "\n",
        "Processing player # 155, ID: 23162732"
       ]
      },
      {
       "output_type": "stream",
       "stream": "stdout",
       "text": [
        "\n",
        "Processing player # 156, ID: 398435"
       ]
      },
      {
       "output_type": "stream",
       "stream": "stdout",
       "text": [
        "\n",
        "Processing player # 157, ID: 34925733"
       ]
      },
      {
       "output_type": "stream",
       "stream": "stdout",
       "text": [
        "\n",
        "Processing player # 158, ID: 30512424"
       ]
      },
      {
       "output_type": "stream",
       "stream": "stdout",
       "text": [
        "\n",
        "Processing player # 159, ID: 20610274"
       ]
      },
      {
       "output_type": "stream",
       "stream": "stdout",
       "text": [
        "\n",
        "Processing player # 160, ID: 377115"
       ]
      },
      {
       "output_type": "stream",
       "stream": "stdout",
       "text": [
        "\n",
        "Processing player # 161, ID: 40743771"
       ]
      },
      {
       "output_type": "stream",
       "stream": "stdout",
       "text": [
        "\n",
        "Processing player # 162, ID: 7250"
       ]
      },
      {
       "output_type": "stream",
       "stream": "stdout",
       "text": [
        "\n",
        "Processing player # 163, ID: 51539240"
       ]
      },
      {
       "output_type": "stream",
       "stream": "stdout",
       "text": [
        "\n",
        "Processing player # 164, ID: 20579425"
       ]
      },
      {
       "output_type": "stream",
       "stream": "stdout",
       "text": [
        "\n",
        "Processing player # 165, ID: 44979332"
       ]
      },
      {
       "output_type": "stream",
       "stream": "stdout",
       "text": [
        "\n",
        "Processing player # 166, ID: 51082800"
       ]
      },
      {
       "output_type": "stream",
       "stream": "stdout",
       "text": [
        "\n",
        "Processing player # 167, ID: 31804754"
       ]
      },
      {
       "output_type": "stream",
       "stream": "stdout",
       "text": [
        "\n",
        "Processing player # 168, ID: 377078"
       ]
      },
      {
       "output_type": "stream",
       "stream": "stdout",
       "text": [
        "\n",
        "Processing player # 169, ID: 20711378"
       ]
      },
      {
       "output_type": "stream",
       "stream": "stdout",
       "text": [
        "\n",
        "Processing player # 170, ID: 37838557"
       ]
      },
      {
       "output_type": "stream",
       "stream": "stdout",
       "text": [
        "\n",
        "Processing player # 171, ID: 20218807"
       ]
      },
      {
       "output_type": "stream",
       "stream": "stdout",
       "text": [
        "\n",
        "Processing player # 172, ID: 61542283"
       ]
      },
      {
       "output_type": "stream",
       "stream": "stdout",
       "text": [
        "\n",
        "Processing player # 173, ID: 30312037"
       ]
      },
      {
       "output_type": "stream",
       "stream": "stdout",
       "text": [
        "\n",
        "Processing player # 174, ID: 19665819"
       ]
      },
      {
       "output_type": "stream",
       "stream": "stdout",
       "text": [
        "\n",
        "Processing player # 175, ID: 23747766"
       ]
      },
      {
       "output_type": "stream",
       "stream": "stdout",
       "text": [
        "\n",
        "Processing player # 176, ID: 22138282"
       ]
      },
      {
       "output_type": "stream",
       "stream": "stdout",
       "text": [
        "\n",
        "Processing player # 177, ID: 21059607"
       ]
      },
      {
       "output_type": "stream",
       "stream": "stdout",
       "text": [
        "\n",
        "Processing player # 178, ID: 24837798"
       ]
      },
      {
       "output_type": "stream",
       "stream": "stdout",
       "text": [
        "\n",
        "Processing player # 179, ID: 51405"
       ]
      },
      {
       "output_type": "stream",
       "stream": "stdout",
       "text": [
        "\n",
        "Processing player # 180, ID: 19209176"
       ]
      },
      {
       "output_type": "stream",
       "stream": "stdout",
       "text": [
        "\n",
        "Processing player # 181, ID: 63379079"
       ]
      },
      {
       "output_type": "stream",
       "stream": "stdout",
       "text": [
        "\n",
        "Processing player # 182, ID: 22079096"
       ]
      },
      {
       "output_type": "stream",
       "stream": "stdout",
       "text": [
        "\n",
        "Processing player # 183, ID: 19199530"
       ]
      },
      {
       "output_type": "stream",
       "stream": "stdout",
       "text": [
        "\n",
        "Processing player # 184, ID: 44989344"
       ]
      },
      {
       "output_type": "stream",
       "stream": "stdout",
       "text": [
        "\n",
        "Processing player # 185, ID: 25850956"
       ]
      },
      {
       "output_type": "stream",
       "stream": "stdout",
       "text": [
        "\n",
        "Processing player # 186, ID: 564332"
       ]
      },
      {
       "output_type": "stream",
       "stream": "stdout",
       "text": [
        "\n",
        "Processing player # 187, ID: 4297"
       ]
      },
      {
       "output_type": "stream",
       "stream": "stdout",
       "text": [
        "\n",
        "Processing player # 188, ID: 19887289"
       ]
      },
      {
       "output_type": "stream",
       "stream": "stdout",
       "text": [
        "\n",
        "Processing player # 189, ID: 41732749"
       ]
      },
      {
       "output_type": "stream",
       "stream": "stdout",
       "text": [
        "\n",
        "Processing player # 190, ID: 26384426"
       ]
      },
      {
       "output_type": "stream",
       "stream": "stdout",
       "text": [
        "\n",
        "Processing player # 191, ID: 521955"
       ]
      },
      {
       "output_type": "stream",
       "stream": "stdout",
       "text": [
        "\n",
        "Processing player # 192, ID: 25089268"
       ]
      },
      {
       "output_type": "stream",
       "stream": "stdout",
       "text": [
        "\n",
        "Processing player # 193, ID: 47008091"
       ]
      },
      {
       "output_type": "stream",
       "stream": "stdout",
       "text": [
        "\n",
        "Processing player # 194, ID: 19063356"
       ]
      },
      {
       "output_type": "stream",
       "stream": "stdout",
       "text": [
        "\n",
        "Processing player # 195, ID: 44979338"
       ]
      },
      {
       "output_type": "stream",
       "stream": "stdout",
       "text": [
        "\n",
        "Processing player # 196, ID: 20915481"
       ]
      },
      {
       "output_type": "stream",
       "stream": "stdout",
       "text": [
        "\n",
        "Processing player # 197, ID: 30871780"
       ]
      },
      {
       "output_type": "stream",
       "stream": "stdout",
       "text": [
        "\n",
        "Processing player # 198, ID: 22478427"
       ]
      },
      {
       "output_type": "stream",
       "stream": "stdout",
       "text": [
        "\n",
        "Processing player # 199, ID: 25738593"
       ]
      },
      {
       "output_type": "stream",
       "stream": "stdout",
       "text": [
        "\n",
        "Processing player # 200, ID: 21633048"
       ]
      },
      {
       "output_type": "stream",
       "stream": "stdout",
       "text": [
        "\n"
       ]
      }
     ],
     "prompt_number": 97
    },
    {
     "cell_type": "markdown",
     "metadata": {},
     "source": [
      "Getting this data took a couple of hours, so we'll save it to a file so we don't have to retrieve it again."
     ]
    },
    {
     "cell_type": "code",
     "collapsed": false,
     "input": [
      "# locally save large data after request to avoid querying API each time\n",
      "f = open('matchId.pckl', 'w')\n",
      "pickle.dump(match_Ids, f)\n",
      "f.close()"
     ],
     "language": "python",
     "metadata": {},
     "outputs": [],
     "prompt_number": 22
    },
    {
     "cell_type": "code",
     "collapsed": false,
     "input": [
      "# open matchID data from local file\n",
      "match_Ids = pickle.load(open('matchId.pckl', 'rb'))"
     ],
     "language": "python",
     "metadata": {},
     "outputs": [],
     "prompt_number": 10
    },
    {
     "cell_type": "markdown",
     "metadata": {},
     "source": [
      "With the list of matchIDs that we want to examine, we query the API again to get more detailed data about each particular match. This includes the champions selected by both sides and the roles they played in the game, as well as the game outcome and gold earned throughout the game. We will be using gold earned by a team as one of our variables because it is a very strong indicator of game dominance. "
     ]
    },
    {
     "cell_type": "markdown",
     "metadata": {},
     "source": [
      "We want to organize our data so that instead of using champion IDs, we have champion names instead. The following code segment provides a mapping from ID to name."
     ]
    },
    {
     "cell_type": "code",
     "collapsed": false,
     "input": [
      "# champion key lookup by id - define a dictionary that can find a champion name from its Riot ID\n",
      "static_champion_data = {}\n",
      "url = 'https://na.api.pvp.net/api/lol/static-data/na/v1.2/champion?api_key=7dff8fa2-5167-40f3-8c11-9b1887b6ca8a'\n",
      "champs = requests.get(url).json()\n",
      "for champ, data in champs['data'].iteritems():\n",
      "    static_champion_data[data['id']] = champ"
     ],
     "language": "python",
     "metadata": {},
     "outputs": [],
     "prompt_number": 3
    },
    {
     "cell_type": "markdown",
     "metadata": {},
     "source": [
      "The following function gets the data in chunks because we wanted to limit failure."
     ]
    },
    {
     "cell_type": "code",
     "collapsed": false,
     "input": [
      "\"\"\"\n",
      "Polls the Riot API to get the data about certain matches\n",
      "Input:\n",
      "    match_Ids: list of match IDs to poll from\n",
      "    begin_index: index to start from in the list\n",
      "    end_index: index to end at from the list\n",
      "\"\"\"\n",
      "def get_matches(match_Ids, begin_index, end_index):\n",
      "\n",
      "    # for rate limiting\n",
      "    num_requests = 0\n",
      "    match_Ids_piece = list(match_Ids)[begin_index:end_index]\n",
      "    num_Ids = len(list(match_Ids))\n",
      "\n",
      "    for match_Id in match_Ids_piece:\n",
      "        url = \"https://na.api.pvp.net/api/lol/na/v2.2/match/\" + str(match_Id) + \"?api_key=\" + api_key\n",
      "        response = requests.get(url)\n",
      "        try:\n",
      "            match_data = response.json()\n",
      "        except ValueError:\n",
      "            print 'JSON Decoding failed for url: ' + url\n",
      "\n",
      "        num_requests += 1\n",
      "        if num_requests % 10 == 0:\n",
      "            time.sleep(10)\n",
      "        if num_requests % 100 == 0:\n",
      "            print \"Processed \" + str(num_requests) + \" requests\"\n",
      "        all_match_data.append(match_data)\n",
      "    \n",
      "    # save into a corresponding file\n",
      "    f = open('matchData' + str(begin_index) + '_' + str(end_index) + '.pckl', 'w')\n",
      "    pickle.dump(all_match_data, f)\n",
      "    f.close()"
     ],
     "language": "python",
     "metadata": {},
     "outputs": [],
     "prompt_number": 23
    },
    {
     "cell_type": "markdown",
     "metadata": {},
     "source": [
      "Now that we have all the data, we convert the data that we want into a dataframe."
     ]
    },
    {
     "cell_type": "code",
     "collapsed": false,
     "input": [
      "\"\"\"\n",
      "Converts json data into a Pandas dataframe we can use\n",
      "Input:\n",
      "    all_match_data: list of matches (each match is in a json format)\n",
      "    matches: list to append to\n",
      "Output:\n",
      "    matches: the list containing all the converted matches\n",
      "\"\"\"\n",
      "def convert_to_matches(all_match_data, matches):\n",
      "    for match_data in all_match_data:\n",
      "        \n",
      "        # if the data contains participants, then we can proceed\n",
      "        if 'participants' in match_data:\n",
      "            participants = match_data['participants']\n",
      "            \n",
      "            # separate teams by checking team ID\n",
      "            team1 = []\n",
      "            team2 = []\n",
      "            \n",
      "            # boolean to keep track of which team won\n",
      "            team1_win = None\n",
      "            \n",
      "            for participant in participants:\n",
      "                # the two teams are identified as team ID 100 and 200\n",
      "                if (participant['teamId'] == 100):\n",
      "                    team1.append(participant)\n",
      "                    team1_win = participant['stats']['winner']\n",
      "                else:\n",
      "                    team2.append(participant)\n",
      "                    team1_win = not participant['stats']['winner']\n",
      "                    \n",
      "            # determine the total amount of gold on the team\n",
      "            team1_gold = sum([participant['stats']['goldEarned'] for participant in team1])\n",
      "            team2_gold = sum([participant['stats']['goldEarned'] for participant in team2])\n",
      "            \n",
      "            # preallocate for each row\n",
      "            match_summary = [None for i in xrange(0, 13)]\n",
      "            \n",
      "            # first column will be the match ID\n",
      "            match_summary[0] = match_data['matchId']\n",
      "            ## Row invariant: first column will be match ID, next 5 columns are team 1 in the following order\n",
      "            #  1. Top\n",
      "            #  2. Jungle\n",
      "            #  3. Middle\n",
      "            #  4. Bottom AD Carry\n",
      "            #  5. Bottom Support\n",
      "            # The next 5 columns will be team 2 with the same order\n",
      "            # The 12th column is the gold differential between the first and second team.\n",
      "            # The 13th column is the team that won the game\n",
      "            for player in team1:\n",
      "                if player['timeline']['lane'] == 'TOP':\n",
      "                    match_summary[1] = static_champion_data[player['championId']]\n",
      "                if player['timeline']['lane'] == 'JUNGLE':\n",
      "                    match_summary[2] = static_champion_data[player['championId']]\n",
      "                if player['timeline']['lane'] == 'MID' or player['timeline']['lane'] == 'MIDDLE':\n",
      "                    match_summary[3] = static_champion_data[player['championId']]\n",
      "                if player['timeline']['lane'] == 'BOT' or player['timeline']['lane'] == 'BOTTOM':\n",
      "                    if player['timeline']['role'] == 'DUO_CARRY':\n",
      "                        match_summary[4] = static_champion_data[player['championId']]\n",
      "                    else:\n",
      "                        match_summary[5] = static_champion_data[player['championId']]\n",
      "\n",
      "            for player in team2:\n",
      "                if player['timeline']['lane'] == 'TOP':\n",
      "                    match_summary[6] = static_champion_data[player['championId']]\n",
      "                if player['timeline']['lane'] == 'JUNGLE':\n",
      "                    match_summary[7] = static_champion_data[player['championId']]\n",
      "                if player['timeline']['lane'] == 'MID' or player['timeline']['lane'] == 'MIDDLE':\n",
      "                    match_summary[8] = static_champion_data[player['championId']]\n",
      "                if player['timeline']['lane'] == 'BOT' or player['timeline']['lane'] == 'BOTTOM':\n",
      "                    if player['timeline']['role'] == 'DUO_CARRY':\n",
      "                        match_summary[9] = static_champion_data[player['championId']]\n",
      "                    else:\n",
      "                        match_summary[10] = static_champion_data[player['championId']]\n",
      "            match_summary[11] = team1_gold - team2_gold\n",
      "            match_summary[12] = int(team1_win)\n",
      "            matches.append(match_summary)\n",
      "    return matches\n"
     ],
     "language": "python",
     "metadata": {},
     "outputs": [],
     "prompt_number": 3
    },
    {
     "cell_type": "markdown",
     "metadata": {},
     "source": [
      "Because Riot's API limits us to 10 requests every 10 seconds, it took a very long time to retrieve about 50000 matches from their servers. Thus, we took out the code to poll Riot's data and put it in a separate python file, called `getMatches.py`. We then saved the data into pickle files so that in the future, we do not have to request the data again. Be forewarned, the loading of the data takes a very long time, and could cause your computer to run out of memory."
     ]
    },
    {
     "cell_type": "code",
     "collapsed": false,
     "input": [
      "# store all the data into a list\n",
      "matches = []\n",
      "\n",
      "print 'Reading first part...'\n",
      "all_match_data = pickle.load(open('matchData4000_8000.pckl', 'rb'))\n",
      "matches = convert_to_matches(all_match_data, matches)\n",
      "\n",
      "print 'Reading second part...'\n",
      "all_match_data = pickle.load(open('matchData8000_30000.pckl', 'rb'))\n",
      "matches = convert_to_matches(all_match_data, matches)"
     ],
     "language": "python",
     "metadata": {},
     "outputs": [
      {
       "output_type": "stream",
       "stream": "stdout",
       "text": [
        "Reading first part...\n",
        "Reading second part...\n"
       ]
      }
     ],
     "prompt_number": 6
    },
    {
     "cell_type": "code",
     "collapsed": false,
     "input": [
      "print 'Reading third part...'\n",
      "all_match_data = pickle.load(open('matchData30000_34000.pckl', 'rb'))\n",
      "matches = convert_to_matches(all_match_data, matches)\n",
      "\n",
      "print 'Reading last part...'\n",
      "all_match_data = pickle.load(open('matchData34000_51632.pckl', 'rb'))\n",
      "matches = convert_to_matches(all_match_data, matches)"
     ],
     "language": "python",
     "metadata": {},
     "outputs": [
      {
       "output_type": "stream",
       "stream": "stdout",
       "text": [
        "Reading third part...\n",
        "Reading last part..."
       ]
      },
      {
       "output_type": "stream",
       "stream": "stdout",
       "text": [
        "\n"
       ]
      }
     ],
     "prompt_number": 7
    },
    {
     "cell_type": "markdown",
     "metadata": {},
     "source": [
      "When looking through the data, we noticed that there were quite a few None's appearing in our dataframe. After doing some digging, we found that some of the matches included 3 vs. 3 matches. Since the dynamic of 3 vs. 3 matches is quite different from 5 vs. 5 matches, we decided to take those rows out of our data frame. Additionally, some of the matches were unorthodox in the sense that the team composition did not have the 5 standard players (Top, Jungle, Mid, ADC, Support). In some cases, there were two junglers, or two mid-laners. Since we wanted to predict professional level games, we decided not to include those games as well, as those unorthodox team compositions never appear at the esports level. Thus we implemented the function `clean_data` to help us filter relevant games."
     ]
    },
    {
     "cell_type": "code",
     "collapsed": false,
     "input": [
      "\"\"\"\n",
      "Takes the data and filters out matches we do not care about\n",
      "Input:\n",
      "    matches: a 2-D list. Contains a list of all the matches, each of which is a list of information we specified above.\n",
      "Output:\n",
      "    match_data_df: a Pandas dataframe containing \n",
      "\"\"\"\n",
      "def clean_data(matches):\n",
      "    headers = ['Match ID', 'top1', 'jun1', 'mid1', 'adc1', 'sup1', 'top2', 'jun2', 'mid2', 'adc2', 'sup2', 'Gold Diff', 'Winner']\n",
      "    match_data_df = pd.DataFrame(matches,columns=headers)\n",
      "    for i in range(0, len(match_data_df.columns)):\n",
      "        match_data_df = match_data_df[match_data_df[match_data_df.columns[i]].isnull() == False]\n",
      "    match_data_df = match_data_df.reset_index(drop=True)\n",
      "    return match_data_df"
     ],
     "language": "python",
     "metadata": {},
     "outputs": [],
     "prompt_number": 8
    },
    {
     "cell_type": "markdown",
     "metadata": {},
     "source": [
      "Again, since loading the original json data took a long time (~1 hour), we decided to save the contents of this dataframe into a pickle file."
     ]
    },
    {
     "cell_type": "code",
     "collapsed": false,
     "input": [
      "# clean the data\n",
      "match_data_df = clean_data(matches)\n",
      "\n",
      "# save into a file\n",
      "f = open('matchSummary4000_end.pckl', 'w')\n",
      "pickle.dump(match_data_df, f)\n",
      "f.close()"
     ],
     "language": "python",
     "metadata": {},
     "outputs": [],
     "prompt_number": 11
    },
    {
     "cell_type": "markdown",
     "metadata": {},
     "source": [
      "Here's an example of what the dataframe looks like."
     ]
    },
    {
     "cell_type": "code",
     "collapsed": false,
     "input": [
      "match_data_df = pickle.load(open('matchSummary4000_end.pckl', 'rb'))\n",
      "match_data_df.head()"
     ],
     "language": "python",
     "metadata": {},
     "outputs": [
      {
       "html": [
        "<div style=\"max-height:1000px;max-width:1500px;overflow:auto;\">\n",
        "<table border=\"1\" class=\"dataframe\">\n",
        "  <thead>\n",
        "    <tr style=\"text-align: right;\">\n",
        "      <th></th>\n",
        "      <th>Match ID</th>\n",
        "      <th>top1</th>\n",
        "      <th>jun1</th>\n",
        "      <th>mid1</th>\n",
        "      <th>adc1</th>\n",
        "      <th>sup1</th>\n",
        "      <th>top2</th>\n",
        "      <th>jun2</th>\n",
        "      <th>mid2</th>\n",
        "      <th>adc2</th>\n",
        "      <th>sup2</th>\n",
        "      <th>Gold Diff</th>\n",
        "      <th>Winner</th>\n",
        "    </tr>\n",
        "  </thead>\n",
        "  <tbody>\n",
        "    <tr>\n",
        "      <th>0</th>\n",
        "      <td> 1516251192</td>\n",
        "      <td>  Jayce</td>\n",
        "      <td>        Elise</td>\n",
        "      <td>     Fizz</td>\n",
        "      <td>      Lucian</td>\n",
        "      <td> Blitzcrank</td>\n",
        "      <td>        Zed</td>\n",
        "      <td>   Khazix</td>\n",
        "      <td>   Katarina</td>\n",
        "      <td>    Corki</td>\n",
        "      <td>      Braum</td>\n",
        "      <td>    14</td>\n",
        "      <td> 1</td>\n",
        "    </tr>\n",
        "    <tr>\n",
        "      <th>1</th>\n",
        "      <td> 1386752062</td>\n",
        "      <td> Gragas</td>\n",
        "      <td> FiddleSticks</td>\n",
        "      <td> Katarina</td>\n",
        "      <td>      Lucian</td>\n",
        "      <td>     Thresh</td>\n",
        "      <td> MonkeyKing</td>\n",
        "      <td> Pantheon</td>\n",
        "      <td>      Kayle</td>\n",
        "      <td>    Varus</td>\n",
        "      <td>      Janna</td>\n",
        "      <td>-11522</td>\n",
        "      <td> 0</td>\n",
        "    </tr>\n",
        "    <tr>\n",
        "      <th>2</th>\n",
        "      <td> 1509304384</td>\n",
        "      <td>  Swain</td>\n",
        "      <td>      Warwick</td>\n",
        "      <td> Tristana</td>\n",
        "      <td>      Lucian</td>\n",
        "      <td>    Alistar</td>\n",
        "      <td>      Akali</td>\n",
        "      <td>  Trundle</td>\n",
        "      <td>       Fizz</td>\n",
        "      <td>    Corki</td>\n",
        "      <td> Blitzcrank</td>\n",
        "      <td>  3857</td>\n",
        "      <td> 1</td>\n",
        "    </tr>\n",
        "    <tr>\n",
        "      <th>3</th>\n",
        "      <td> 1536043075</td>\n",
        "      <td>  Akali</td>\n",
        "      <td>      Warwick</td>\n",
        "      <td>  Orianna</td>\n",
        "      <td>       Vayne</td>\n",
        "      <td>    Morgana</td>\n",
        "      <td>     Maokai</td>\n",
        "      <td> Pantheon</td>\n",
        "      <td>      Yasuo</td>\n",
        "      <td> Tristana</td>\n",
        "      <td>      Janna</td>\n",
        "      <td>-17505</td>\n",
        "      <td> 0</td>\n",
        "    </tr>\n",
        "    <tr>\n",
        "      <th>4</th>\n",
        "      <td> 1533159493</td>\n",
        "      <td>  Yasuo</td>\n",
        "      <td>     JarvanIV</td>\n",
        "      <td>  Orianna</td>\n",
        "      <td> MissFortune</td>\n",
        "      <td>       Nami</td>\n",
        "      <td>      Riven</td>\n",
        "      <td>  Hecarim</td>\n",
        "      <td> Cassiopeia</td>\n",
        "      <td>   Lucian</td>\n",
        "      <td>     Thresh</td>\n",
        "      <td>-11915</td>\n",
        "      <td> 0</td>\n",
        "    </tr>\n",
        "  </tbody>\n",
        "</table>\n",
        "</div>"
       ],
       "metadata": {},
       "output_type": "pyout",
       "prompt_number": 4,
       "text": [
        "     Match ID    top1          jun1      mid1         adc1        sup1  \\\n",
        "0  1516251192   Jayce         Elise      Fizz       Lucian  Blitzcrank   \n",
        "1  1386752062  Gragas  FiddleSticks  Katarina       Lucian      Thresh   \n",
        "2  1509304384   Swain       Warwick  Tristana       Lucian     Alistar   \n",
        "3  1536043075   Akali       Warwick   Orianna        Vayne     Morgana   \n",
        "4  1533159493   Yasuo      JarvanIV   Orianna  MissFortune        Nami   \n",
        "\n",
        "         top2      jun2        mid2      adc2        sup2  Gold Diff  Winner  \n",
        "0         Zed    Khazix    Katarina     Corki       Braum         14       1  \n",
        "1  MonkeyKing  Pantheon       Kayle     Varus       Janna     -11522       0  \n",
        "2       Akali   Trundle        Fizz     Corki  Blitzcrank       3857       1  \n",
        "3      Maokai  Pantheon       Yasuo  Tristana       Janna     -17505       0  \n",
        "4       Riven   Hecarim  Cassiopeia    Lucian      Thresh     -11915       0  "
       ]
      }
     ],
     "prompt_number": 4
    },
    {
     "cell_type": "markdown",
     "metadata": {},
     "source": [
      "#MERGING STUFF HERE"
     ]
    },
    {
     "cell_type": "code",
     "collapsed": false,
     "input": [
      "# define column names of two teams\n",
      "team1_names = ['top1', 'jun1', 'mid1', 'adc1', 'sup1']\n",
      "team2_names = ['top2', 'jun2', 'mid2', 'adc2', 'sup2']\n",
      "\n",
      "# define function to return all possible pairs of champs\n",
      "\"\"\"\n",
      "Finds all possible \n",
      "\"\"\"\n",
      "def combination2(team1, team2, matches):\n",
      "    title = ['champ1', 'champ2', 'W', 'ID']\n",
      "    # number of matches in data set\n",
      "    num = len(matches)\n",
      "    data = pd.DataFrame(index=range(0, 20*num), columns=title)\n",
      "    champ1_list = []\n",
      "    champ2_list = []\n",
      "    win = []\n",
      "    ids = []\n",
      "    for p in range(0, len(matches['top1'])): \n",
      "        for i in range(0,len(team1)):\n",
      "            for j in range(i+1, len(team1)):\n",
      "                champ1_list.append(sorted([matches[team1[i]][p], matches[team1[j]][p]])[0])\n",
      "                champ2_list.append(sorted([matches[team1[i]][p], matches[team1[j]][p]])[1])\n",
      "                win.append(matches['Winner'][p] == 1)\n",
      "                ids.append(team1_names[i]+team1_names[j])\n",
      "        if (p % 5000 == 0):\n",
      "            print p\n",
      "    for p in range(0, len(matches['top1'])): \n",
      "        for i in range(0,len(team2)):\n",
      "            for j in range(i+1, len(team2)):\n",
      "                champ1_list.append(sorted([matches[team2[i]][p], matches[team2[j]][p]])[0])\n",
      "                champ2_list.append(sorted([matches[team2[i]][p], matches[team2[j]][p]])[1])\n",
      "                win.append(matches['Winner'][p] == 0)\n",
      "                ids.append(team2_names[i]+team2_names[j])\n",
      "        if (p % 5000 == 0):\n",
      "            print p\n",
      "    data['champ1'] = champ1_list\n",
      "    data['champ2'] = champ2_list\n",
      "    data['W'] = win\n",
      "    data['ID'] = ids\n",
      "    return data\n",
      "\n",
      "# define function to calculate historical win percentage of each pair\n",
      "def pair_winpercent(champ_pairs, cutoff=0):\n",
      "    pairlist = pd.DataFrame(champ_pairs)\n",
      "    pairlist = pairlist.drop_duplicates(subset=['champ1', 'champ2']).reset_index(drop=True)\n",
      "    pairlist['Wins'] = ''\n",
      "    pairlist['Matches'] = ''\n",
      "    pairlist['Win_percent'] = ''\n",
      "    for i in range(0, len(pairlist)):\n",
      "        if (i % 4000 == 0):\n",
      "            print i\n",
      "        filteredlist = champ_pairs[(champ_pairs['champ1'] == pairlist['champ1'][i]) & (champ_pairs['champ2'] == pairlist['champ2'][i])]\n",
      "        pairlist['Wins'][i] = len(filteredlist[filteredlist['W'] == True])\n",
      "        pairlist['Matches'][i] = len(filteredlist)\n",
      "        pairlist['Win_percent'][i] = np.round(1.0*pairlist['Wins'][i]/pairlist['Matches'][i], 2)\n",
      "    pairlist = pairlist.drop('W', 1).drop('ID', 1).sort(columns='champ2').sort(columns='champ1').reset_index(drop=True)\n",
      "    return pairlist[pairlist['Matches'] >= cutoff].reset_index(drop=True)\n",
      "\n",
      "## Combinations of 3 ##\n",
      "\n",
      "# define function to return all possible triples of champs\n",
      "def combination3(team1, team2, matches):\n",
      "    title = ['champ1','champ2','champ3','W','ID']\n",
      "    num = len(matches)\n",
      "    data = pd.DataFrame(index=range(0, 20*num), columns=title)\n",
      "    champ1_list = []\n",
      "    champ2_list = []\n",
      "    champ3_list = []\n",
      "    win = []\n",
      "    ids = []\n",
      "    for p in range(0, len(matches['top1'])): \n",
      "        for i in range(0,len(team1)):\n",
      "            for j in range(i+1, len(team1)):\n",
      "                for k in range(j+1, len(team1)):\n",
      "                    temp = sorted([matches[team1[i]][p], matches[team1[j]][p], matches[team1[k]][p]])\n",
      "                    champ1_list.append(temp[0])\n",
      "                    champ2_list.append(temp[1])\n",
      "                    champ3_list.append(temp[2])\n",
      "                    win.append(matches['Winner'][p] == 1)\n",
      "                    ids.append(team1_names[i]+team1_names[j]+team1_names[k])\n",
      "        if (p % 5000 == 0):\n",
      "            print p\n",
      "    for p in range(0, len(matches['top1'])): \n",
      "        for i in range(0,len(team2)):\n",
      "            for j in range(i+1, len(team2)):\n",
      "                for k in range(j+1, len(team2)):\n",
      "                    temp = sorted([matches[team2[i]][p], matches[team2[j]][p], matches[team2[k]][p]])\n",
      "                    champ1_list.append(temp[0])\n",
      "                    champ2_list.append(temp[1])\n",
      "                    champ3_list.append(temp[2])\n",
      "                    win.append(matches['Winner'][p] == 0)\n",
      "                    ids.append(team2_names[i]+team2_names[j]+team2_names[k])\n",
      "        if (p % 5000 == 0):\n",
      "            print p\n",
      "    data['champ1'] = champ1_list\n",
      "    data['champ2'] = champ2_list\n",
      "    data['champ3'] = champ3_list\n",
      "    data['W'] = win\n",
      "    data['ID'] = ids\n",
      "    return data\n",
      "\n",
      "# define function to calculate historical win percentage of each pair\n",
      "def triple_winpercent(champ_triples, cutoff=0):\n",
      "    triplelist = pd.DataFrame(champ_triples)\n",
      "    triplelist = triplelist.drop_duplicates(subset=['champ1', 'champ2', 'champ3']).reset_index(drop=True)\n",
      "    triplelist['Wins'] = ''\n",
      "    triplelist['Matches'] = ''\n",
      "    triplelist['Win_percent'] = ''\n",
      "    for i in range(0, len(triplelist)):\n",
      "        if (i % 4000 == 0):\n",
      "            print i\n",
      "        filteredlist = champ_triples[(champ_triples['champ1'] == triplelist['champ1'][i]) & (champ_triples['champ2'] == triplelist['champ2'][i]) & (champ_triples['champ3'] == triplelist['champ3'][i])]\n",
      "        triplelist['Wins'][i] = len(filteredlist[filteredlist['W'] == True])\n",
      "        triplelist['Matches'][i] = len(filteredlist)\n",
      "        triplelist['Win_percent'][i] = np.round(1.0*triplelist['Wins'][i]/triplelist['Matches'][i], 2)\n",
      "    triplelist = triplelist.drop('W', 1).drop('ID', 1).sort(columns='champ3').sort(columns='champ2').sort(columns='champ1').reset_index(drop=True)\n",
      "    return triplelist[triplelist['Matches'] >= cutoff].reset_index(drop=True)\n",
      "\n",
      "# filter lists for unique pairs and triples\n",
      "\n",
      "category = ['top1', 'jun1', 'mid1', 'adc1', 'sup1', 'top2', 'jun2', 'mid2', 'adc2', 'sup2', 'Winner']\n",
      "\n",
      "# define function to calculate win percentages of all combinations for each match \n",
      "# def create_prob(champ_pairs, champ_triples, pairlist, triplelist, final_comb, num):\n",
      "def create_prob(champ_pairs, pairlist, final_comb, num):\n",
      "    count_x = 0\n",
      "    count_y = 0\n",
      "    pos_comb = pd.DataFrame(index=range(0,num), columns=final_comb)\n",
      "    for i in range(0, len(final_comb)):\n",
      "        print i\n",
      "#         if (len(final_comb[i]) == 12):\n",
      "#             filtered = champ_triples[champ_triples['ID'] == final_comb[i]].reset_index(drop=True)    \n",
      "#         else:\n",
      "        \n",
      "        filtered = champ_pairs[champ_pairs['ID'] == final_comb[i]].reset_index(drop=True)  \n",
      "        array = []\n",
      "        for j in range(0, len(filtered)):\n",
      "#             if (len(final_comb[i]) == 12):\n",
      "#                 temp = triplelist[(triplelist['champ1'] == filtered['champ1'][j]) & (triplelist['champ2'] == filtered['champ2'][j]) & (triplelist['champ3'] == filtered['champ3'][j])].reset_index(drop=True)['Win_percent']\n",
      "#                 if (len(temp) > 0):\n",
      "#                     array.append(temp[0])\n",
      "#                     count_x += 1\n",
      "#                     count_y += 1\n",
      "#                 else:\n",
      "#                     array.append(0.5)\n",
      "#                     count_y += 1\n",
      "#             else:\n",
      "            temp = pairlist[(pairlist['champ1'] == filtered['champ1'][j]) & (pairlist['champ2'] == filtered['champ2'][j])].reset_index(drop=True)['Win_percent']\n",
      "            if (len(temp) > 0):\n",
      "                array.append(temp[0])\n",
      "                count_x += 1\n",
      "                count_y += 1\n",
      "            else:\n",
      "                array.append(0.5)\n",
      "                count_y += 1\n",
      "        pos_comb[final_comb[i]] = array\n",
      "    print np.round(100.0*count_x/count_y, 2)\n",
      "    return pos_comb"
     ],
     "language": "python",
     "metadata": {},
     "outputs": [],
     "prompt_number": 5
    },
    {
     "cell_type": "code",
     "collapsed": false,
     "input": [
      "matchSummary = pickle.load(open('matchSummary4000_end.pckl', 'rb'))\n",
      "index1 = int(0.8*len(matchSummary))\n",
      "index2 = int(0.97*len(matchSummary))\n",
      "table = matchSummary[0:index1]\n",
      "train = matchSummary[index1:index2].reset_index(drop=True)\n",
      "test = matchSummary[index2:len(matchSummary)].reset_index(drop=True)\n",
      "\n",
      "\n",
      "\n",
      "lookup_table2 = pickle.load(open('lookuptable2.pckl', 'rb'))\n",
      "lookup_table3 = pickle.load(open('lookuptable3.pckl', 'rb'))"
     ],
     "language": "python",
     "metadata": {},
     "outputs": [],
     "prompt_number": 7
    },
    {
     "cell_type": "code",
     "collapsed": false,
     "input": [
      "index1 = int(0.6*len(matchSummary))\n",
      "index2 = int(0.94*len(matchSummary))\n",
      "table = matchSummary[0:index1]\n",
      "train = matchSummary[index1:index2].reset_index(drop=True)\n",
      "test = matchSummary[index2:len(matchSummary)].reset_index(drop=True)"
     ],
     "language": "python",
     "metadata": {},
     "outputs": [],
     "prompt_number": 8
    },
    {
     "cell_type": "code",
     "collapsed": false,
     "input": [
      "emp2 = [0]*40\n",
      "size2 = len(lookup_table2)\n",
      "\n",
      "for i in range(1, len(emp2)):\n",
      "    emp2[i] = emp2[i-1] + 1.0*len(lookup_table2[lookup_table2['Matches'] == i])/size2\n",
      "    \n",
      "plt.plot(emp2)\n",
      "plt.title('Two Pairs')\n",
      "plt.show()"
     ],
     "language": "python",
     "metadata": {},
     "outputs": [
      {
       "metadata": {},
       "output_type": "display_data",
       "png": "[encoded data removed]",
       "text": [
        "<matplotlib.figure.Figure at 0x10642bd50>"
       ]
      }
     ],
     "prompt_number": 9
    },
    {
     "cell_type": "code",
     "collapsed": false,
     "input": [
      "## no need to run \n",
      "pairings = combination2(team1_names, team2_names, table)\n",
      "# triples = combination3(team1_names, team2_names, table)"
     ],
     "language": "python",
     "metadata": {},
     "outputs": [
      {
       "output_type": "stream",
       "stream": "stdout",
       "text": [
        "0\n",
        "5000"
       ]
      },
      {
       "output_type": "stream",
       "stream": "stdout",
       "text": [
        "\n",
        "10000"
       ]
      },
      {
       "output_type": "stream",
       "stream": "stdout",
       "text": [
        "\n",
        "15000"
       ]
      },
      {
       "output_type": "stream",
       "stream": "stdout",
       "text": [
        "\n",
        "20000"
       ]
      },
      {
       "output_type": "stream",
       "stream": "stdout",
       "text": [
        "\n",
        "0"
       ]
      },
      {
       "output_type": "stream",
       "stream": "stdout",
       "text": [
        "\n",
        "5000"
       ]
      },
      {
       "output_type": "stream",
       "stream": "stdout",
       "text": [
        "\n",
        "10000"
       ]
      },
      {
       "output_type": "stream",
       "stream": "stdout",
       "text": [
        "\n",
        "15000"
       ]
      },
      {
       "output_type": "stream",
       "stream": "stdout",
       "text": [
        "\n",
        "20000"
       ]
      },
      {
       "output_type": "stream",
       "stream": "stdout",
       "text": [
        "\n"
       ]
      }
     ],
     "prompt_number": 10
    },
    {
     "cell_type": "code",
     "collapsed": false,
     "input": [
      "## no need to run\n",
      "comb_list2 = pairings['ID'].drop_duplicates().reset_index(drop=True)\n",
      "# comb_list3 = triples['ID'].drop_duplicates().reset_index(drop=True)\n",
      "# final_comb = comb_list2.append(comb_list3).reset_index(drop=True)"
     ],
     "language": "python",
     "metadata": {},
     "outputs": [],
     "prompt_number": 11
    },
    {
     "cell_type": "code",
     "collapsed": false,
     "input": [
      "# lookup_table2 = pair_winpercent(pairings)\n",
      "\n",
      "f = open('lookuptable2_60.pckl', 'w')\n",
      "pickle.dump(lookup_table2,f)\n",
      "f.close()\n",
      "\n",
      "# lookup_table3 = triple_winpercent(triples)\n",
      "\n",
      "# f2 = open('lookuptable3.pckl', 'w')\n",
      "# pickle.dump(lookup_table3,f2)\n",
      "# f2.close()"
     ],
     "language": "python",
     "metadata": {},
     "outputs": []
    },
    {
     "cell_type": "code",
     "collapsed": false,
     "input": [
      "emp3 = [0]*40\n",
      "size3 = len(lookup_table3)\n",
      "\n",
      "for i in range(1, len(emp3)):\n",
      "    emp3[i] = emp3[i-1] + 1.0*len(lookup_table3[lookup_table3['Matches'] == i])/size3\n",
      "\n",
      "\n",
      "plt.plot(emp3)\n",
      "plt.title('Three Pairs')\n",
      "plt.show()"
     ],
     "language": "python",
     "metadata": {},
     "outputs": []
    },
    {
     "cell_type": "code",
     "collapsed": false,
     "input": [
      "## CREATE TRAINING DATA\n",
      "trim_lookup2 = lookup_table2[lookup_table2['Matches'] >= 5].reset_index(drop=True)\n",
      "pairings_train = combination2(team1_names, team2_names, train)\n",
      "train_data = create_prob(pairings_train, trim_lookup2, comb_list2, len(train))\n",
      "\n",
      "## 3 DATA ##\n",
      "# triples_test = combination3(team1_names, team2_names, train)\n",
      "# test_data = create_prob(pairings_test, triples_test, trim_lookup2, trim_lookup3, final_comb, len(train))\n",
      "# trim_lookup3 = lookup_table3[lookup_table3['Matches'] >= 3 ].reset_index(drop=True)"
     ],
     "language": "python",
     "metadata": {},
     "outputs": []
    },
    {
     "cell_type": "code",
     "collapsed": false,
     "input": [
      "## set up for cross fold on training data\n",
      "X = train_data.as_matrix()\n",
      "Y = np.array(train['Winner'])"
     ],
     "language": "python",
     "metadata": {},
     "outputs": []
    },
    {
     "cell_type": "code",
     "collapsed": false,
     "input": [
      "## change to gold difference\n",
      "score = [0]*20\n",
      "for i in range(0, len(score)):\n",
      "    score[i] = cross_val_score(RandomForestClassifier(n_estimators=i+1), X, Y, cv=10)\n",
      "plt.figure(figsize=(15,5),facecolor='w') \n",
      "sns.boxplot(score)\n",
      "plt.title('Number of trees versus accuracy boxplot')\n",
      "plt.xlabel('Number of trees')\n",
      "plt.ylabel('Accuracy')"
     ],
     "language": "python",
     "metadata": {},
     "outputs": []
    },
    {
     "cell_type": "code",
     "collapsed": false,
     "input": [
      "## set up testing data\n",
      "pairings_test = combination2(team1_names, team2_names, test)\n",
      "test_data = create_prob(pairings_test, trim_lookup2, comb_list2, len(test))"
     ],
     "language": "python",
     "metadata": {},
     "outputs": []
    },
    {
     "cell_type": "code",
     "collapsed": false,
     "input": [
      "## test and print output\n",
      "X_test = test_data.as_matrix()\n",
      "forest_train = RandomForestClassifier(n_estimators=25).fit(X, Y)\n",
      "predicted = forest_train.predict(X_test)\n",
      "\n",
      "numer = 0\n",
      "denom = 0\n",
      "for i in range(0, len(predicted)):\n",
      "    denom += 1\n",
      "    if (predicted[i] == test['Winner'][i]):\n",
      "        numer +=1\n",
      "        \n",
      "print 1.0*numer/denom"
     ],
     "language": "python",
     "metadata": {},
     "outputs": []
    },
    {
     "cell_type": "code",
     "collapsed": false,
     "input": [],
     "language": "python",
     "metadata": {},
     "outputs": []
    },
    {
     "cell_type": "code",
     "collapsed": false,
     "input": [
      "### part 1\n",
      "\n",
      "## Combinations of 2 ##\n",
      "category = ['A1', 'A2', 'A3', 'A4', 'A5', 'B1', 'B2', 'B3', 'B4', 'B5', 'Winner']\n",
      "\n",
      "num = 5\n",
      "candidates = pd.DataFrame(index=range(0,num), columns=category)\n",
      "\n",
      "import random\n",
      "for i in range(0, len(category)):\n",
      "        candidates[category[i]] = random.sample(range(1, 6), num)\n",
      "        \n",
      "candidates['Winner'] = [0, 1, 1, 0, 0]\n",
      "\n",
      "## 0 means A, 1 means B ##\n",
      "candidates\n",
      "\n",
      "a = ['A1', 'A2', 'A3', 'A4', 'A5']\n",
      "b = ['B1', 'B2', 'B3', 'B4', 'B5']\n",
      "\n",
      "def combination(item, item2):\n",
      "    title = ['A', 'B', 'W']\n",
      "    data = pd.DataFrame(index=range(0, 20*num), columns=title)\n",
      "    outputa = []\n",
      "    outputb = []\n",
      "    win = []\n",
      "    for p in range(0, len(candidates['A1'])): \n",
      "        for i in range(0,len(item)):\n",
      "            for j in range(i+1, len(item)):\n",
      "                outputa.append(sorted([candidates[item[i]][p], candidates[item[j]][p]])[0])\n",
      "                outputb.append(sorted([candidates[item[i]][p], candidates[item[j]][p]])[1])\n",
      "                win.append(candidates['Winner'][p] == 0)\n",
      "    for p in range(0, len(candidates['A1'])): \n",
      "        for i in range(0,len(item2)):\n",
      "            for j in range(i+1, len(item2)):\n",
      "                outputa.append(sorted([candidates[item2[i]][p], candidates[item2[j]][p]])[0])\n",
      "                outputb.append(sorted([candidates[item2[i]][p], candidates[item2[j]][p]])[1])\n",
      "                win.append(candidates['Winner'][p] == 1)\n",
      "    data['A'] = outputa\n",
      "    data['B'] = outputb\n",
      "    data['W'] = win\n",
      "    return data\n",
      "\n",
      "outa = combination(a, b)\n",
      "newlist = pd.DataFrame(outa)\n",
      "newlist = newlist.drop_duplicates(subset=['A', 'B']).reset_index(drop=True)\n",
      "\n",
      "# print newlist\n",
      "newlist['Wins'] = ''\n",
      "newlist['Matches'] = ''\n",
      "newlist['Percent'] = ''\n",
      "for i in range(0, len(newlist)):\n",
      "    item = outa[(outa['A'] == newlist['A'][i]) & (outa['B'] == newlist['B'][i])]\n",
      "    newlist['Wins'][i] = len(item[item['W'] == True])\n",
      "    newlist['Matches'][i] = len(item)\n",
      "    newlist['Percent'][i] = np.round(1.0*newlist['Wins'][i]/newlist['Matches'][i], 2)\n",
      "    \n",
      "newlist = newlist.drop('W', 1).sort(columns='B').sort(columns='A').reset_index(drop=True)\n",
      "newlist\n"
     ],
     "language": "python",
     "metadata": {},
     "outputs": [
      {
       "html": [
        "<div style=\"max-height:1000px;max-width:1500px;overflow:auto;\">\n",
        "<table border=\"1\" class=\"dataframe\">\n",
        "  <thead>\n",
        "    <tr style=\"text-align: right;\">\n",
        "      <th></th>\n",
        "      <th>A</th>\n",
        "      <th>B</th>\n",
        "      <th>Wins</th>\n",
        "      <th>Matches</th>\n",
        "      <th>Percent</th>\n",
        "    </tr>\n",
        "  </thead>\n",
        "  <tbody>\n",
        "    <tr>\n",
        "      <th>0 </th>\n",
        "      <td> 1</td>\n",
        "      <td> 1</td>\n",
        "      <td> 2</td>\n",
        "      <td>  3</td>\n",
        "      <td> 0.67</td>\n",
        "    </tr>\n",
        "    <tr>\n",
        "      <th>1 </th>\n",
        "      <td> 1</td>\n",
        "      <td> 2</td>\n",
        "      <td> 4</td>\n",
        "      <td>  6</td>\n",
        "      <td> 0.67</td>\n",
        "    </tr>\n",
        "    <tr>\n",
        "      <th>2 </th>\n",
        "      <td> 1</td>\n",
        "      <td> 3</td>\n",
        "      <td> 5</td>\n",
        "      <td>  7</td>\n",
        "      <td> 0.71</td>\n",
        "    </tr>\n",
        "    <tr>\n",
        "      <th>3 </th>\n",
        "      <td> 1</td>\n",
        "      <td> 4</td>\n",
        "      <td> 9</td>\n",
        "      <td> 11</td>\n",
        "      <td> 0.82</td>\n",
        "    </tr>\n",
        "    <tr>\n",
        "      <th>4 </th>\n",
        "      <td> 1</td>\n",
        "      <td> 5</td>\n",
        "      <td> 6</td>\n",
        "      <td> 10</td>\n",
        "      <td>  0.6</td>\n",
        "    </tr>\n",
        "    <tr>\n",
        "      <th>5 </th>\n",
        "      <td> 2</td>\n",
        "      <td> 2</td>\n",
        "      <td> 1</td>\n",
        "      <td>  3</td>\n",
        "      <td> 0.33</td>\n",
        "    </tr>\n",
        "    <tr>\n",
        "      <th>6 </th>\n",
        "      <td> 2</td>\n",
        "      <td> 3</td>\n",
        "      <td> 4</td>\n",
        "      <td> 10</td>\n",
        "      <td>  0.4</td>\n",
        "    </tr>\n",
        "    <tr>\n",
        "      <th>7 </th>\n",
        "      <td> 2</td>\n",
        "      <td> 4</td>\n",
        "      <td> 3</td>\n",
        "      <td>  7</td>\n",
        "      <td> 0.43</td>\n",
        "    </tr>\n",
        "    <tr>\n",
        "      <th>8 </th>\n",
        "      <td> 2</td>\n",
        "      <td> 5</td>\n",
        "      <td> 3</td>\n",
        "      <td> 11</td>\n",
        "      <td> 0.27</td>\n",
        "    </tr>\n",
        "    <tr>\n",
        "      <th>9 </th>\n",
        "      <td> 3</td>\n",
        "      <td> 3</td>\n",
        "      <td> 0</td>\n",
        "      <td>  2</td>\n",
        "      <td>    0</td>\n",
        "    </tr>\n",
        "    <tr>\n",
        "      <th>10</th>\n",
        "      <td> 3</td>\n",
        "      <td> 4</td>\n",
        "      <td> 4</td>\n",
        "      <td> 10</td>\n",
        "      <td>  0.4</td>\n",
        "    </tr>\n",
        "    <tr>\n",
        "      <th>11</th>\n",
        "      <td> 3</td>\n",
        "      <td> 5</td>\n",
        "      <td> 3</td>\n",
        "      <td>  9</td>\n",
        "      <td> 0.33</td>\n",
        "    </tr>\n",
        "    <tr>\n",
        "      <th>12</th>\n",
        "      <td> 4</td>\n",
        "      <td> 4</td>\n",
        "      <td> 2</td>\n",
        "      <td>  2</td>\n",
        "      <td>    1</td>\n",
        "    </tr>\n",
        "    <tr>\n",
        "      <th>13</th>\n",
        "      <td> 4</td>\n",
        "      <td> 5</td>\n",
        "      <td> 4</td>\n",
        "      <td>  8</td>\n",
        "      <td>  0.5</td>\n",
        "    </tr>\n",
        "    <tr>\n",
        "      <th>14</th>\n",
        "      <td> 5</td>\n",
        "      <td> 5</td>\n",
        "      <td> 0</td>\n",
        "      <td>  1</td>\n",
        "      <td>    0</td>\n",
        "    </tr>\n",
        "  </tbody>\n",
        "</table>\n",
        "</div>"
       ],
       "metadata": {},
       "output_type": "pyout",
       "prompt_number": 9,
       "text": [
        "    A  B Wins Matches Percent\n",
        "0   1  1    2       3    0.67\n",
        "1   1  2    4       6    0.67\n",
        "2   1  3    5       7    0.71\n",
        "3   1  4    9      11    0.82\n",
        "4   1  5    6      10     0.6\n",
        "5   2  2    1       3    0.33\n",
        "6   2  3    4      10     0.4\n",
        "7   2  4    3       7    0.43\n",
        "8   2  5    3      11    0.27\n",
        "9   3  3    0       2       0\n",
        "10  3  4    4      10     0.4\n",
        "11  3  5    3       9    0.33\n",
        "12  4  4    2       2       1\n",
        "13  4  5    4       8     0.5\n",
        "14  5  5    0       1       0"
       ]
      }
     ],
     "prompt_number": 9
    },
    {
     "cell_type": "code",
     "collapsed": false,
     "input": [
      "#### part 2\n",
      "\n",
      "## Combinations of 1 ##\n",
      "\n",
      "def combination2(item, item2):\n",
      "    title = ['A', 'W']\n",
      "    data = pd.DataFrame(index=range(0, 10*num), columns=title)\n",
      "    outputa = []\n",
      "    win = []\n",
      "    for p in range(0, len(candidates['A1'])): \n",
      "        for i in range(0,len(item)):\n",
      "            outputa.append(candidates[item[i]][p])\n",
      "            win.append(candidates['Winner'][p] == 0)\n",
      "    for p in range(0, len(candidates['A1'])): \n",
      "        for i in range(0,len(item2)):\n",
      "            outputa.append(candidates[item2[i]][p])\n",
      "            win.append(candidates['Winner'][p] == 1)\n",
      "    data['A'] = outputa\n",
      "    data['W'] = win\n",
      "    return data\n",
      "\n",
      "outa = combination2(a, b)\n",
      "newlist = pd.DataFrame(outa)\n",
      "newlist = newlist.drop_duplicates(subset=['A']).reset_index(drop=True)\n",
      "\n",
      "# print newlist\n",
      "newlist['Wins'] = ''\n",
      "newlist['Matches'] = ''\n",
      "newlist['Percent'] = ''\n",
      "for i in range(0, len(newlist)):\n",
      "    item = outa[(outa['A'] == newlist['A'][i])]\n",
      "    newlist['Wins'][i] = len(item[item['W'] == True])\n",
      "    newlist['Matches'][i] = len(item)\n",
      "    newlist['Percent'][i] = np.round(1.0*newlist['Wins'][i]/newlist['Matches'][i], 2)\n",
      "    \n",
      "newlist = newlist.drop('W', 1).sort(columns='A').reset_index(drop=True)\n",
      "newlist"
     ],
     "language": "python",
     "metadata": {},
     "outputs": [
      {
       "html": [
        "<div style=\"max-height:1000px;max-width:1500px;overflow:auto;\">\n",
        "<table border=\"1\" class=\"dataframe\">\n",
        "  <thead>\n",
        "    <tr style=\"text-align: right;\">\n",
        "      <th></th>\n",
        "      <th>A</th>\n",
        "      <th>Wins</th>\n",
        "      <th>Matches</th>\n",
        "      <th>Percent</th>\n",
        "    </tr>\n",
        "  </thead>\n",
        "  <tbody>\n",
        "    <tr>\n",
        "      <th>0</th>\n",
        "      <td> 1</td>\n",
        "      <td> 7</td>\n",
        "      <td> 10</td>\n",
        "      <td> 0.7</td>\n",
        "    </tr>\n",
        "    <tr>\n",
        "      <th>1</th>\n",
        "      <td> 2</td>\n",
        "      <td> 4</td>\n",
        "      <td> 10</td>\n",
        "      <td> 0.4</td>\n",
        "    </tr>\n",
        "    <tr>\n",
        "      <th>2</th>\n",
        "      <td> 3</td>\n",
        "      <td> 4</td>\n",
        "      <td> 10</td>\n",
        "      <td> 0.4</td>\n",
        "    </tr>\n",
        "    <tr>\n",
        "      <th>3</th>\n",
        "      <td> 4</td>\n",
        "      <td> 6</td>\n",
        "      <td> 10</td>\n",
        "      <td> 0.6</td>\n",
        "    </tr>\n",
        "    <tr>\n",
        "      <th>4</th>\n",
        "      <td> 5</td>\n",
        "      <td> 4</td>\n",
        "      <td> 10</td>\n",
        "      <td> 0.4</td>\n",
        "    </tr>\n",
        "  </tbody>\n",
        "</table>\n",
        "</div>"
       ],
       "metadata": {},
       "output_type": "pyout",
       "prompt_number": 10,
       "text": [
        "   A Wins Matches Percent\n",
        "0  1    7      10     0.7\n",
        "1  2    4      10     0.4\n",
        "2  3    4      10     0.4\n",
        "3  4    6      10     0.6\n",
        "4  5    4      10     0.4"
       ]
      }
     ],
     "prompt_number": 10
    },
    {
     "cell_type": "code",
     "collapsed": false,
     "input": [
      "## part 3 ##\n",
      "\n",
      "## Combinations of 3 ##\n",
      "\n",
      "def combination3(item, item2):\n",
      "    title = ['A', 'B', 'C', 'W']\n",
      "    data = pd.DataFrame(index=range(0, 20*num), columns=title)\n",
      "    outputa = []\n",
      "    outputb = []\n",
      "    outputc = []\n",
      "    win = []\n",
      "    for p in range(0, len(candidates['A1'])): \n",
      "        for i in range(0,len(item)):\n",
      "            for j in range(i+1, len(item)):\n",
      "                for k in range(j+1, len(item)):\n",
      "                    temp = sorted([candidates[item[i]][p], candidates[item[j]][p], candidates[item[k]][p]])\n",
      "                    outputa.append(temp[0])\n",
      "                    outputb.append(temp[1])\n",
      "                    outputc.append(temp[2])\n",
      "                    win.append(candidates['Winner'][p] == 0)\n",
      "    for p in range(0, len(candidates['A1'])): \n",
      "        for i in range(0,len(item2)):\n",
      "            for j in range(i+1, len(item2)):\n",
      "                for k in range(j+1, len(item2)):\n",
      "                    temp = sorted([candidates[item2[i]][p], candidates[item2[j]][p], candidates[item2[k]][p]])\n",
      "                    outputa.append(temp[0])\n",
      "                    outputb.append(temp[1])\n",
      "                    outputc.append(temp[2])\n",
      "                    win.append(candidates['Winner'][p] == 1)\n",
      "    data['A'] = outputa\n",
      "    data['B'] = outputb\n",
      "    data['C'] = outputc\n",
      "    data['W'] = win\n",
      "    return data\n",
      "\n",
      "outa = combination3(a, b)\n",
      "newlist = pd.DataFrame(outa)\n",
      "newlist = newlist.drop_duplicates(subset=['A', 'B', 'C']).reset_index(drop=True)\n",
      "\n",
      "# print newlist\n",
      "newlist['Wins'] = ''\n",
      "newlist['Matches'] = ''\n",
      "newlist['Percent'] = ''\n",
      "for i in range(0, len(newlist)):\n",
      "    item = outa[(outa['A'] == newlist['A'][i]) & (outa['B'] == newlist['B'][i]) & (outa['C'] == newlist['C'][i])]\n",
      "    newlist['Wins'][i] = len(item[item['W'] == True])\n",
      "    newlist['Matches'][i] = len(item)\n",
      "    newlist['Percent'][i] = np.round(1.0*newlist['Wins'][i]/newlist['Matches'][i], 2)\n",
      "    \n",
      "newlist = newlist.drop('W', 1).sort(columns='C').sort(columns='B').sort(columns='A').reset_index(drop=True)\n",
      "newlist"
     ],
     "language": "python",
     "metadata": {},
     "outputs": [
      {
       "html": [
        "<div style=\"max-height:1000px;max-width:1500px;overflow:auto;\">\n",
        "<table border=\"1\" class=\"dataframe\">\n",
        "  <thead>\n",
        "    <tr style=\"text-align: right;\">\n",
        "      <th></th>\n",
        "      <th>A</th>\n",
        "      <th>B</th>\n",
        "      <th>C</th>\n",
        "      <th>Wins</th>\n",
        "      <th>Matches</th>\n",
        "      <th>Percent</th>\n",
        "    </tr>\n",
        "  </thead>\n",
        "  <tbody>\n",
        "    <tr>\n",
        "      <th>0 </th>\n",
        "      <td> 1</td>\n",
        "      <td> 1</td>\n",
        "      <td> 3</td>\n",
        "      <td> 1</td>\n",
        "      <td> 2</td>\n",
        "      <td>  0.5</td>\n",
        "    </tr>\n",
        "    <tr>\n",
        "      <th>1 </th>\n",
        "      <td> 1</td>\n",
        "      <td> 1</td>\n",
        "      <td> 4</td>\n",
        "      <td> 3</td>\n",
        "      <td> 4</td>\n",
        "      <td> 0.75</td>\n",
        "    </tr>\n",
        "    <tr>\n",
        "      <th>2 </th>\n",
        "      <td> 1</td>\n",
        "      <td> 1</td>\n",
        "      <td> 5</td>\n",
        "      <td> 2</td>\n",
        "      <td> 3</td>\n",
        "      <td> 0.67</td>\n",
        "    </tr>\n",
        "    <tr>\n",
        "      <th>3 </th>\n",
        "      <td> 1</td>\n",
        "      <td> 2</td>\n",
        "      <td> 2</td>\n",
        "      <td> 1</td>\n",
        "      <td> 2</td>\n",
        "      <td>  0.5</td>\n",
        "    </tr>\n",
        "    <tr>\n",
        "      <th>4 </th>\n",
        "      <td> 1</td>\n",
        "      <td> 2</td>\n",
        "      <td> 3</td>\n",
        "      <td> 4</td>\n",
        "      <td> 4</td>\n",
        "      <td>    1</td>\n",
        "    </tr>\n",
        "    <tr>\n",
        "      <th>5 </th>\n",
        "      <td> 1</td>\n",
        "      <td> 4</td>\n",
        "      <td> 4</td>\n",
        "      <td> 3</td>\n",
        "      <td> 3</td>\n",
        "      <td>    1</td>\n",
        "    </tr>\n",
        "    <tr>\n",
        "      <th>6 </th>\n",
        "      <td> 1</td>\n",
        "      <td> 2</td>\n",
        "      <td> 4</td>\n",
        "      <td> 3</td>\n",
        "      <td> 3</td>\n",
        "      <td>    1</td>\n",
        "    </tr>\n",
        "    <tr>\n",
        "      <th>7 </th>\n",
        "      <td> 1</td>\n",
        "      <td> 2</td>\n",
        "      <td> 5</td>\n",
        "      <td> 3</td>\n",
        "      <td> 7</td>\n",
        "      <td> 0.43</td>\n",
        "    </tr>\n",
        "    <tr>\n",
        "      <th>8 </th>\n",
        "      <td> 1</td>\n",
        "      <td> 4</td>\n",
        "      <td> 5</td>\n",
        "      <td> 7</td>\n",
        "      <td> 9</td>\n",
        "      <td> 0.78</td>\n",
        "    </tr>\n",
        "    <tr>\n",
        "      <th>9 </th>\n",
        "      <td> 1</td>\n",
        "      <td> 3</td>\n",
        "      <td> 5</td>\n",
        "      <td> 4</td>\n",
        "      <td> 6</td>\n",
        "      <td> 0.67</td>\n",
        "    </tr>\n",
        "    <tr>\n",
        "      <th>10</th>\n",
        "      <td> 1</td>\n",
        "      <td> 5</td>\n",
        "      <td> 5</td>\n",
        "      <td> 0</td>\n",
        "      <td> 1</td>\n",
        "      <td>    0</td>\n",
        "    </tr>\n",
        "    <tr>\n",
        "      <th>11</th>\n",
        "      <td> 1</td>\n",
        "      <td> 3</td>\n",
        "      <td> 4</td>\n",
        "      <td> 5</td>\n",
        "      <td> 7</td>\n",
        "      <td> 0.71</td>\n",
        "    </tr>\n",
        "    <tr>\n",
        "      <th>12</th>\n",
        "      <td> 2</td>\n",
        "      <td> 4</td>\n",
        "      <td> 5</td>\n",
        "      <td> 1</td>\n",
        "      <td> 5</td>\n",
        "      <td>  0.2</td>\n",
        "    </tr>\n",
        "    <tr>\n",
        "      <th>13</th>\n",
        "      <td> 2</td>\n",
        "      <td> 4</td>\n",
        "      <td> 4</td>\n",
        "      <td> 1</td>\n",
        "      <td> 1</td>\n",
        "      <td>    1</td>\n",
        "    </tr>\n",
        "    <tr>\n",
        "      <th>14</th>\n",
        "      <td> 2</td>\n",
        "      <td> 3</td>\n",
        "      <td> 3</td>\n",
        "      <td> 0</td>\n",
        "      <td> 2</td>\n",
        "      <td>    0</td>\n",
        "    </tr>\n",
        "    <tr>\n",
        "      <th>15</th>\n",
        "      <td> 2</td>\n",
        "      <td> 5</td>\n",
        "      <td> 5</td>\n",
        "      <td> 0</td>\n",
        "      <td> 2</td>\n",
        "      <td>    0</td>\n",
        "    </tr>\n",
        "    <tr>\n",
        "      <th>16</th>\n",
        "      <td> 2</td>\n",
        "      <td> 3</td>\n",
        "      <td> 5</td>\n",
        "      <td> 3</td>\n",
        "      <td> 9</td>\n",
        "      <td> 0.33</td>\n",
        "    </tr>\n",
        "    <tr>\n",
        "      <th>17</th>\n",
        "      <td> 2</td>\n",
        "      <td> 2</td>\n",
        "      <td> 5</td>\n",
        "      <td> 1</td>\n",
        "      <td> 4</td>\n",
        "      <td> 0.25</td>\n",
        "    </tr>\n",
        "    <tr>\n",
        "      <th>18</th>\n",
        "      <td> 2</td>\n",
        "      <td> 2</td>\n",
        "      <td> 4</td>\n",
        "      <td> 0</td>\n",
        "      <td> 1</td>\n",
        "      <td>    0</td>\n",
        "    </tr>\n",
        "    <tr>\n",
        "      <th>19</th>\n",
        "      <td> 2</td>\n",
        "      <td> 2</td>\n",
        "      <td> 3</td>\n",
        "      <td> 1</td>\n",
        "      <td> 2</td>\n",
        "      <td>  0.5</td>\n",
        "    </tr>\n",
        "    <tr>\n",
        "      <th>20</th>\n",
        "      <td> 2</td>\n",
        "      <td> 3</td>\n",
        "      <td> 4</td>\n",
        "      <td> 3</td>\n",
        "      <td> 9</td>\n",
        "      <td> 0.33</td>\n",
        "    </tr>\n",
        "    <tr>\n",
        "      <th>21</th>\n",
        "      <td> 3</td>\n",
        "      <td> 3</td>\n",
        "      <td> 4</td>\n",
        "      <td> 0</td>\n",
        "      <td> 2</td>\n",
        "      <td>    0</td>\n",
        "    </tr>\n",
        "    <tr>\n",
        "      <th>22</th>\n",
        "      <td> 3</td>\n",
        "      <td> 4</td>\n",
        "      <td> 4</td>\n",
        "      <td> 1</td>\n",
        "      <td> 1</td>\n",
        "      <td>    1</td>\n",
        "    </tr>\n",
        "    <tr>\n",
        "      <th>23</th>\n",
        "      <td> 3</td>\n",
        "      <td> 4</td>\n",
        "      <td> 5</td>\n",
        "      <td> 2</td>\n",
        "      <td> 8</td>\n",
        "      <td> 0.25</td>\n",
        "    </tr>\n",
        "    <tr>\n",
        "      <th>24</th>\n",
        "      <td> 3</td>\n",
        "      <td> 3</td>\n",
        "      <td> 5</td>\n",
        "      <td> 0</td>\n",
        "      <td> 2</td>\n",
        "      <td>    0</td>\n",
        "    </tr>\n",
        "    <tr>\n",
        "      <th>25</th>\n",
        "      <td> 4</td>\n",
        "      <td> 4</td>\n",
        "      <td> 5</td>\n",
        "      <td> 1</td>\n",
        "      <td> 1</td>\n",
        "      <td>    1</td>\n",
        "    </tr>\n",
        "  </tbody>\n",
        "</table>\n",
        "</div>"
       ],
       "metadata": {},
       "output_type": "pyout",
       "prompt_number": 11,
       "text": [
        "    A  B  C Wins Matches Percent\n",
        "0   1  1  3    1       2     0.5\n",
        "1   1  1  4    3       4    0.75\n",
        "2   1  1  5    2       3    0.67\n",
        "3   1  2  2    1       2     0.5\n",
        "4   1  2  3    4       4       1\n",
        "5   1  4  4    3       3       1\n",
        "6   1  2  4    3       3       1\n",
        "7   1  2  5    3       7    0.43\n",
        "8   1  4  5    7       9    0.78\n",
        "9   1  3  5    4       6    0.67\n",
        "10  1  5  5    0       1       0\n",
        "11  1  3  4    5       7    0.71\n",
        "12  2  4  5    1       5     0.2\n",
        "13  2  4  4    1       1       1\n",
        "14  2  3  3    0       2       0\n",
        "15  2  5  5    0       2       0\n",
        "16  2  3  5    3       9    0.33\n",
        "17  2  2  5    1       4    0.25\n",
        "18  2  2  4    0       1       0\n",
        "19  2  2  3    1       2     0.5\n",
        "20  2  3  4    3       9    0.33\n",
        "21  3  3  4    0       2       0\n",
        "22  3  4  4    1       1       1\n",
        "23  3  4  5    2       8    0.25\n",
        "24  3  3  5    0       2       0\n",
        "25  4  4  5    1       1       1"
       ]
      }
     ],
     "prompt_number": 11
    },
    {
     "cell_type": "code",
     "collapsed": false,
     "input": [],
     "language": "python",
     "metadata": {},
     "outputs": []
    }
   ],
   "metadata": {}
  }
 ]
}