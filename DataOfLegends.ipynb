{
 "metadata": {
  "name": "",
  "signature": "sha256:d5bc73ed803a46d481ced199fb4f82d4267c180ac2de05208e55bc8f5f5dbd37"
 },
 "nbformat": 3,
 "nbformat_minor": 0,
 "worksheets": [
  {
   "cells": [
    {
     "cell_type": "markdown",
     "metadata": {},
     "source": [
      "#Data of Legends\n",
      "##An analysis of League of Legends and how team composition affects outcomes of games\n",
      "###George Wu, James Ho, Michael Ma, Shannon Zhu"
     ]
    },
    {
     "cell_type": "markdown",
     "metadata": {},
     "source": [
      "##Motivation\n",
      "\n",
      "League of Legends is the #1 most played game in the world and has been revolutionizing the online gaming scene through tournaments such as E-sports. One huge endeavor that Riot (the creator of League of Legends) is undertaking is the promotion of esports (electronic sports), which are consistently getting a lot of publicity from major media outlets such as the New York Times. Even colleges are recognizing esports as official sports and are starting varsity teams, and much of the world is beginning to see it as a real competition of sorts. Because so much money from streaming and major corporations such as Coca Cola is being poured into the industry and the tournaments, we are very interested in how much games can be predicted by arbitrary starting factors that are not tied to skill. \n",
      "\n",
      "To clarify, at the beginning of each game, players choose to play certain characters with different strengths and weaknesses - and the teams are randomly assigned a side of the map. These are recognized as nontrivial differences, but we are interested in statistically formalizing this starting bias and analyzing how much it affects game outcomes."
     ]
    },
    {
     "cell_type": "code",
     "collapsed": false,
     "input": [
      "%matplotlib inline\n",
      "\n",
      "import json\n",
      "\n",
      "import requests\n",
      "import pandas as pd\n",
      "import numpy as np\n",
      "import matplotlib.pyplot as plt\n",
      "import time\n",
      "import pickle\n",
      "\n",
      "api_key = 'c977fbae-0c60-4d6c-a3dc-ee1b305dbdd7'"
     ],
     "language": "python",
     "metadata": {},
     "outputs": [],
     "prompt_number": 1
    },
    {
     "cell_type": "markdown",
     "metadata": {},
     "source": [
      "### Retrieving Players in Challenger Tier\n",
      "First we'll get the list of all players who are in the highest ranked tier (Challenger tier). Players in this group are essentially professional and we assume that they play optimally, so the impact of skill level on the game outcome is minimized."
     ]
    },
    {
     "cell_type": "code",
     "collapsed": false,
     "input": [
      "# get all player IDs in \"challenger\" (professional) level of play\n",
      "url = 'https://na.api.pvp.net/api/lol/na/v2.5/league/challenger?type=RANKED_SOLO_5x5&api_key=' + api_key\n",
      "data = requests.get(url).json()\n",
      "\n",
      "summoners = data['entries']\n",
      "summoner_df = pd.read_json(json.dumps(summoners))\n",
      "summoner_df.head()"
     ],
     "language": "python",
     "metadata": {},
     "outputs": [
      {
       "html": [
        "<div style=\"max-height:1000px;max-width:1500px;overflow:auto;\">\n",
        "<table border=\"1\" class=\"dataframe\">\n",
        "  <thead>\n",
        "    <tr style=\"text-align: right;\">\n",
        "      <th></th>\n",
        "      <th>division</th>\n",
        "      <th>isFreshBlood</th>\n",
        "      <th>isHotStreak</th>\n",
        "      <th>isInactive</th>\n",
        "      <th>isVeteran</th>\n",
        "      <th>leaguePoints</th>\n",
        "      <th>playerOrTeamId</th>\n",
        "      <th>playerOrTeamName</th>\n",
        "      <th>wins</th>\n",
        "    </tr>\n",
        "  </thead>\n",
        "  <tbody>\n",
        "    <tr>\n",
        "      <th>0</th>\n",
        "      <td> I</td>\n",
        "      <td> False</td>\n",
        "      <td> False</td>\n",
        "      <td> False</td>\n",
        "      <td>  True</td>\n",
        "      <td> 1085</td>\n",
        "      <td> 51409228</td>\n",
        "      <td>         Apdo Dog</td>\n",
        "      <td> 269</td>\n",
        "    </tr>\n",
        "    <tr>\n",
        "      <th>1</th>\n",
        "      <td> I</td>\n",
        "      <td> False</td>\n",
        "      <td> False</td>\n",
        "      <td> False</td>\n",
        "      <td> False</td>\n",
        "      <td>  531</td>\n",
        "      <td> 27798233</td>\n",
        "      <td>       Just Jayce</td>\n",
        "      <td> 400</td>\n",
        "    </tr>\n",
        "    <tr>\n",
        "      <th>2</th>\n",
        "      <td> I</td>\n",
        "      <td> False</td>\n",
        "      <td> False</td>\n",
        "      <td>  True</td>\n",
        "      <td> False</td>\n",
        "      <td>  480</td>\n",
        "      <td>   410417</td>\n",
        "      <td>            MeyeA</td>\n",
        "      <td> 306</td>\n",
        "    </tr>\n",
        "    <tr>\n",
        "      <th>3</th>\n",
        "      <td> I</td>\n",
        "      <td> False</td>\n",
        "      <td>  True</td>\n",
        "      <td> False</td>\n",
        "      <td> False</td>\n",
        "      <td>  566</td>\n",
        "      <td> 21540249</td>\n",
        "      <td> PowerlessToplane</td>\n",
        "      <td> 859</td>\n",
        "    </tr>\n",
        "    <tr>\n",
        "      <th>4</th>\n",
        "      <td> I</td>\n",
        "      <td> False</td>\n",
        "      <td> False</td>\n",
        "      <td> False</td>\n",
        "      <td>  True</td>\n",
        "      <td>  561</td>\n",
        "      <td> 20156016</td>\n",
        "      <td>           willxo</td>\n",
        "      <td> 624</td>\n",
        "    </tr>\n",
        "  </tbody>\n",
        "</table>\n",
        "</div>"
       ],
       "metadata": {},
       "output_type": "pyout",
       "prompt_number": 2,
       "text": [
        "  division isFreshBlood isHotStreak isInactive isVeteran  leaguePoints  \\\n",
        "0        I        False       False      False      True          1085   \n",
        "1        I        False       False      False     False           531   \n",
        "2        I        False       False       True     False           480   \n",
        "3        I        False        True      False     False           566   \n",
        "4        I        False       False      False      True           561   \n",
        "\n",
        "   playerOrTeamId  playerOrTeamName  wins  \n",
        "0        51409228          Apdo Dog   269  \n",
        "1        27798233        Just Jayce   400  \n",
        "2          410417             MeyeA   306  \n",
        "3        21540249  PowerlessToplane   859  \n",
        "4        20156016            willxo   624  "
       ]
      }
     ],
     "prompt_number": 2
    },
    {
     "cell_type": "markdown",
     "metadata": {},
     "source": [
      "### Match Histories\n",
      "For each player in the challenger tier, we query the Riot API for their match history and accumulate a list of match IDs. We filtered the list to contain games played only in the 2014 season and filtered out duplicates. We only wanted games played in the 2014 season to take out differences due to game changes from different seasons. "
     ]
    },
    {
     "cell_type": "code",
     "collapsed": false,
     "input": [
      "# get match histories of all professional-level players\n",
      "player_Ids = summoner_df[\"playerOrTeamId\"].tolist()\n",
      "\n",
      "# constant for later\n",
      "beta_map_Id = 11\n",
      "\n",
      "# we don't want duplicate match IDs, so we use a set\n",
      "match_Ids = set()\n",
      "\n",
      "print \"Starting request from Riot:\"\n",
      "for i in xrange(0,len(player_Ids)):\n",
      "    print \"Processing player # \" + str(i+1) + \", ID: \" + str(player_Ids[i])\n",
      "    \n",
      "    # keep track of number of requests so we don't get rate limited\n",
      "    num_requests = 0\n",
      "    \n",
      "    # Riot's API only allows for retrieving 15 matches at a time, so we have to index into the history\n",
      "    index = 0\n",
      "    while True:\n",
      "        \n",
      "        # we filter for solo queues because we don't want team synergy to influence our results\n",
      "        queue = \"RANKED_SOLO_5x5\"\n",
      "        url = \"https://na.api.pvp.net/api/lol/na/v2.2/matchhistory/\" + str(player_Ids[i]) + \\\n",
      "            \"?beginIndex=\" + str(index) + \"&endIndex=\" + str((index + 15)) + \"&api_key=\" + api_key\n",
      "        response = requests.get(url)\n",
      "        try:\n",
      "            data = response.json()\n",
      "        except ValueError:\n",
      "            print 'JSON Decoding failed for url: ' + url\n",
      "        \n",
      "        # if the request was empty, then we have reached the end of the history and we should move on to the next player\n",
      "        if not data:\n",
      "            break\n",
      "            \n",
      "        matches = data['matches']\n",
      "        for match in matches:\n",
      "            \n",
      "            # we want to exclude the new Summoner's Rift map because it has changes in the game\n",
      "            if match['mapId'] != beta_map_Id:\n",
      "                match_Ids.add(match['matchId'])\n",
      "        index += 15\n",
      "        num_requests += 1\n",
      "        \n",
      "        # to ensure we don't get rate limited, we pause every 10 requests and after finding all of a player's history\n",
      "        if num_requests % 9 == 0:\n",
      "            time.sleep(10)\n",
      "        \n",
      "    time.sleep(10)"
     ],
     "language": "python",
     "metadata": {},
     "outputs": [
      {
       "output_type": "stream",
       "stream": "stdout",
       "text": [
        "Starting request from Riot:\n",
        "Processing player # 1, ID: 20026563\n",
        "Processing player # 2, ID: 50749357"
       ]
      },
      {
       "output_type": "stream",
       "stream": "stdout",
       "text": [
        "\n",
        "Processing player # 3, ID: 21238911"
       ]
      },
      {
       "output_type": "stream",
       "stream": "stdout",
       "text": [
        "\n",
        "Processing player # 4, ID: 21542029"
       ]
      },
      {
       "output_type": "stream",
       "stream": "stdout",
       "text": [
        "\n",
        "Processing player # 5, ID: 44979328"
       ]
      },
      {
       "output_type": "stream",
       "stream": "stdout",
       "text": [
        "\n",
        "Processing player # 6, ID: 19201346"
       ]
      },
      {
       "output_type": "stream",
       "stream": "stdout",
       "text": [
        "\n",
        "Processing player # 7, ID: 21361834"
       ]
      },
      {
       "output_type": "stream",
       "stream": "stdout",
       "text": [
        "\n",
        "Processing player # 8, ID: 56397325"
       ]
      },
      {
       "output_type": "stream",
       "stream": "stdout",
       "text": [
        "\n",
        "Processing player # 9, ID: 22645232"
       ]
      },
      {
       "output_type": "stream",
       "stream": "stdout",
       "text": [
        "\n",
        "Processing player # 10, ID: 35301382"
       ]
      },
      {
       "output_type": "stream",
       "stream": "stdout",
       "text": [
        "\n",
        "Processing player # 11, ID: 19998293"
       ]
      },
      {
       "output_type": "stream",
       "stream": "stdout",
       "text": [
        "\n",
        "Processing player # 12, ID: 20156016"
       ]
      },
      {
       "output_type": "stream",
       "stream": "stdout",
       "text": [
        "\n",
        "Processing player # 13, ID: 60729817"
       ]
      },
      {
       "output_type": "stream",
       "stream": "stdout",
       "text": [
        "\n",
        "Processing player # 14, ID: 42762376"
       ]
      },
      {
       "output_type": "stream",
       "stream": "stdout",
       "text": [
        "\n",
        "Processing player # 15, ID: 38839329"
       ]
      },
      {
       "output_type": "stream",
       "stream": "stdout",
       "text": [
        "\n",
        "Processing player # 16, ID: 20132258"
       ]
      },
      {
       "output_type": "stream",
       "stream": "stdout",
       "text": [
        "\n",
        "Processing player # 17, ID: 23292582"
       ]
      },
      {
       "output_type": "stream",
       "stream": "stdout",
       "text": [
        "\n",
        "Processing player # 18, ID: 21124626"
       ]
      },
      {
       "output_type": "stream",
       "stream": "stdout",
       "text": [
        "\n",
        "Processing player # 19, ID: 60939398"
       ]
      },
      {
       "output_type": "stream",
       "stream": "stdout",
       "text": [
        "\n",
        "Processing player # 20, ID: 31670053"
       ]
      },
      {
       "output_type": "stream",
       "stream": "stdout",
       "text": [
        "\n",
        "Processing player # 21, ID: 20971952"
       ]
      },
      {
       "output_type": "stream",
       "stream": "stdout",
       "text": [
        "\n",
        "Processing player # 22, ID: 22140119"
       ]
      },
      {
       "output_type": "stream",
       "stream": "stdout",
       "text": [
        "\n",
        "Processing player # 23, ID: 20017478"
       ]
      },
      {
       "output_type": "stream",
       "stream": "stdout",
       "text": [
        "\n",
        "Processing player # 24, ID: 25244896"
       ]
      },
      {
       "output_type": "stream",
       "stream": "stdout",
       "text": [
        "\n",
        "Processing player # 25, ID: 401169"
       ]
      },
      {
       "output_type": "stream",
       "stream": "stdout",
       "text": [
        "\n",
        "Processing player # 26, ID: 22005573"
       ]
      },
      {
       "output_type": "stream",
       "stream": "stdout",
       "text": [
        "\n",
        "Processing player # 27, ID: 7184"
       ]
      },
      {
       "output_type": "stream",
       "stream": "stdout",
       "text": [
        "\n",
        "Processing player # 28, ID: 410417"
       ]
      },
      {
       "output_type": "stream",
       "stream": "stdout",
       "text": [
        "\n",
        "Processing player # 29, ID: 37962884"
       ]
      },
      {
       "output_type": "stream",
       "stream": "stdout",
       "text": [
        "\n",
        "Processing player # 30, ID: 47015652"
       ]
      },
      {
       "output_type": "stream",
       "stream": "stdout",
       "text": [
        "\n",
        "Processing player # 31, ID: 30172503"
       ]
      },
      {
       "output_type": "stream",
       "stream": "stdout",
       "text": [
        "\n",
        "Processing player # 32, ID: 44989299"
       ]
      },
      {
       "output_type": "stream",
       "stream": "stdout",
       "text": [
        "\n",
        "Processing player # 33, ID: 28407347"
       ]
      },
      {
       "output_type": "stream",
       "stream": "stdout",
       "text": [
        "\n",
        "Processing player # 34, ID: 57008072"
       ]
      },
      {
       "output_type": "stream",
       "stream": "stdout",
       "text": [
        "\n",
        "Processing player # 35, ID: 22058902"
       ]
      },
      {
       "output_type": "stream",
       "stream": "stdout",
       "text": [
        "\n",
        "Processing player # 36, ID: 50539313"
       ]
      },
      {
       "output_type": "stream",
       "stream": "stdout",
       "text": [
        "\n",
        "Processing player # 37, ID: 20072604"
       ]
      },
      {
       "output_type": "stream",
       "stream": "stdout",
       "text": [
        "\n",
        "Processing player # 38, ID: 29699937"
       ]
      },
      {
       "output_type": "stream",
       "stream": "stdout",
       "text": [
        "\n",
        "Processing player # 39, ID: 25848742"
       ]
      },
      {
       "output_type": "stream",
       "stream": "stdout",
       "text": [
        "\n",
        "Processing player # 40, ID: 39040566"
       ]
      },
      {
       "output_type": "stream",
       "stream": "stdout",
       "text": [
        "\n",
        "Processing player # 41, ID: 21966037"
       ]
      },
      {
       "output_type": "stream",
       "stream": "stdout",
       "text": [
        "\n",
        "Processing player # 42, ID: 19602876"
       ]
      },
      {
       "output_type": "stream",
       "stream": "stdout",
       "text": [
        "\n",
        "Processing player # 43, ID: 24332462"
       ]
      },
      {
       "output_type": "stream",
       "stream": "stdout",
       "text": [
        "\n",
        "Processing player # 44, ID: 23235987"
       ]
      },
      {
       "output_type": "stream",
       "stream": "stdout",
       "text": [
        "\n",
        "Processing player # 45, ID: 56838917"
       ]
      },
      {
       "output_type": "stream",
       "stream": "stdout",
       "text": [
        "\n",
        "Processing player # 46, ID: 47199162"
       ]
      },
      {
       "output_type": "stream",
       "stream": "stdout",
       "text": [
        "\n",
        "Processing player # 47, ID: 20441329"
       ]
      },
      {
       "output_type": "stream",
       "stream": "stdout",
       "text": [
        "\n",
        "Processing player # 48, ID: 286367"
       ]
      },
      {
       "output_type": "stream",
       "stream": "stdout",
       "text": [
        "\n",
        "Processing player # 49, ID: 56917699"
       ]
      },
      {
       "output_type": "stream",
       "stream": "stdout",
       "text": [
        "\n",
        "Processing player # 50, ID: 22826752"
       ]
      },
      {
       "output_type": "stream",
       "stream": "stdout",
       "text": [
        "\n",
        "Processing player # 51, ID: 24221302"
       ]
      },
      {
       "output_type": "stream",
       "stream": "stdout",
       "text": [
        "\n",
        "Processing player # 52, ID: 21903966"
       ]
      },
      {
       "output_type": "stream",
       "stream": "stdout",
       "text": [
        "\n",
        "Processing player # 53, ID: 20171127"
       ]
      },
      {
       "output_type": "stream",
       "stream": "stdout",
       "text": [
        "\n",
        "Processing player # 54, ID: 19113946"
       ]
      },
      {
       "output_type": "stream",
       "stream": "stdout",
       "text": [
        "\n",
        "Processing player # 55, ID: 27020026"
       ]
      },
      {
       "output_type": "stream",
       "stream": "stdout",
       "text": [
        "\n",
        "Processing player # 56, ID: 22365815"
       ]
      },
      {
       "output_type": "stream",
       "stream": "stdout",
       "text": [
        "\n",
        "Processing player # 57, ID: 22933497"
       ]
      },
      {
       "output_type": "stream",
       "stream": "stdout",
       "text": [
        "\n",
        "Processing player # 58, ID: 20842490"
       ]
      },
      {
       "output_type": "stream",
       "stream": "stdout",
       "text": [
        "\n",
        "Processing player # 59, ID: 22051304"
       ]
      },
      {
       "output_type": "stream",
       "stream": "stdout",
       "text": [
        "\n",
        "Processing player # 60, ID: 57029179"
       ]
      },
      {
       "output_type": "stream",
       "stream": "stdout",
       "text": [
        "\n",
        "Processing player # 61, ID: 42060215"
       ]
      },
      {
       "output_type": "stream",
       "stream": "stdout",
       "text": [
        "\n",
        "Processing player # 62, ID: 27798233"
       ]
      },
      {
       "output_type": "stream",
       "stream": "stdout",
       "text": [
        "\n",
        "Processing player # 63, ID: 22300476"
       ]
      },
      {
       "output_type": "stream",
       "stream": "stdout",
       "text": [
        "\n",
        "Processing player # 64, ID: 25295387"
       ]
      },
      {
       "output_type": "stream",
       "stream": "stdout",
       "text": [
        "\n",
        "Processing player # 65, ID: 57019107"
       ]
      },
      {
       "output_type": "stream",
       "stream": "stdout",
       "text": [
        "\n",
        "Processing player # 66, ID: 44989349"
       ]
      },
      {
       "output_type": "stream",
       "stream": "stdout",
       "text": [
        "\n",
        "Processing player # 67, ID: 40984753"
       ]
      },
      {
       "output_type": "stream",
       "stream": "stdout",
       "text": [
        "\n",
        "Processing player # 68, ID: 23817924"
       ]
      },
      {
       "output_type": "stream",
       "stream": "stdout",
       "text": [
        "\n",
        "JSON Decoding failed for url: https://na.api.pvp.net/api/lol/na/v2.2/matchhistory/23817924?beginIndex=405&endIndex=420&api_key=c977fbae-0c60-4d6c-a3dc-ee1b305dbdd7"
       ]
      },
      {
       "output_type": "stream",
       "stream": "stdout",
       "text": [
        "\n",
        "JSON Decoding failed for url: https://na.api.pvp.net/api/lol/na/v2.2/matchhistory/23817924?beginIndex=420&endIndex=435&api_key=c977fbae-0c60-4d6c-a3dc-ee1b305dbdd7"
       ]
      },
      {
       "output_type": "stream",
       "stream": "stdout",
       "text": [
        "\n",
        "JSON Decoding failed for url: https://na.api.pvp.net/api/lol/na/v2.2/matchhistory/23817924?beginIndex=435&endIndex=450&api_key=c977fbae-0c60-4d6c-a3dc-ee1b305dbdd7"
       ]
      },
      {
       "output_type": "stream",
       "stream": "stdout",
       "text": [
        "\n",
        "Processing player # 69, ID: 390600"
       ]
      },
      {
       "output_type": "stream",
       "stream": "stdout",
       "text": [
        "\n",
        "Processing player # 70, ID: 5908"
       ]
      },
      {
       "output_type": "stream",
       "stream": "stdout",
       "text": [
        "\n",
        "Processing player # 71, ID: 26324263"
       ]
      },
      {
       "output_type": "stream",
       "stream": "stdout",
       "text": [
        "\n",
        "Processing player # 72, ID: 21101048"
       ]
      },
      {
       "output_type": "stream",
       "stream": "stdout",
       "text": [
        "\n",
        "Processing player # 73, ID: 19440665"
       ]
      },
      {
       "output_type": "stream",
       "stream": "stdout",
       "text": [
        "\n",
        "Processing player # 74, ID: 2648"
       ]
      },
      {
       "output_type": "stream",
       "stream": "stdout",
       "text": [
        "\n",
        "Processing player # 75, ID: 47836799"
       ]
      },
      {
       "output_type": "stream",
       "stream": "stdout",
       "text": [
        "\n",
        "Processing player # 76, ID: 59673766"
       ]
      },
      {
       "output_type": "stream",
       "stream": "stdout",
       "text": [
        "\n",
        "Processing player # 77, ID: 23137868"
       ]
      },
      {
       "output_type": "stream",
       "stream": "stdout",
       "text": [
        "\n",
        "Processing player # 78, ID: 31014009"
       ]
      },
      {
       "output_type": "stream",
       "stream": "stdout",
       "text": [
        "\n",
        "Processing player # 79, ID: 23534118"
       ]
      },
      {
       "output_type": "stream",
       "stream": "stdout",
       "text": [
        "\n",
        "Processing player # 80, ID: 44979366"
       ]
      },
      {
       "output_type": "stream",
       "stream": "stdout",
       "text": [
        "\n",
        "Processing player # 81, ID: 49159160"
       ]
      },
      {
       "output_type": "stream",
       "stream": "stdout",
       "text": [
        "\n",
        "Processing player # 82, ID: 492066"
       ]
      },
      {
       "output_type": "stream",
       "stream": "stdout",
       "text": [
        "\n",
        "Processing player # 83, ID: 19019472"
       ]
      },
      {
       "output_type": "stream",
       "stream": "stdout",
       "text": [
        "\n",
        "Processing player # 84, ID: 22507642"
       ]
      },
      {
       "output_type": "stream",
       "stream": "stdout",
       "text": [
        "\n",
        "Processing player # 85, ID: 23050296"
       ]
      },
      {
       "output_type": "stream",
       "stream": "stdout",
       "text": [
        "\n",
        "Processing player # 86, ID: 19061980"
       ]
      },
      {
       "output_type": "stream",
       "stream": "stdout",
       "text": [
        "\n",
        "Processing player # 87, ID: 22673591"
       ]
      },
      {
       "output_type": "stream",
       "stream": "stdout",
       "text": [
        "\n",
        "Processing player # 88, ID: 58261653"
       ]
      },
      {
       "output_type": "stream",
       "stream": "stdout",
       "text": [
        "\n",
        "Processing player # 89, ID: 35592112"
       ]
      },
      {
       "output_type": "stream",
       "stream": "stdout",
       "text": [
        "\n",
        "Processing player # 90, ID: 55508353"
       ]
      },
      {
       "output_type": "stream",
       "stream": "stdout",
       "text": [
        "\n",
        "Processing player # 91, ID: 62599179"
       ]
      },
      {
       "output_type": "stream",
       "stream": "stdout",
       "text": [
        "\n",
        "Processing player # 92, ID: 20833616"
       ]
      },
      {
       "output_type": "stream",
       "stream": "stdout",
       "text": [
        "\n",
        "Processing player # 93, ID: 20131827"
       ]
      },
      {
       "output_type": "stream",
       "stream": "stdout",
       "text": [
        "\n",
        "Processing player # 94, ID: 26082266"
       ]
      },
      {
       "output_type": "stream",
       "stream": "stdout",
       "text": [
        "\n",
        "Processing player # 95, ID: 19238304"
       ]
      },
      {
       "output_type": "stream",
       "stream": "stdout",
       "text": [
        "\n",
        "Processing player # 96, ID: 29259499"
       ]
      },
      {
       "output_type": "stream",
       "stream": "stdout",
       "text": [
        "\n",
        "Processing player # 97, ID: 44989348"
       ]
      },
      {
       "output_type": "stream",
       "stream": "stdout",
       "text": [
        "\n",
        "Processing player # 98, ID: 36488045"
       ]
      },
      {
       "output_type": "stream",
       "stream": "stdout",
       "text": [
        "\n",
        "Processing player # 99, ID: 28039649"
       ]
      },
      {
       "output_type": "stream",
       "stream": "stdout",
       "text": [
        "\n",
        "Processing player # 100, ID: 21051986"
       ]
      },
      {
       "output_type": "stream",
       "stream": "stdout",
       "text": [
        "\n",
        "Processing player # 101, ID: 25244616"
       ]
      },
      {
       "output_type": "stream",
       "stream": "stdout",
       "text": [
        "\n",
        "Processing player # 102, ID: 21328590"
       ]
      },
      {
       "output_type": "stream",
       "stream": "stdout",
       "text": [
        "\n",
        "Processing player # 103, ID: 245353"
       ]
      },
      {
       "output_type": "stream",
       "stream": "stdout",
       "text": [
        "\n",
        "Processing player # 104, ID: 26600205"
       ]
      },
      {
       "output_type": "stream",
       "stream": "stdout",
       "text": [
        "\n",
        "Processing player # 105, ID: 44979325"
       ]
      },
      {
       "output_type": "stream",
       "stream": "stdout",
       "text": [
        "\n",
        "Processing player # 106, ID: 21705406"
       ]
      },
      {
       "output_type": "stream",
       "stream": "stdout",
       "text": [
        "\n",
        "Processing player # 107, ID: 62374009"
       ]
      },
      {
       "output_type": "stream",
       "stream": "stdout",
       "text": [
        "\n",
        "Processing player # 108, ID: 24069119"
       ]
      },
      {
       "output_type": "stream",
       "stream": "stdout",
       "text": [
        "\n",
        "Processing player # 109, ID: 19738326"
       ]
      },
      {
       "output_type": "stream",
       "stream": "stdout",
       "text": [
        "\n",
        "Processing player # 110, ID: 20576181"
       ]
      },
      {
       "output_type": "stream",
       "stream": "stdout",
       "text": [
        "\n",
        "Processing player # 111, ID: 23404806"
       ]
      },
      {
       "output_type": "stream",
       "stream": "stdout",
       "text": [
        "\n",
        "Processing player # 112, ID: 36718800"
       ]
      },
      {
       "output_type": "stream",
       "stream": "stdout",
       "text": [
        "\n",
        "Processing player # 113, ID: 20151025"
       ]
      },
      {
       "output_type": "stream",
       "stream": "stdout",
       "text": [
        "\n",
        "Processing player # 114, ID: 19944591"
       ]
      },
      {
       "output_type": "stream",
       "stream": "stdout",
       "text": [
        "\n",
        "Processing player # 115, ID: 19732914"
       ]
      },
      {
       "output_type": "stream",
       "stream": "stdout",
       "text": [
        "\n",
        "Processing player # 116, ID: 23557909"
       ]
      },
      {
       "output_type": "stream",
       "stream": "stdout",
       "text": [
        "\n",
        "Processing player # 117, ID: 20726321"
       ]
      },
      {
       "output_type": "stream",
       "stream": "stdout",
       "text": [
        "\n",
        "Processing player # 118, ID: 48637590"
       ]
      },
      {
       "output_type": "stream",
       "stream": "stdout",
       "text": [
        "\n",
        "Processing player # 119, ID: 63389080"
       ]
      },
      {
       "output_type": "stream",
       "stream": "stdout",
       "text": [
        "\n",
        "Processing player # 120, ID: 22216718"
       ]
      },
      {
       "output_type": "stream",
       "stream": "stdout",
       "text": [
        "\n",
        "Processing player # 121, ID: 18991200"
       ]
      },
      {
       "output_type": "stream",
       "stream": "stdout",
       "text": [
        "\n",
        "Processing player # 122, ID: 19967304"
       ]
      },
      {
       "output_type": "stream",
       "stream": "stdout",
       "text": [
        "\n",
        "Processing player # 123, ID: 21600556"
       ]
      },
      {
       "output_type": "stream",
       "stream": "stdout",
       "text": [
        "\n",
        "Processing player # 124, ID: 49389111"
       ]
      },
      {
       "output_type": "stream",
       "stream": "stdout",
       "text": [
        "\n",
        "Processing player # 125, ID: 22059766"
       ]
      },
      {
       "output_type": "stream",
       "stream": "stdout",
       "text": [
        "\n",
        "Processing player # 126, ID: 22079480"
       ]
      },
      {
       "output_type": "stream",
       "stream": "stdout",
       "text": [
        "\n",
        "Processing player # 127, ID: 23480331"
       ]
      },
      {
       "output_type": "stream",
       "stream": "stdout",
       "text": [
        "\n",
        "Processing player # 128, ID: 24295656"
       ]
      },
      {
       "output_type": "stream",
       "stream": "stdout",
       "text": [
        "\n",
        "Processing player # 129, ID: 29200584"
       ]
      },
      {
       "output_type": "stream",
       "stream": "stdout",
       "text": [
        "\n",
        "Processing player # 130, ID: 26114733"
       ]
      },
      {
       "output_type": "stream",
       "stream": "stdout",
       "text": [
        "\n",
        "Processing player # 131, ID: 56403918"
       ]
      },
      {
       "output_type": "stream",
       "stream": "stdout",
       "text": [
        "\n",
        "Processing player # 132, ID: 19889421"
       ]
      },
      {
       "output_type": "stream",
       "stream": "stdout",
       "text": [
        "\n",
        "Processing player # 133, ID: 21837426"
       ]
      },
      {
       "output_type": "stream",
       "stream": "stdout",
       "text": [
        "\n",
        "Processing player # 134, ID: 20203681"
       ]
      },
      {
       "output_type": "stream",
       "stream": "stdout",
       "text": [
        "\n",
        "Processing player # 135, ID: 58060767"
       ]
      },
      {
       "output_type": "stream",
       "stream": "stdout",
       "text": [
        "\n",
        "Processing player # 136, ID: 57539163"
       ]
      },
      {
       "output_type": "stream",
       "stream": "stdout",
       "text": [
        "\n",
        "Processing player # 137, ID: 23765764"
       ]
      },
      {
       "output_type": "stream",
       "stream": "stdout",
       "text": [
        "\n",
        "Processing player # 138, ID: 26676087"
       ]
      },
      {
       "output_type": "stream",
       "stream": "stdout",
       "text": [
        "\n",
        "Processing player # 139, ID: 56779211"
       ]
      },
      {
       "output_type": "stream",
       "stream": "stdout",
       "text": [
        "\n",
        "Processing player # 140, ID: 19202854"
       ]
      },
      {
       "output_type": "stream",
       "stream": "stdout",
       "text": [
        "\n",
        "Processing player # 141, ID: 61109246"
       ]
      },
      {
       "output_type": "stream",
       "stream": "stdout",
       "text": [
        "\n",
        "Processing player # 142, ID: 271851"
       ]
      },
      {
       "output_type": "stream",
       "stream": "stdout",
       "text": [
        "\n",
        "Processing player # 143, ID: 19134540"
       ]
      },
      {
       "output_type": "stream",
       "stream": "stdout",
       "text": [
        "\n",
        "Processing player # 144, ID: 581716"
       ]
      },
      {
       "output_type": "stream",
       "stream": "stdout",
       "text": [
        "\n",
        "Processing player # 145, ID: 21701239"
       ]
      },
      {
       "output_type": "stream",
       "stream": "stdout",
       "text": [
        "\n",
        "Processing player # 146, ID: 25888946"
       ]
      },
      {
       "output_type": "stream",
       "stream": "stdout",
       "text": [
        "\n",
        "Processing player # 147, ID: 19770082"
       ]
      },
      {
       "output_type": "stream",
       "stream": "stdout",
       "text": [
        "\n",
        "Processing player # 148, ID: 27271906"
       ]
      },
      {
       "output_type": "stream",
       "stream": "stdout",
       "text": [
        "\n",
        "Processing player # 149, ID: 26782828"
       ]
      },
      {
       "output_type": "stream",
       "stream": "stdout",
       "text": [
        "\n",
        "Processing player # 150, ID: 51409228"
       ]
      },
      {
       "output_type": "stream",
       "stream": "stdout",
       "text": [
        "\n",
        "Processing player # 151, ID: 58110784"
       ]
      },
      {
       "output_type": "stream",
       "stream": "stdout",
       "text": [
        "\n",
        "Processing player # 152, ID: 21540249"
       ]
      },
      {
       "output_type": "stream",
       "stream": "stdout",
       "text": [
        "\n",
        "Processing player # 153, ID: 29524444"
       ]
      },
      {
       "output_type": "stream",
       "stream": "stdout",
       "text": [
        "\n",
        "Processing player # 154, ID: 39877298"
       ]
      },
      {
       "output_type": "stream",
       "stream": "stdout",
       "text": [
        "\n",
        "Processing player # 155, ID: 23162732"
       ]
      },
      {
       "output_type": "stream",
       "stream": "stdout",
       "text": [
        "\n",
        "Processing player # 156, ID: 398435"
       ]
      },
      {
       "output_type": "stream",
       "stream": "stdout",
       "text": [
        "\n",
        "Processing player # 157, ID: 34925733"
       ]
      },
      {
       "output_type": "stream",
       "stream": "stdout",
       "text": [
        "\n",
        "Processing player # 158, ID: 30512424"
       ]
      },
      {
       "output_type": "stream",
       "stream": "stdout",
       "text": [
        "\n",
        "Processing player # 159, ID: 20610274"
       ]
      },
      {
       "output_type": "stream",
       "stream": "stdout",
       "text": [
        "\n",
        "Processing player # 160, ID: 377115"
       ]
      },
      {
       "output_type": "stream",
       "stream": "stdout",
       "text": [
        "\n",
        "Processing player # 161, ID: 40743771"
       ]
      },
      {
       "output_type": "stream",
       "stream": "stdout",
       "text": [
        "\n",
        "Processing player # 162, ID: 7250"
       ]
      },
      {
       "output_type": "stream",
       "stream": "stdout",
       "text": [
        "\n",
        "Processing player # 163, ID: 51539240"
       ]
      },
      {
       "output_type": "stream",
       "stream": "stdout",
       "text": [
        "\n",
        "Processing player # 164, ID: 20579425"
       ]
      },
      {
       "output_type": "stream",
       "stream": "stdout",
       "text": [
        "\n",
        "Processing player # 165, ID: 44979332"
       ]
      },
      {
       "output_type": "stream",
       "stream": "stdout",
       "text": [
        "\n",
        "Processing player # 166, ID: 51082800"
       ]
      },
      {
       "output_type": "stream",
       "stream": "stdout",
       "text": [
        "\n",
        "Processing player # 167, ID: 31804754"
       ]
      },
      {
       "output_type": "stream",
       "stream": "stdout",
       "text": [
        "\n",
        "Processing player # 168, ID: 377078"
       ]
      },
      {
       "output_type": "stream",
       "stream": "stdout",
       "text": [
        "\n",
        "Processing player # 169, ID: 20711378"
       ]
      },
      {
       "output_type": "stream",
       "stream": "stdout",
       "text": [
        "\n",
        "Processing player # 170, ID: 37838557"
       ]
      },
      {
       "output_type": "stream",
       "stream": "stdout",
       "text": [
        "\n",
        "Processing player # 171, ID: 20218807"
       ]
      },
      {
       "output_type": "stream",
       "stream": "stdout",
       "text": [
        "\n",
        "Processing player # 172, ID: 61542283"
       ]
      },
      {
       "output_type": "stream",
       "stream": "stdout",
       "text": [
        "\n",
        "Processing player # 173, ID: 30312037"
       ]
      },
      {
       "output_type": "stream",
       "stream": "stdout",
       "text": [
        "\n",
        "Processing player # 174, ID: 19665819"
       ]
      },
      {
       "output_type": "stream",
       "stream": "stdout",
       "text": [
        "\n",
        "Processing player # 175, ID: 23747766"
       ]
      },
      {
       "output_type": "stream",
       "stream": "stdout",
       "text": [
        "\n",
        "Processing player # 176, ID: 22138282"
       ]
      },
      {
       "output_type": "stream",
       "stream": "stdout",
       "text": [
        "\n",
        "Processing player # 177, ID: 21059607"
       ]
      },
      {
       "output_type": "stream",
       "stream": "stdout",
       "text": [
        "\n",
        "Processing player # 178, ID: 24837798"
       ]
      },
      {
       "output_type": "stream",
       "stream": "stdout",
       "text": [
        "\n",
        "Processing player # 179, ID: 51405"
       ]
      },
      {
       "output_type": "stream",
       "stream": "stdout",
       "text": [
        "\n",
        "Processing player # 180, ID: 19209176"
       ]
      },
      {
       "output_type": "stream",
       "stream": "stdout",
       "text": [
        "\n",
        "Processing player # 181, ID: 63379079"
       ]
      },
      {
       "output_type": "stream",
       "stream": "stdout",
       "text": [
        "\n",
        "Processing player # 182, ID: 22079096"
       ]
      },
      {
       "output_type": "stream",
       "stream": "stdout",
       "text": [
        "\n",
        "Processing player # 183, ID: 19199530"
       ]
      },
      {
       "output_type": "stream",
       "stream": "stdout",
       "text": [
        "\n",
        "Processing player # 184, ID: 44989344"
       ]
      },
      {
       "output_type": "stream",
       "stream": "stdout",
       "text": [
        "\n",
        "Processing player # 185, ID: 25850956"
       ]
      },
      {
       "output_type": "stream",
       "stream": "stdout",
       "text": [
        "\n",
        "Processing player # 186, ID: 564332"
       ]
      },
      {
       "output_type": "stream",
       "stream": "stdout",
       "text": [
        "\n",
        "Processing player # 187, ID: 4297"
       ]
      },
      {
       "output_type": "stream",
       "stream": "stdout",
       "text": [
        "\n",
        "Processing player # 188, ID: 19887289"
       ]
      },
      {
       "output_type": "stream",
       "stream": "stdout",
       "text": [
        "\n",
        "Processing player # 189, ID: 41732749"
       ]
      },
      {
       "output_type": "stream",
       "stream": "stdout",
       "text": [
        "\n",
        "Processing player # 190, ID: 26384426"
       ]
      },
      {
       "output_type": "stream",
       "stream": "stdout",
       "text": [
        "\n",
        "Processing player # 191, ID: 521955"
       ]
      },
      {
       "output_type": "stream",
       "stream": "stdout",
       "text": [
        "\n",
        "Processing player # 192, ID: 25089268"
       ]
      },
      {
       "output_type": "stream",
       "stream": "stdout",
       "text": [
        "\n",
        "Processing player # 193, ID: 47008091"
       ]
      },
      {
       "output_type": "stream",
       "stream": "stdout",
       "text": [
        "\n",
        "Processing player # 194, ID: 19063356"
       ]
      },
      {
       "output_type": "stream",
       "stream": "stdout",
       "text": [
        "\n",
        "Processing player # 195, ID: 44979338"
       ]
      },
      {
       "output_type": "stream",
       "stream": "stdout",
       "text": [
        "\n",
        "Processing player # 196, ID: 20915481"
       ]
      },
      {
       "output_type": "stream",
       "stream": "stdout",
       "text": [
        "\n",
        "Processing player # 197, ID: 30871780"
       ]
      },
      {
       "output_type": "stream",
       "stream": "stdout",
       "text": [
        "\n",
        "Processing player # 198, ID: 22478427"
       ]
      },
      {
       "output_type": "stream",
       "stream": "stdout",
       "text": [
        "\n",
        "Processing player # 199, ID: 25738593"
       ]
      },
      {
       "output_type": "stream",
       "stream": "stdout",
       "text": [
        "\n",
        "Processing player # 200, ID: 21633048"
       ]
      },
      {
       "output_type": "stream",
       "stream": "stdout",
       "text": [
        "\n"
       ]
      }
     ],
     "prompt_number": 97
    },
    {
     "cell_type": "markdown",
     "metadata": {},
     "source": [
      "Getting this data took a couple of hours, so we'll save it to a file so we don't have to retrieve it again."
     ]
    },
    {
     "cell_type": "code",
     "collapsed": false,
     "input": [
      "# locally save large data after request to avoid querying API each time\n",
      "import pickle\n",
      "f = open('matchId.pckl', 'w')\n",
      "pickle.dump(match_Ids, f)\n",
      "f.close()"
     ],
     "language": "python",
     "metadata": {},
     "outputs": [],
     "prompt_number": 22
    },
    {
     "cell_type": "code",
     "collapsed": false,
     "input": [
      "# open matchID data from local file\n",
      "match_Ids = pickle.load(open('matchId.pckl', 'rb'))"
     ],
     "language": "python",
     "metadata": {},
     "outputs": [],
     "prompt_number": 10
    },
    {
     "cell_type": "markdown",
     "metadata": {},
     "source": [
      "With the list of matchIDs that we want to examine, we query the API again to get more detailed data about each particular match. This includes the champions selected by both sides and the roles they played in the game, as well as the game outcome and gold earned throughout the game. We will be using gold earned by a team as one of our variables because it is a very strong indicator of game dominance. "
     ]
    },
    {
     "cell_type": "markdown",
     "metadata": {},
     "source": [
      "We want to organize our data so that instead of using champion IDs, we have champion names instead. The following code segment provides a mapping from ID to name."
     ]
    },
    {
     "cell_type": "code",
     "collapsed": false,
     "input": [
      "# champion key lookup by id - define a dictionary that can find a champion name from its Riot ID\n",
      "static_champion_data = {}\n",
      "url = 'https://na.api.pvp.net/api/lol/static-data/na/v1.2/champion?api_key=7dff8fa2-5167-40f3-8c11-9b1887b6ca8a'\n",
      "champs = requests.get(url).json()\n",
      "for champ, data in champs['data'].iteritems():\n",
      "    static_champion_data[data['id']] = champ"
     ],
     "language": "python",
     "metadata": {},
     "outputs": [],
     "prompt_number": 2
    },
    {
     "cell_type": "markdown",
     "metadata": {},
     "source": [
      "The following function gets the data in chunks because we wanted to limit failure."
     ]
    },
    {
     "cell_type": "code",
     "collapsed": false,
     "input": [
      "\"\"\"\n",
      "Polls the Riot API to get the data about certain matches\n",
      "Args:\n",
      "    match_Ids: list of match IDs to poll from\n",
      "    begin_index: index to start from in the list\n",
      "    end_index: index to end at from the list\n",
      "\"\"\"\n",
      "def get_matches(match_Ids, begin_index, end_index):\n",
      "\n",
      "    # for rate limiting\n",
      "    num_requests = 0\n",
      "    match_Ids_piece = list(match_Ids)[begin_index:end_index]\n",
      "    num_Ids = len(list(match_Ids))\n",
      "\n",
      "    for match_Id in match_Ids_piece:\n",
      "        url = \"https://na.api.pvp.net/api/lol/na/v2.2/match/\" + str(match_Id) + \"?api_key=\" + api_key\n",
      "        response = requests.get(url)\n",
      "        try:\n",
      "            match_data = response.json()\n",
      "        except ValueError:\n",
      "            print 'JSON Decoding failed for url: ' + url\n",
      "\n",
      "        num_requests += 1\n",
      "        if num_requests % 10 == 0:\n",
      "            time.sleep(10)\n",
      "        if num_requests % 100 == 0:\n",
      "            print \"Processed \" + str(num_requests) + \" requests\"\n",
      "        all_match_data.append(match_data)\n",
      "    \n",
      "    # save into a corresponding file\n",
      "    f = open('matchData' + str(begin_index) + '_' + str(end_index) + '.pckl', 'w')\n",
      "    pickle.dump(all_match_data, f)\n",
      "    f.close()"
     ],
     "language": "python",
     "metadata": {},
     "outputs": [],
     "prompt_number": 23
    },
    {
     "cell_type": "markdown",
     "metadata": {},
     "source": [
      "Now that we have all the data, we convert the data that we want into a dataframe."
     ]
    },
    {
     "cell_type": "code",
     "collapsed": false,
     "input": [
      "def convert_to_matches(all_match_data, matches):\n",
      "    for match_data in all_match_data:\n",
      "        if 'participants' in match_data:\n",
      "            participants = match_data['participants']\n",
      "            # separate teams by checking team ID\n",
      "            team1 = []\n",
      "            team2 = []\n",
      "            team1_win = None\n",
      "            for participant in participants:\n",
      "                if (participant['teamId'] == 100):\n",
      "                    team1.append(participant)\n",
      "                    team1_win = participant['stats']['winner']\n",
      "                else:\n",
      "                    team2.append(participant)\n",
      "                    team1_win = not participant['stats']['winner']\n",
      "            team1_gold = sum([participant['stats']['goldEarned'] for participant in team1])\n",
      "            team2_gold = sum([participant['stats']['goldEarned'] for participant in team2])\n",
      "\n",
      "            match_summary = [None for i in xrange(0, 13)]\n",
      "\n",
      "            match_summary[0] = match_data['matchId']\n",
      "            ## Row invariant: first column will be match ID, next 5 columns are team 1 in the following order\n",
      "            #  1. Top\n",
      "            #  2. Jungle\n",
      "            #  3. Middle\n",
      "            #  4. Bottom AD Carry\n",
      "            #  5. Bottom Support\n",
      "            # The next 5 columns is team 2 with the same order\n",
      "            # The 12th column is the gold differential between the winning and the losing team.\n",
      "            # The 13th column is the team that won the game\n",
      "            for player in team1:\n",
      "                if player['timeline']['lane'] == 'TOP':\n",
      "                    match_summary[1] = static_champion_data[player['championId']]\n",
      "                if player['timeline']['lane'] == 'JUNGLE':\n",
      "                    match_summary[2] = static_champion_data[player['championId']]\n",
      "                if player['timeline']['lane'] == 'MID' or player['timeline']['lane'] == 'MIDDLE':\n",
      "                    match_summary[3] = static_champion_data[player['championId']]\n",
      "                if player['timeline']['lane'] == 'BOT' or player['timeline']['lane'] == 'BOTTOM':\n",
      "                    if player['timeline']['role'] == 'DUO_CARRY':\n",
      "                        match_summary[4] = static_champion_data[player['championId']]\n",
      "                    else:\n",
      "                        match_summary[5] = static_champion_data[player['championId']]\n",
      "\n",
      "            for player in team2:\n",
      "                if player['timeline']['lane'] == 'TOP':\n",
      "                    match_summary[6] = static_champion_data[player['championId']]\n",
      "                if player['timeline']['lane'] == 'JUNGLE':\n",
      "                    match_summary[7] = static_champion_data[player['championId']]\n",
      "                if player['timeline']['lane'] == 'MID' or player['timeline']['lane'] == 'MIDDLE':\n",
      "                    match_summary[8] = static_champion_data[player['championId']]\n",
      "                if player['timeline']['lane'] == 'BOT' or player['timeline']['lane'] == 'BOTTOM':\n",
      "                    if player['timeline']['role'] == 'DUO_CARRY':\n",
      "                        match_summary[9] = static_champion_data[player['championId']]\n",
      "                    else:\n",
      "                        match_summary[10] = static_champion_data[player['championId']]\n",
      "            match_summary[11] = team1_gold - team2_gold\n",
      "            match_summary[12] = int(team1_win)\n",
      "            matches.append(match_summary)\n",
      "    return matches\n"
     ],
     "language": "python",
     "metadata": {},
     "outputs": [],
     "prompt_number": 3
    },
    {
     "cell_type": "code",
     "collapsed": false,
     "input": [
      "# store all the data into a list\n",
      "matches = []\n",
      "\n",
      "print 'Reading first part...'\n",
      "all_match_data = pickle.load(open('matchData4000_8000.pckl', 'rb'))\n",
      "matches = convert_to_matches(all_match_data, matches)\n",
      "\n",
      "print 'Reading second part...'\n",
      "all_match_data = pickle.load(open('matchData8000_30000.pckl', 'rb'))\n",
      "matches = convert_to_matches(all_match_data, matches)"
     ],
     "language": "python",
     "metadata": {},
     "outputs": [
      {
       "output_type": "stream",
       "stream": "stdout",
       "text": [
        "Reading first part...\n",
        "Reading second part...\n"
       ]
      }
     ],
     "prompt_number": 6
    },
    {
     "cell_type": "code",
     "collapsed": false,
     "input": [
      "print 'Reading third part...'\n",
      "all_match_data = pickle.load(open('matchData30000_34000.pckl', 'rb'))\n",
      "matches = convert_to_matches(all_match_data, matches)\n",
      "\n",
      "print 'Reading last part...'\n",
      "all_match_data = pickle.load(open('matchData34000_51632.pckl', 'rb'))\n",
      "matches = convert_to_matches(all_match_data, matches)"
     ],
     "language": "python",
     "metadata": {},
     "outputs": [
      {
       "output_type": "stream",
       "stream": "stdout",
       "text": [
        "Reading third part...\n",
        "Reading last part..."
       ]
      },
      {
       "output_type": "stream",
       "stream": "stdout",
       "text": [
        "\n"
       ]
      }
     ],
     "prompt_number": 7
    },
    {
     "cell_type": "code",
     "collapsed": false,
     "input": [
      "def clean_data(matches):\n",
      "    headers = ['Match ID', 'top1', 'jun1', 'mid1', 'adc1', 'sup1', 'top2', 'jun2', 'mid2', 'adc2', 'sup2', 'Gold Diff', 'Winner']\n",
      "    match_data_df = pd.DataFrame(matches,columns=headers)\n",
      "    for i in range(0, len(match_data_df.columns)):\n",
      "        match_data_df = match_data_df[match_data_df[match_data_df.columns[i]].isnull() == False]\n",
      "    match_data_df = match_data_df.reset_index(drop=True)\n",
      "    return match_data_df"
     ],
     "language": "python",
     "metadata": {},
     "outputs": [],
     "prompt_number": 8
    },
    {
     "cell_type": "code",
     "collapsed": false,
     "input": [
      "match_data_df = clean_data(matches)\n",
      "f = open('matchSummary4000_end.pckl', 'w')\n",
      "pickle.dump(match_data_df, f)\n",
      "f.close()"
     ],
     "language": "python",
     "metadata": {},
     "outputs": [],
     "prompt_number": 11
    },
    {
     "cell_type": "code",
     "collapsed": false,
     "input": [
      "match_data_df = pickle.load(open('matchSummary4000_end.pckl', 'rb'))\n",
      "match_data_df"
     ],
     "language": "python",
     "metadata": {},
     "outputs": [
      {
       "html": [
        "<div style=\"max-height:1000px;max-width:1500px;overflow:auto;\">\n",
        "<table border=\"1\" class=\"dataframe\">\n",
        "  <thead>\n",
        "    <tr style=\"text-align: right;\">\n",
        "      <th></th>\n",
        "      <th>Match ID</th>\n",
        "      <th>top1</th>\n",
        "      <th>jun1</th>\n",
        "      <th>mid1</th>\n",
        "      <th>adc1</th>\n",
        "      <th>sup1</th>\n",
        "      <th>top2</th>\n",
        "      <th>jun2</th>\n",
        "      <th>mid2</th>\n",
        "      <th>adc2</th>\n",
        "      <th>sup2</th>\n",
        "      <th>Gold Diff</th>\n",
        "      <th>Winner</th>\n",
        "    </tr>\n",
        "  </thead>\n",
        "  <tbody>\n",
        "    <tr>\n",
        "      <th>0    </th>\n",
        "      <td> 1516251192</td>\n",
        "      <td>      Jayce</td>\n",
        "      <td>        Elise</td>\n",
        "      <td>        Fizz</td>\n",
        "      <td>      Lucian</td>\n",
        "      <td> Blitzcrank</td>\n",
        "      <td>        Zed</td>\n",
        "      <td>       Khazix</td>\n",
        "      <td>    Katarina</td>\n",
        "      <td>    Corki</td>\n",
        "      <td>      Braum</td>\n",
        "      <td>    14</td>\n",
        "      <td> 1</td>\n",
        "    </tr>\n",
        "    <tr>\n",
        "      <th>1    </th>\n",
        "      <td> 1386752062</td>\n",
        "      <td>     Gragas</td>\n",
        "      <td> FiddleSticks</td>\n",
        "      <td>    Katarina</td>\n",
        "      <td>      Lucian</td>\n",
        "      <td>     Thresh</td>\n",
        "      <td> MonkeyKing</td>\n",
        "      <td>     Pantheon</td>\n",
        "      <td>       Kayle</td>\n",
        "      <td>    Varus</td>\n",
        "      <td>      Janna</td>\n",
        "      <td>-11522</td>\n",
        "      <td> 0</td>\n",
        "    </tr>\n",
        "    <tr>\n",
        "      <th>2    </th>\n",
        "      <td> 1509304384</td>\n",
        "      <td>      Swain</td>\n",
        "      <td>      Warwick</td>\n",
        "      <td>    Tristana</td>\n",
        "      <td>      Lucian</td>\n",
        "      <td>    Alistar</td>\n",
        "      <td>      Akali</td>\n",
        "      <td>      Trundle</td>\n",
        "      <td>        Fizz</td>\n",
        "      <td>    Corki</td>\n",
        "      <td> Blitzcrank</td>\n",
        "      <td>  3857</td>\n",
        "      <td> 1</td>\n",
        "    </tr>\n",
        "    <tr>\n",
        "      <th>3    </th>\n",
        "      <td> 1536043075</td>\n",
        "      <td>      Akali</td>\n",
        "      <td>      Warwick</td>\n",
        "      <td>     Orianna</td>\n",
        "      <td>       Vayne</td>\n",
        "      <td>    Morgana</td>\n",
        "      <td>     Maokai</td>\n",
        "      <td>     Pantheon</td>\n",
        "      <td>       Yasuo</td>\n",
        "      <td> Tristana</td>\n",
        "      <td>      Janna</td>\n",
        "      <td>-17505</td>\n",
        "      <td> 0</td>\n",
        "    </tr>\n",
        "    <tr>\n",
        "      <th>4    </th>\n",
        "      <td> 1533159493</td>\n",
        "      <td>      Yasuo</td>\n",
        "      <td>     JarvanIV</td>\n",
        "      <td>     Orianna</td>\n",
        "      <td> MissFortune</td>\n",
        "      <td>       Nami</td>\n",
        "      <td>      Riven</td>\n",
        "      <td>      Hecarim</td>\n",
        "      <td>  Cassiopeia</td>\n",
        "      <td>   Lucian</td>\n",
        "      <td>     Thresh</td>\n",
        "      <td>-11915</td>\n",
        "      <td> 0</td>\n",
        "    </tr>\n",
        "    <tr>\n",
        "      <th>5    </th>\n",
        "      <td> 1504585799</td>\n",
        "      <td>      Jayce</td>\n",
        "      <td> FiddleSticks</td>\n",
        "      <td>      KogMaw</td>\n",
        "      <td>       Vayne</td>\n",
        "      <td>       Zyra</td>\n",
        "      <td>     Kennen</td>\n",
        "      <td>       Maokai</td>\n",
        "      <td> TwistedFate</td>\n",
        "      <td>   Draven</td>\n",
        "      <td>     Thresh</td>\n",
        "      <td> -7798</td>\n",
        "      <td> 0</td>\n",
        "    </tr>\n",
        "    <tr>\n",
        "      <th>6    </th>\n",
        "      <td> 1584015433</td>\n",
        "      <td>       Ryze</td>\n",
        "      <td>       Rammus</td>\n",
        "      <td>      Xerath</td>\n",
        "      <td>       Corki</td>\n",
        "      <td>      Janna</td>\n",
        "      <td>     Rumble</td>\n",
        "      <td>       LeeSin</td>\n",
        "      <td>         Zed</td>\n",
        "      <td>   Lucian</td>\n",
        "      <td>       Sona</td>\n",
        "      <td>  3754</td>\n",
        "      <td> 1</td>\n",
        "    </tr>\n",
        "    <tr>\n",
        "      <th>7    </th>\n",
        "      <td> 1383999567</td>\n",
        "      <td>        Jax</td>\n",
        "      <td>        Kayle</td>\n",
        "      <td>       Brand</td>\n",
        "      <td>      Lucian</td>\n",
        "      <td>       Lulu</td>\n",
        "      <td>     LeeSin</td>\n",
        "      <td>   MonkeyKing</td>\n",
        "      <td>   Lissandra</td>\n",
        "      <td>     Jinx</td>\n",
        "      <td>     Thresh</td>\n",
        "      <td> 11251</td>\n",
        "      <td> 1</td>\n",
        "    </tr>\n",
        "    <tr>\n",
        "      <th>8    </th>\n",
        "      <td> 1385441361</td>\n",
        "      <td>     Rengar</td>\n",
        "      <td>        Kayle</td>\n",
        "      <td>       Akali</td>\n",
        "      <td>      Ezreal</td>\n",
        "      <td>      Karma</td>\n",
        "      <td>     LeeSin</td>\n",
        "      <td>     Nocturne</td>\n",
        "      <td>     Nidalee</td>\n",
        "      <td>  Caitlyn</td>\n",
        "      <td>    Morgana</td>\n",
        "      <td> 10059</td>\n",
        "      <td> 1</td>\n",
        "    </tr>\n",
        "    <tr>\n",
        "      <th>9    </th>\n",
        "      <td> 1397893207</td>\n",
        "      <td> Tryndamere</td>\n",
        "      <td>       LeeSin</td>\n",
        "      <td>     Nidalee</td>\n",
        "      <td>      Graves</td>\n",
        "      <td>    Alistar</td>\n",
        "      <td>     Rengar</td>\n",
        "      <td>       Khazix</td>\n",
        "      <td>     Leblanc</td>\n",
        "      <td>   Draven</td>\n",
        "      <td>    Morgana</td>\n",
        "      <td>  5409</td>\n",
        "      <td> 1</td>\n",
        "    </tr>\n",
        "    <tr>\n",
        "      <th>10   </th>\n",
        "      <td> 1436690521</td>\n",
        "      <td>      Riven</td>\n",
        "      <td>        Amumu</td>\n",
        "      <td>     Orianna</td>\n",
        "      <td>      Lucian</td>\n",
        "      <td> Blitzcrank</td>\n",
        "      <td>   Renekton</td>\n",
        "      <td>       LeeSin</td>\n",
        "      <td>     Leblanc</td>\n",
        "      <td>   Ezreal</td>\n",
        "      <td>       Sona</td>\n",
        "      <td>-13987</td>\n",
        "      <td> 0</td>\n",
        "    </tr>\n",
        "    <tr>\n",
        "      <th>11   </th>\n",
        "      <td> 1399072859</td>\n",
        "      <td>      Yasuo</td>\n",
        "      <td>       Rammus</td>\n",
        "      <td>     Nidalee</td>\n",
        "      <td>     Caitlyn</td>\n",
        "      <td>      Karma</td>\n",
        "      <td>     Irelia</td>\n",
        "      <td>        Elise</td>\n",
        "      <td>     Orianna</td>\n",
        "      <td>   Lucian</td>\n",
        "      <td>    Morgana</td>\n",
        "      <td>  2678</td>\n",
        "      <td> 1</td>\n",
        "    </tr>\n",
        "    <tr>\n",
        "      <th>12   </th>\n",
        "      <td> 1585719388</td>\n",
        "      <td>      Akali</td>\n",
        "      <td>       LeeSin</td>\n",
        "      <td>    Katarina</td>\n",
        "      <td>      Lucian</td>\n",
        "      <td>     Thresh</td>\n",
        "      <td>       Ryze</td>\n",
        "      <td>       Khazix</td>\n",
        "      <td>       Jayce</td>\n",
        "      <td>    Corki</td>\n",
        "      <td>      Leona</td>\n",
        "      <td> -2297</td>\n",
        "      <td> 0</td>\n",
        "    </tr>\n",
        "    <tr>\n",
        "      <th>13   </th>\n",
        "      <td> 1462380646</td>\n",
        "      <td>     Gragas</td>\n",
        "      <td>        Elise</td>\n",
        "      <td>       Annie</td>\n",
        "      <td>       Corki</td>\n",
        "      <td>      Braum</td>\n",
        "      <td>       Lulu</td>\n",
        "      <td> FiddleSticks</td>\n",
        "      <td>       Ziggs</td>\n",
        "      <td>     Jinx</td>\n",
        "      <td>      Leona</td>\n",
        "      <td>-14816</td>\n",
        "      <td> 0</td>\n",
        "    </tr>\n",
        "    <tr>\n",
        "      <th>14   </th>\n",
        "      <td> 1392781416</td>\n",
        "      <td>    Shyvana</td>\n",
        "      <td>      Evelynn</td>\n",
        "      <td>     Nidalee</td>\n",
        "      <td>     Caitlyn</td>\n",
        "      <td>       Nami</td>\n",
        "      <td>      Karma</td>\n",
        "      <td>       LeeSin</td>\n",
        "      <td> TwistedFate</td>\n",
        "      <td>   Draven</td>\n",
        "      <td>       Zyra</td>\n",
        "      <td> 15721</td>\n",
        "      <td> 1</td>\n",
        "    </tr>\n",
        "    <tr>\n",
        "      <th>15   </th>\n",
        "      <td> 1551509609</td>\n",
        "      <td>      Vayne</td>\n",
        "      <td>       LeeSin</td>\n",
        "      <td>        Fizz</td>\n",
        "      <td>      Lucian</td>\n",
        "      <td>     Zilean</td>\n",
        "      <td>   Renekton</td>\n",
        "      <td>       Khazix</td>\n",
        "      <td>    Malzahar</td>\n",
        "      <td>   Graves</td>\n",
        "      <td>      Leona</td>\n",
        "      <td> 14021</td>\n",
        "      <td> 1</td>\n",
        "    </tr>\n",
        "    <tr>\n",
        "      <th>16   </th>\n",
        "      <td> 1576806506</td>\n",
        "      <td>      Riven</td>\n",
        "      <td>        Amumu</td>\n",
        "      <td>         Zed</td>\n",
        "      <td>      Lucian</td>\n",
        "      <td>      Leona</td>\n",
        "      <td>    Nidalee</td>\n",
        "      <td>       LeeSin</td>\n",
        "      <td>        Azir</td>\n",
        "      <td> Tristana</td>\n",
        "      <td>     Thresh</td>\n",
        "      <td> 13545</td>\n",
        "      <td> 1</td>\n",
        "    </tr>\n",
        "    <tr>\n",
        "      <th>17   </th>\n",
        "      <td> 1524901996</td>\n",
        "      <td>     Irelia</td>\n",
        "      <td>     JarvanIV</td>\n",
        "      <td>       Yasuo</td>\n",
        "      <td>       Vayne</td>\n",
        "      <td>       Nami</td>\n",
        "      <td>   Katarina</td>\n",
        "      <td>       LeeSin</td>\n",
        "      <td>       Jayce</td>\n",
        "      <td>   Lucian</td>\n",
        "      <td>     Thresh</td>\n",
        "      <td> -1894</td>\n",
        "      <td> 0</td>\n",
        "    </tr>\n",
        "    <tr>\n",
        "      <th>18   </th>\n",
        "      <td> 1621239918</td>\n",
        "      <td>      Riven</td>\n",
        "      <td>      Hecarim</td>\n",
        "      <td>      Syndra</td>\n",
        "      <td>      Lucian</td>\n",
        "      <td>       Nami</td>\n",
        "      <td>     Kennen</td>\n",
        "      <td>     JarvanIV</td>\n",
        "      <td> TwistedFate</td>\n",
        "      <td>     Jinx</td>\n",
        "      <td>     Soraka</td>\n",
        "      <td>-11313</td>\n",
        "      <td> 0</td>\n",
        "    </tr>\n",
        "    <tr>\n",
        "      <th>19   </th>\n",
        "      <td> 1488914109</td>\n",
        "      <td>      Akali</td>\n",
        "      <td>        Amumu</td>\n",
        "      <td>       Yasuo</td>\n",
        "      <td>    Tristana</td>\n",
        "      <td>     Syndra</td>\n",
        "      <td>   Vladimir</td>\n",
        "      <td> FiddleSticks</td>\n",
        "      <td>    Katarina</td>\n",
        "      <td>   Lucian</td>\n",
        "      <td>    Morgana</td>\n",
        "      <td> 18851</td>\n",
        "      <td> 1</td>\n",
        "    </tr>\n",
        "    <tr>\n",
        "      <th>20   </th>\n",
        "      <td> 1608788085</td>\n",
        "      <td>     Singed</td>\n",
        "      <td>       Rengar</td>\n",
        "      <td>     Orianna</td>\n",
        "      <td>      Lucian</td>\n",
        "      <td>     Thresh</td>\n",
        "      <td> Tryndamere</td>\n",
        "      <td>           Vi</td>\n",
        "      <td>      KogMaw</td>\n",
        "      <td>   Ezreal</td>\n",
        "      <td>      Janna</td>\n",
        "      <td> 11960</td>\n",
        "      <td> 1</td>\n",
        "    </tr>\n",
        "    <tr>\n",
        "      <th>21   </th>\n",
        "      <td> 1422272634</td>\n",
        "      <td>       Lulu</td>\n",
        "      <td>       Rengar</td>\n",
        "      <td>      Syndra</td>\n",
        "      <td>      Draven</td>\n",
        "      <td>      Braum</td>\n",
        "      <td>      Jayce</td>\n",
        "      <td>           Vi</td>\n",
        "      <td> TwistedFate</td>\n",
        "      <td>   Graves</td>\n",
        "      <td>       Zyra</td>\n",
        "      <td>-12552</td>\n",
        "      <td> 0</td>\n",
        "    </tr>\n",
        "    <tr>\n",
        "      <th>22   </th>\n",
        "      <td> 1498657130</td>\n",
        "      <td>      Leona</td>\n",
        "      <td>           Vi</td>\n",
        "      <td>        Ryze</td>\n",
        "      <td>     Caitlyn</td>\n",
        "      <td>     Thresh</td>\n",
        "      <td>       Gnar</td>\n",
        "      <td>       Gragas</td>\n",
        "      <td>      Xerath</td>\n",
        "      <td>    Corki</td>\n",
        "      <td>       Zyra</td>\n",
        "      <td>-14053</td>\n",
        "      <td> 0</td>\n",
        "    </tr>\n",
        "    <tr>\n",
        "      <th>23   </th>\n",
        "      <td> 1424107647</td>\n",
        "      <td>      Quinn</td>\n",
        "      <td>           Vi</td>\n",
        "      <td> TwistedFate</td>\n",
        "      <td>      Twitch</td>\n",
        "      <td>     Velkoz</td>\n",
        "      <td>      Yasuo</td>\n",
        "      <td>       Rengar</td>\n",
        "      <td>     Leblanc</td>\n",
        "      <td>  Caitlyn</td>\n",
        "      <td>     Thresh</td>\n",
        "      <td>  3230</td>\n",
        "      <td> 1</td>\n",
        "    </tr>\n",
        "    <tr>\n",
        "      <th>24   </th>\n",
        "      <td> 1524246656</td>\n",
        "      <td>      Poppy</td>\n",
        "      <td>       LeeSin</td>\n",
        "      <td>    Katarina</td>\n",
        "      <td>      Lucian</td>\n",
        "      <td>       Sona</td>\n",
        "      <td>      Fiora</td>\n",
        "      <td>     JarvanIV</td>\n",
        "      <td>      Kennen</td>\n",
        "      <td>    Corki</td>\n",
        "      <td>     Gragas</td>\n",
        "      <td>  7984</td>\n",
        "      <td> 1</td>\n",
        "    </tr>\n",
        "    <tr>\n",
        "      <th>25   </th>\n",
        "      <td> 1453205636</td>\n",
        "      <td>   Katarina</td>\n",
        "      <td>     JarvanIV</td>\n",
        "      <td>        Fizz</td>\n",
        "      <td>        Jinx</td>\n",
        "      <td>      Annie</td>\n",
        "      <td>      Riven</td>\n",
        "      <td>       Maokai</td>\n",
        "      <td>      Xerath</td>\n",
        "      <td> Tristana</td>\n",
        "      <td>     Gragas</td>\n",
        "      <td> 10054</td>\n",
        "      <td> 1</td>\n",
        "    </tr>\n",
        "    <tr>\n",
        "      <th>26   </th>\n",
        "      <td> 1497114758</td>\n",
        "      <td>   Vladimir</td>\n",
        "      <td>     JarvanIV</td>\n",
        "      <td>     Orianna</td>\n",
        "      <td>      Lucian</td>\n",
        "      <td> Blitzcrank</td>\n",
        "      <td>      Swain</td>\n",
        "      <td>       Khazix</td>\n",
        "      <td>       Yasuo</td>\n",
        "      <td>   Draven</td>\n",
        "      <td>     Thresh</td>\n",
        "      <td> 14239</td>\n",
        "      <td> 1</td>\n",
        "    </tr>\n",
        "    <tr>\n",
        "      <th>27   </th>\n",
        "      <td> 1478764679</td>\n",
        "      <td>    Alistar</td>\n",
        "      <td>       LeeSin</td>\n",
        "      <td>       Quinn</td>\n",
        "      <td>    Tristana</td>\n",
        "      <td>      Janna</td>\n",
        "      <td>     Irelia</td>\n",
        "      <td>       Khazix</td>\n",
        "      <td>     Orianna</td>\n",
        "      <td>   Lucian</td>\n",
        "      <td>    Morgana</td>\n",
        "      <td>-10450</td>\n",
        "      <td> 0</td>\n",
        "    </tr>\n",
        "    <tr>\n",
        "      <th>28   </th>\n",
        "      <td> 1442558316</td>\n",
        "      <td>     Irelia</td>\n",
        "      <td>     Pantheon</td>\n",
        "      <td>      KogMaw</td>\n",
        "      <td>     Caitlyn</td>\n",
        "      <td>     Thresh</td>\n",
        "      <td>        Jax</td>\n",
        "      <td>          Zac</td>\n",
        "      <td>    JarvanIV</td>\n",
        "      <td>   Lucian</td>\n",
        "      <td>      Braum</td>\n",
        "      <td>  6841</td>\n",
        "      <td> 1</td>\n",
        "    </tr>\n",
        "    <tr>\n",
        "      <th>29   </th>\n",
        "      <td> 1396934897</td>\n",
        "      <td>      Jayce</td>\n",
        "      <td>       Rammus</td>\n",
        "      <td>     Orianna</td>\n",
        "      <td>     Caitlyn</td>\n",
        "      <td>      Janna</td>\n",
        "      <td>       Ryze</td>\n",
        "      <td>       Rengar</td>\n",
        "      <td>     Nidalee</td>\n",
        "      <td>   Lucian</td>\n",
        "      <td>       Zyra</td>\n",
        "      <td>  9797</td>\n",
        "      <td> 1</td>\n",
        "    </tr>\n",
        "    <tr>\n",
        "      <th>...</th>\n",
        "      <td>...</td>\n",
        "      <td>...</td>\n",
        "      <td>...</td>\n",
        "      <td>...</td>\n",
        "      <td>...</td>\n",
        "      <td>...</td>\n",
        "      <td>...</td>\n",
        "      <td>...</td>\n",
        "      <td>...</td>\n",
        "      <td>...</td>\n",
        "      <td>...</td>\n",
        "      <td>...</td>\n",
        "      <td>...</td>\n",
        "    </tr>\n",
        "    <tr>\n",
        "      <th>37077</th>\n",
        "      <td> 1398756674</td>\n",
        "      <td>       Shen</td>\n",
        "      <td>       LeeSin</td>\n",
        "      <td>       Yasuo</td>\n",
        "      <td>     Caitlyn</td>\n",
        "      <td>      Janna</td>\n",
        "      <td>     Khazix</td>\n",
        "      <td>        Shaco</td>\n",
        "      <td>         Lux</td>\n",
        "      <td>   Lucian</td>\n",
        "      <td>     Gragas</td>\n",
        "      <td> 13671</td>\n",
        "      <td> 1</td>\n",
        "    </tr>\n",
        "    <tr>\n",
        "      <th>37078</th>\n",
        "      <td> 1490812821</td>\n",
        "      <td>     Gragas</td>\n",
        "      <td>      Hecarim</td>\n",
        "      <td>        Ahri</td>\n",
        "      <td>     Caitlyn</td>\n",
        "      <td>      Janna</td>\n",
        "      <td>      Riven</td>\n",
        "      <td>       LeeSin</td>\n",
        "      <td>      Zilean</td>\n",
        "      <td>     Ashe</td>\n",
        "      <td>    Morgana</td>\n",
        "      <td>-10757</td>\n",
        "      <td> 0</td>\n",
        "    </tr>\n",
        "    <tr>\n",
        "      <th>37079</th>\n",
        "      <td> 1391984534</td>\n",
        "      <td>      Jayce</td>\n",
        "      <td>        Amumu</td>\n",
        "      <td>     Leblanc</td>\n",
        "      <td>      Lucian</td>\n",
        "      <td>     Thresh</td>\n",
        "      <td>      Akali</td>\n",
        "      <td>        Elise</td>\n",
        "      <td>     Nidalee</td>\n",
        "      <td>  Caitlyn</td>\n",
        "      <td>      Braum</td>\n",
        "      <td> -5582</td>\n",
        "      <td> 0</td>\n",
        "    </tr>\n",
        "    <tr>\n",
        "      <th>37080</th>\n",
        "      <td> 1634249369</td>\n",
        "      <td>      Riven</td>\n",
        "      <td>     JarvanIV</td>\n",
        "      <td>      Syndra</td>\n",
        "      <td>       Corki</td>\n",
        "      <td>      Janna</td>\n",
        "      <td>    Nidalee</td>\n",
        "      <td>       LeeSin</td>\n",
        "      <td>      Xerath</td>\n",
        "      <td>   Graves</td>\n",
        "      <td>     Soraka</td>\n",
        "      <td>  7805</td>\n",
        "      <td> 1</td>\n",
        "    </tr>\n",
        "    <tr>\n",
        "      <th>37081</th>\n",
        "      <td> 1392377752</td>\n",
        "      <td>    Shyvana</td>\n",
        "      <td>        Kayle</td>\n",
        "      <td>        Lulu</td>\n",
        "      <td>       Vayne</td>\n",
        "      <td>      Janna</td>\n",
        "      <td>     Irelia</td>\n",
        "      <td>       LeeSin</td>\n",
        "      <td>       Yasuo</td>\n",
        "      <td>  Caitlyn</td>\n",
        "      <td>      Karma</td>\n",
        "      <td>-10595</td>\n",
        "      <td> 0</td>\n",
        "    </tr>\n",
        "    <tr>\n",
        "      <th>37082</th>\n",
        "      <td> 1427442866</td>\n",
        "      <td>     Rumble</td>\n",
        "      <td>      XinZhao</td>\n",
        "      <td>        Lulu</td>\n",
        "      <td>       Corki</td>\n",
        "      <td>      Janna</td>\n",
        "      <td> Tryndamere</td>\n",
        "      <td>       LeeSin</td>\n",
        "      <td>     Leblanc</td>\n",
        "      <td>   Lucian</td>\n",
        "      <td>     Thresh</td>\n",
        "      <td>-14508</td>\n",
        "      <td> 0</td>\n",
        "    </tr>\n",
        "    <tr>\n",
        "      <th>37083</th>\n",
        "      <td> 1463156660</td>\n",
        "      <td>     Irelia</td>\n",
        "      <td>      Evelynn</td>\n",
        "      <td>        Ahri</td>\n",
        "      <td>      Lucian</td>\n",
        "      <td>    Morgana</td>\n",
        "      <td>   Renekton</td>\n",
        "      <td>     JarvanIV</td>\n",
        "      <td>       Akali</td>\n",
        "      <td>   Twitch</td>\n",
        "      <td>       Nami</td>\n",
        "      <td>-20519</td>\n",
        "      <td> 0</td>\n",
        "    </tr>\n",
        "    <tr>\n",
        "      <th>37084</th>\n",
        "      <td> 1482686391</td>\n",
        "      <td>    Nidalee</td>\n",
        "      <td>     JarvanIV</td>\n",
        "      <td>         Zed</td>\n",
        "      <td>        Jinx</td>\n",
        "      <td>     Thresh</td>\n",
        "      <td>     Maokai</td>\n",
        "      <td>        Elise</td>\n",
        "      <td>       Yasuo</td>\n",
        "      <td>   Lucian</td>\n",
        "      <td>    Morgana</td>\n",
        "      <td> 11031</td>\n",
        "      <td> 1</td>\n",
        "    </tr>\n",
        "    <tr>\n",
        "      <th>37085</th>\n",
        "      <td> 1605369785</td>\n",
        "      <td>      Quinn</td>\n",
        "      <td> FiddleSticks</td>\n",
        "      <td>       Kayle</td>\n",
        "      <td>      Lucian</td>\n",
        "      <td>    Alistar</td>\n",
        "      <td>  Lissandra</td>\n",
        "      <td>      Evelynn</td>\n",
        "      <td>         Zed</td>\n",
        "      <td>     Jinx</td>\n",
        "      <td>    Morgana</td>\n",
        "      <td>-15749</td>\n",
        "      <td> 0</td>\n",
        "    </tr>\n",
        "    <tr>\n",
        "      <th>37086</th>\n",
        "      <td> 1374683068</td>\n",
        "      <td>      Teemo</td>\n",
        "      <td>        Elise</td>\n",
        "      <td>     Leblanc</td>\n",
        "      <td>      Ezreal</td>\n",
        "      <td>    Morgana</td>\n",
        "      <td>      Garen</td>\n",
        "      <td>       LeeSin</td>\n",
        "      <td>        Zyra</td>\n",
        "      <td>    Varus</td>\n",
        "      <td>       Nami</td>\n",
        "      <td>-17429</td>\n",
        "      <td> 0</td>\n",
        "    </tr>\n",
        "    <tr>\n",
        "      <th>37087</th>\n",
        "      <td> 1548615616</td>\n",
        "      <td>       Ryze</td>\n",
        "      <td>        Shaco</td>\n",
        "      <td>       Yasuo</td>\n",
        "      <td>      Lucian</td>\n",
        "      <td>    Alistar</td>\n",
        "      <td>      Nasus</td>\n",
        "      <td>       LeeSin</td>\n",
        "      <td>         Zed</td>\n",
        "      <td>   Graves</td>\n",
        "      <td> Blitzcrank</td>\n",
        "      <td> -8322</td>\n",
        "      <td> 0</td>\n",
        "    </tr>\n",
        "    <tr>\n",
        "      <th>37088</th>\n",
        "      <td> 1635625632</td>\n",
        "      <td>     Rengar</td>\n",
        "      <td>       Khazix</td>\n",
        "      <td>        Ahri</td>\n",
        "      <td>       Corki</td>\n",
        "      <td>      Leona</td>\n",
        "      <td>      Riven</td>\n",
        "      <td>      Nidalee</td>\n",
        "      <td>         Zed</td>\n",
        "      <td>   Lucian</td>\n",
        "      <td>     Thresh</td>\n",
        "      <td>  2918</td>\n",
        "      <td> 1</td>\n",
        "    </tr>\n",
        "    <tr>\n",
        "      <th>37089</th>\n",
        "      <td> 1523843011</td>\n",
        "      <td>      Akali</td>\n",
        "      <td>     JarvanIV</td>\n",
        "      <td>      Syndra</td>\n",
        "      <td>     Caitlyn</td>\n",
        "      <td>      Annie</td>\n",
        "      <td>   Malphite</td>\n",
        "      <td>       Khazix</td>\n",
        "      <td>      Xerath</td>\n",
        "      <td>     Jinx</td>\n",
        "      <td> Blitzcrank</td>\n",
        "      <td>-15502</td>\n",
        "      <td> 0</td>\n",
        "    </tr>\n",
        "    <tr>\n",
        "      <th>37090</th>\n",
        "      <td> 1411645430</td>\n",
        "      <td>   Renekton</td>\n",
        "      <td>        Elise</td>\n",
        "      <td>     Leblanc</td>\n",
        "      <td>      Lucian</td>\n",
        "      <td>     Syndra</td>\n",
        "      <td>     Gragas</td>\n",
        "      <td>       LeeSin</td>\n",
        "      <td>     Orianna</td>\n",
        "      <td>    Corki</td>\n",
        "      <td>    Morgana</td>\n",
        "      <td> 25700</td>\n",
        "      <td> 1</td>\n",
        "    </tr>\n",
        "    <tr>\n",
        "      <th>37091</th>\n",
        "      <td> 1630011336</td>\n",
        "      <td>       Gnar</td>\n",
        "      <td>           Vi</td>\n",
        "      <td>        Fizz</td>\n",
        "      <td>       Corki</td>\n",
        "      <td>     Thresh</td>\n",
        "      <td>     Rumble</td>\n",
        "      <td>     JarvanIV</td>\n",
        "      <td>         Zed</td>\n",
        "      <td>   Draven</td>\n",
        "      <td>      Janna</td>\n",
        "      <td>  9939</td>\n",
        "      <td> 1</td>\n",
        "    </tr>\n",
        "    <tr>\n",
        "      <th>37092</th>\n",
        "      <td> 1406009295</td>\n",
        "      <td>     LeeSin</td>\n",
        "      <td>        Elise</td>\n",
        "      <td>    Tristana</td>\n",
        "      <td>      Lucian</td>\n",
        "      <td>     Xerath</td>\n",
        "      <td>      Jayce</td>\n",
        "      <td>      Evelynn</td>\n",
        "      <td>       Akali</td>\n",
        "      <td>   Ezreal</td>\n",
        "      <td>      Janna</td>\n",
        "      <td>-16492</td>\n",
        "      <td> 0</td>\n",
        "    </tr>\n",
        "    <tr>\n",
        "      <th>37093</th>\n",
        "      <td> 1531969491</td>\n",
        "      <td>       Sion</td>\n",
        "      <td>      Nidalee</td>\n",
        "      <td>       Brand</td>\n",
        "      <td>      Lucian</td>\n",
        "      <td>       Nami</td>\n",
        "      <td>     Irelia</td>\n",
        "      <td>       LeeSin</td>\n",
        "      <td>      Viktor</td>\n",
        "      <td>  Caitlyn</td>\n",
        "      <td>      Akali</td>\n",
        "      <td>-21056</td>\n",
        "      <td> 0</td>\n",
        "    </tr>\n",
        "    <tr>\n",
        "      <th>37094</th>\n",
        "      <td> 1485832148</td>\n",
        "      <td>     Maokai</td>\n",
        "      <td>   MonkeyKing</td>\n",
        "      <td>        Fizz</td>\n",
        "      <td>      Draven</td>\n",
        "      <td>      Janna</td>\n",
        "      <td>      Jayce</td>\n",
        "      <td>       Khazix</td>\n",
        "      <td>        Ryze</td>\n",
        "      <td>   Lucian</td>\n",
        "      <td>    Morgana</td>\n",
        "      <td>  6278</td>\n",
        "      <td> 1</td>\n",
        "    </tr>\n",
        "    <tr>\n",
        "      <th>37095</th>\n",
        "      <td> 1392923982</td>\n",
        "      <td>   Malphite</td>\n",
        "      <td>       Rengar</td>\n",
        "      <td>       Yasuo</td>\n",
        "      <td>      Twitch</td>\n",
        "      <td>       Zyra</td>\n",
        "      <td>     LeeSin</td>\n",
        "      <td>     JarvanIV</td>\n",
        "      <td>     Nidalee</td>\n",
        "      <td>   Lucian</td>\n",
        "      <td>   Nautilus</td>\n",
        "      <td>-16476</td>\n",
        "      <td> 0</td>\n",
        "    </tr>\n",
        "    <tr>\n",
        "      <th>37096</th>\n",
        "      <td> 1424228310</td>\n",
        "      <td>    Nidalee</td>\n",
        "      <td> FiddleSticks</td>\n",
        "      <td>     Leblanc</td>\n",
        "      <td>     Caitlyn</td>\n",
        "      <td>      Janna</td>\n",
        "      <td>   Malphite</td>\n",
        "      <td>           Vi</td>\n",
        "      <td>       Yasuo</td>\n",
        "      <td>   Lucian</td>\n",
        "      <td>    Morgana</td>\n",
        "      <td>-17743</td>\n",
        "      <td> 0</td>\n",
        "    </tr>\n",
        "    <tr>\n",
        "      <th>37097</th>\n",
        "      <td> 1540882394</td>\n",
        "      <td>      Riven</td>\n",
        "      <td>     JarvanIV</td>\n",
        "      <td>     Orianna</td>\n",
        "      <td>       Vayne</td>\n",
        "      <td>      Brand</td>\n",
        "      <td>      Akali</td>\n",
        "      <td>         Nunu</td>\n",
        "      <td>      Syndra</td>\n",
        "      <td>   Lucian</td>\n",
        "      <td>      Janna</td>\n",
        "      <td> -8015</td>\n",
        "      <td> 0</td>\n",
        "    </tr>\n",
        "    <tr>\n",
        "      <th>37098</th>\n",
        "      <td> 1476132831</td>\n",
        "      <td>      Jayce</td>\n",
        "      <td>       LeeSin</td>\n",
        "      <td>        Ahri</td>\n",
        "      <td>      Graves</td>\n",
        "      <td>     Veigar</td>\n",
        "      <td>    Shyvana</td>\n",
        "      <td>       Rengar</td>\n",
        "      <td>  Cassiopeia</td>\n",
        "      <td> Tristana</td>\n",
        "      <td>       Nami</td>\n",
        "      <td> 19573</td>\n",
        "      <td> 1</td>\n",
        "    </tr>\n",
        "    <tr>\n",
        "      <th>37099</th>\n",
        "      <td> 1377894395</td>\n",
        "      <td>     Irelia</td>\n",
        "      <td>           Vi</td>\n",
        "      <td>     Orianna</td>\n",
        "      <td>      Lucian</td>\n",
        "      <td>      Leona</td>\n",
        "      <td>      Riven</td>\n",
        "      <td>        Elise</td>\n",
        "      <td>      Syndra</td>\n",
        "      <td>   Draven</td>\n",
        "      <td>       Lulu</td>\n",
        "      <td>  1033</td>\n",
        "      <td> 1</td>\n",
        "    </tr>\n",
        "    <tr>\n",
        "      <th>37100</th>\n",
        "      <td> 1389494248</td>\n",
        "      <td>     Darius</td>\n",
        "      <td>       LeeSin</td>\n",
        "      <td>       Ziggs</td>\n",
        "      <td>      Lucian</td>\n",
        "      <td>     Thresh</td>\n",
        "      <td>        Jax</td>\n",
        "      <td>       Rengar</td>\n",
        "      <td>     Karthus</td>\n",
        "      <td>   Twitch</td>\n",
        "      <td>      Braum</td>\n",
        "      <td> -9916</td>\n",
        "      <td> 0</td>\n",
        "    </tr>\n",
        "    <tr>\n",
        "      <th>37101</th>\n",
        "      <td> 1531576298</td>\n",
        "      <td>      Nasus</td>\n",
        "      <td>       Khazix</td>\n",
        "      <td>         Zed</td>\n",
        "      <td>       Vayne</td>\n",
        "      <td>     Gragas</td>\n",
        "      <td>       Shen</td>\n",
        "      <td>       LeeSin</td>\n",
        "      <td>        Ryze</td>\n",
        "      <td>   Lucian</td>\n",
        "      <td>     Thresh</td>\n",
        "      <td>  7222</td>\n",
        "      <td> 1</td>\n",
        "    </tr>\n",
        "    <tr>\n",
        "      <th>37102</th>\n",
        "      <td> 1599209452</td>\n",
        "      <td>       Gnar</td>\n",
        "      <td>       LeeSin</td>\n",
        "      <td>     XinZhao</td>\n",
        "      <td>      Lucian</td>\n",
        "      <td>      Janna</td>\n",
        "      <td>      Jayce</td>\n",
        "      <td>        Amumu</td>\n",
        "      <td> TwistedFate</td>\n",
        "      <td>    Corki</td>\n",
        "      <td>     Soraka</td>\n",
        "      <td> 22493</td>\n",
        "      <td> 1</td>\n",
        "    </tr>\n",
        "    <tr>\n",
        "      <th>37103</th>\n",
        "      <td> 1466979666</td>\n",
        "      <td>       Lulu</td>\n",
        "      <td>           Vi</td>\n",
        "      <td>     Orianna</td>\n",
        "      <td>      Lucian</td>\n",
        "      <td>    Morgana</td>\n",
        "      <td>    Shyvana</td>\n",
        "      <td>   MonkeyKing</td>\n",
        "      <td>       Yasuo</td>\n",
        "      <td>  Caitlyn</td>\n",
        "      <td>     Thresh</td>\n",
        "      <td>  6694</td>\n",
        "      <td> 1</td>\n",
        "    </tr>\n",
        "    <tr>\n",
        "      <th>37104</th>\n",
        "      <td> 1378877424</td>\n",
        "      <td> Tryndamere</td>\n",
        "      <td>      Karthus</td>\n",
        "      <td>     Orianna</td>\n",
        "      <td>      Lucian</td>\n",
        "      <td>      Braum</td>\n",
        "      <td>   Renekton</td>\n",
        "      <td>      XinZhao</td>\n",
        "      <td>     Leblanc</td>\n",
        "      <td> Tristana</td>\n",
        "      <td>      Karma</td>\n",
        "      <td>  7719</td>\n",
        "      <td> 1</td>\n",
        "    </tr>\n",
        "    <tr>\n",
        "      <th>37105</th>\n",
        "      <td> 1597112310</td>\n",
        "      <td>       Lulu</td>\n",
        "      <td> FiddleSticks</td>\n",
        "      <td>         Zed</td>\n",
        "      <td>       Corki</td>\n",
        "      <td> Blitzcrank</td>\n",
        "      <td>      Riven</td>\n",
        "      <td>      Karthus</td>\n",
        "      <td>      Rumble</td>\n",
        "      <td> Tristana</td>\n",
        "      <td>      Janna</td>\n",
        "      <td>-11241</td>\n",
        "      <td> 0</td>\n",
        "    </tr>\n",
        "    <tr>\n",
        "      <th>37106</th>\n",
        "      <td> 1394868221</td>\n",
        "      <td>   Renekton</td>\n",
        "      <td>       Khazix</td>\n",
        "      <td>    Katarina</td>\n",
        "      <td>     Caitlyn</td>\n",
        "      <td>    Morgana</td>\n",
        "      <td>     Rengar</td>\n",
        "      <td>     Pantheon</td>\n",
        "      <td>        Lulu</td>\n",
        "      <td>    Vayne</td>\n",
        "      <td>      Janna</td>\n",
        "      <td>  4041</td>\n",
        "      <td> 0</td>\n",
        "    </tr>\n",
        "  </tbody>\n",
        "</table>\n",
        "<p>37107 rows \u00d7 13 columns</p>\n",
        "</div>"
       ],
       "metadata": {},
       "output_type": "pyout",
       "prompt_number": 14,
       "text": [
        "         Match ID        top1          jun1         mid1         adc1  \\\n",
        "0      1516251192       Jayce         Elise         Fizz       Lucian   \n",
        "1      1386752062      Gragas  FiddleSticks     Katarina       Lucian   \n",
        "2      1509304384       Swain       Warwick     Tristana       Lucian   \n",
        "3      1536043075       Akali       Warwick      Orianna        Vayne   \n",
        "4      1533159493       Yasuo      JarvanIV      Orianna  MissFortune   \n",
        "5      1504585799       Jayce  FiddleSticks       KogMaw        Vayne   \n",
        "6      1584015433        Ryze        Rammus       Xerath        Corki   \n",
        "7      1383999567         Jax         Kayle        Brand       Lucian   \n",
        "8      1385441361      Rengar         Kayle        Akali       Ezreal   \n",
        "9      1397893207  Tryndamere        LeeSin      Nidalee       Graves   \n",
        "10     1436690521       Riven         Amumu      Orianna       Lucian   \n",
        "11     1399072859       Yasuo        Rammus      Nidalee      Caitlyn   \n",
        "12     1585719388       Akali        LeeSin     Katarina       Lucian   \n",
        "13     1462380646      Gragas         Elise        Annie        Corki   \n",
        "14     1392781416     Shyvana       Evelynn      Nidalee      Caitlyn   \n",
        "15     1551509609       Vayne        LeeSin         Fizz       Lucian   \n",
        "16     1576806506       Riven         Amumu          Zed       Lucian   \n",
        "17     1524901996      Irelia      JarvanIV        Yasuo        Vayne   \n",
        "18     1621239918       Riven       Hecarim       Syndra       Lucian   \n",
        "19     1488914109       Akali         Amumu        Yasuo     Tristana   \n",
        "20     1608788085      Singed        Rengar      Orianna       Lucian   \n",
        "21     1422272634        Lulu        Rengar       Syndra       Draven   \n",
        "22     1498657130       Leona            Vi         Ryze      Caitlyn   \n",
        "23     1424107647       Quinn            Vi  TwistedFate       Twitch   \n",
        "24     1524246656       Poppy        LeeSin     Katarina       Lucian   \n",
        "25     1453205636    Katarina      JarvanIV         Fizz         Jinx   \n",
        "26     1497114758    Vladimir      JarvanIV      Orianna       Lucian   \n",
        "27     1478764679     Alistar        LeeSin        Quinn     Tristana   \n",
        "28     1442558316      Irelia      Pantheon       KogMaw      Caitlyn   \n",
        "29     1396934897       Jayce        Rammus      Orianna      Caitlyn   \n",
        "...           ...         ...           ...          ...          ...   \n",
        "37077  1398756674        Shen        LeeSin        Yasuo      Caitlyn   \n",
        "37078  1490812821      Gragas       Hecarim         Ahri      Caitlyn   \n",
        "37079  1391984534       Jayce         Amumu      Leblanc       Lucian   \n",
        "37080  1634249369       Riven      JarvanIV       Syndra        Corki   \n",
        "37081  1392377752     Shyvana         Kayle         Lulu        Vayne   \n",
        "37082  1427442866      Rumble       XinZhao         Lulu        Corki   \n",
        "37083  1463156660      Irelia       Evelynn         Ahri       Lucian   \n",
        "37084  1482686391     Nidalee      JarvanIV          Zed         Jinx   \n",
        "37085  1605369785       Quinn  FiddleSticks        Kayle       Lucian   \n",
        "37086  1374683068       Teemo         Elise      Leblanc       Ezreal   \n",
        "37087  1548615616        Ryze         Shaco        Yasuo       Lucian   \n",
        "37088  1635625632      Rengar        Khazix         Ahri        Corki   \n",
        "37089  1523843011       Akali      JarvanIV       Syndra      Caitlyn   \n",
        "37090  1411645430    Renekton         Elise      Leblanc       Lucian   \n",
        "37091  1630011336        Gnar            Vi         Fizz        Corki   \n",
        "37092  1406009295      LeeSin         Elise     Tristana       Lucian   \n",
        "37093  1531969491        Sion       Nidalee        Brand       Lucian   \n",
        "37094  1485832148      Maokai    MonkeyKing         Fizz       Draven   \n",
        "37095  1392923982    Malphite        Rengar        Yasuo       Twitch   \n",
        "37096  1424228310     Nidalee  FiddleSticks      Leblanc      Caitlyn   \n",
        "37097  1540882394       Riven      JarvanIV      Orianna        Vayne   \n",
        "37098  1476132831       Jayce        LeeSin         Ahri       Graves   \n",
        "37099  1377894395      Irelia            Vi      Orianna       Lucian   \n",
        "37100  1389494248      Darius        LeeSin        Ziggs       Lucian   \n",
        "37101  1531576298       Nasus        Khazix          Zed        Vayne   \n",
        "37102  1599209452        Gnar        LeeSin      XinZhao       Lucian   \n",
        "37103  1466979666        Lulu            Vi      Orianna       Lucian   \n",
        "37104  1378877424  Tryndamere       Karthus      Orianna       Lucian   \n",
        "37105  1597112310        Lulu  FiddleSticks          Zed        Corki   \n",
        "37106  1394868221    Renekton        Khazix     Katarina      Caitlyn   \n",
        "\n",
        "             sup1        top2          jun2         mid2      adc2  \\\n",
        "0      Blitzcrank         Zed        Khazix     Katarina     Corki   \n",
        "1          Thresh  MonkeyKing      Pantheon        Kayle     Varus   \n",
        "2         Alistar       Akali       Trundle         Fizz     Corki   \n",
        "3         Morgana      Maokai      Pantheon        Yasuo  Tristana   \n",
        "4            Nami       Riven       Hecarim   Cassiopeia    Lucian   \n",
        "5            Zyra      Kennen        Maokai  TwistedFate    Draven   \n",
        "6           Janna      Rumble        LeeSin          Zed    Lucian   \n",
        "7            Lulu      LeeSin    MonkeyKing    Lissandra      Jinx   \n",
        "8           Karma      LeeSin      Nocturne      Nidalee   Caitlyn   \n",
        "9         Alistar      Rengar        Khazix      Leblanc    Draven   \n",
        "10     Blitzcrank    Renekton        LeeSin      Leblanc    Ezreal   \n",
        "11          Karma      Irelia         Elise      Orianna    Lucian   \n",
        "12         Thresh        Ryze        Khazix        Jayce     Corki   \n",
        "13          Braum        Lulu  FiddleSticks        Ziggs      Jinx   \n",
        "14           Nami       Karma        LeeSin  TwistedFate    Draven   \n",
        "15         Zilean    Renekton        Khazix     Malzahar    Graves   \n",
        "16          Leona     Nidalee        LeeSin         Azir  Tristana   \n",
        "17           Nami    Katarina        LeeSin        Jayce    Lucian   \n",
        "18           Nami      Kennen      JarvanIV  TwistedFate      Jinx   \n",
        "19         Syndra    Vladimir  FiddleSticks     Katarina    Lucian   \n",
        "20         Thresh  Tryndamere            Vi       KogMaw    Ezreal   \n",
        "21          Braum       Jayce            Vi  TwistedFate    Graves   \n",
        "22         Thresh        Gnar        Gragas       Xerath     Corki   \n",
        "23         Velkoz       Yasuo        Rengar      Leblanc   Caitlyn   \n",
        "24           Sona       Fiora      JarvanIV       Kennen     Corki   \n",
        "25          Annie       Riven        Maokai       Xerath  Tristana   \n",
        "26     Blitzcrank       Swain        Khazix        Yasuo    Draven   \n",
        "27          Janna      Irelia        Khazix      Orianna    Lucian   \n",
        "28         Thresh         Jax           Zac     JarvanIV    Lucian   \n",
        "29          Janna        Ryze        Rengar      Nidalee    Lucian   \n",
        "...           ...         ...           ...          ...       ...   \n",
        "37077       Janna      Khazix         Shaco          Lux    Lucian   \n",
        "37078       Janna       Riven        LeeSin       Zilean      Ashe   \n",
        "37079      Thresh       Akali         Elise      Nidalee   Caitlyn   \n",
        "37080       Janna     Nidalee        LeeSin       Xerath    Graves   \n",
        "37081       Janna      Irelia        LeeSin        Yasuo   Caitlyn   \n",
        "37082       Janna  Tryndamere        LeeSin      Leblanc    Lucian   \n",
        "37083     Morgana    Renekton      JarvanIV        Akali    Twitch   \n",
        "37084      Thresh      Maokai         Elise        Yasuo    Lucian   \n",
        "37085     Alistar   Lissandra       Evelynn          Zed      Jinx   \n",
        "37086     Morgana       Garen        LeeSin         Zyra     Varus   \n",
        "37087     Alistar       Nasus        LeeSin          Zed    Graves   \n",
        "37088       Leona       Riven       Nidalee          Zed    Lucian   \n",
        "37089       Annie    Malphite        Khazix       Xerath      Jinx   \n",
        "37090      Syndra      Gragas        LeeSin      Orianna     Corki   \n",
        "37091      Thresh      Rumble      JarvanIV          Zed    Draven   \n",
        "37092      Xerath       Jayce       Evelynn        Akali    Ezreal   \n",
        "37093        Nami      Irelia        LeeSin       Viktor   Caitlyn   \n",
        "37094       Janna       Jayce        Khazix         Ryze    Lucian   \n",
        "37095        Zyra      LeeSin      JarvanIV      Nidalee    Lucian   \n",
        "37096       Janna    Malphite            Vi        Yasuo    Lucian   \n",
        "37097       Brand       Akali          Nunu       Syndra    Lucian   \n",
        "37098      Veigar     Shyvana        Rengar   Cassiopeia  Tristana   \n",
        "37099       Leona       Riven         Elise       Syndra    Draven   \n",
        "37100      Thresh         Jax        Rengar      Karthus    Twitch   \n",
        "37101      Gragas        Shen        LeeSin         Ryze    Lucian   \n",
        "37102       Janna       Jayce         Amumu  TwistedFate     Corki   \n",
        "37103     Morgana     Shyvana    MonkeyKing        Yasuo   Caitlyn   \n",
        "37104       Braum    Renekton       XinZhao      Leblanc  Tristana   \n",
        "37105  Blitzcrank       Riven       Karthus       Rumble  Tristana   \n",
        "37106     Morgana      Rengar      Pantheon         Lulu     Vayne   \n",
        "\n",
        "             sup2  Gold Diff  Winner  \n",
        "0           Braum         14       1  \n",
        "1           Janna     -11522       0  \n",
        "2      Blitzcrank       3857       1  \n",
        "3           Janna     -17505       0  \n",
        "4          Thresh     -11915       0  \n",
        "5          Thresh      -7798       0  \n",
        "6            Sona       3754       1  \n",
        "7          Thresh      11251       1  \n",
        "8         Morgana      10059       1  \n",
        "9         Morgana       5409       1  \n",
        "10           Sona     -13987       0  \n",
        "11        Morgana       2678       1  \n",
        "12          Leona      -2297       0  \n",
        "13          Leona     -14816       0  \n",
        "14           Zyra      15721       1  \n",
        "15          Leona      14021       1  \n",
        "16         Thresh      13545       1  \n",
        "17         Thresh      -1894       0  \n",
        "18         Soraka     -11313       0  \n",
        "19        Morgana      18851       1  \n",
        "20          Janna      11960       1  \n",
        "21           Zyra     -12552       0  \n",
        "22           Zyra     -14053       0  \n",
        "23         Thresh       3230       1  \n",
        "24         Gragas       7984       1  \n",
        "25         Gragas      10054       1  \n",
        "26         Thresh      14239       1  \n",
        "27        Morgana     -10450       0  \n",
        "28          Braum       6841       1  \n",
        "29           Zyra       9797       1  \n",
        "...           ...        ...     ...  \n",
        "37077      Gragas      13671       1  \n",
        "37078     Morgana     -10757       0  \n",
        "37079       Braum      -5582       0  \n",
        "37080      Soraka       7805       1  \n",
        "37081       Karma     -10595       0  \n",
        "37082      Thresh     -14508       0  \n",
        "37083        Nami     -20519       0  \n",
        "37084     Morgana      11031       1  \n",
        "37085     Morgana     -15749       0  \n",
        "37086        Nami     -17429       0  \n",
        "37087  Blitzcrank      -8322       0  \n",
        "37088      Thresh       2918       1  \n",
        "37089  Blitzcrank     -15502       0  \n",
        "37090     Morgana      25700       1  \n",
        "37091       Janna       9939       1  \n",
        "37092       Janna     -16492       0  \n",
        "37093       Akali     -21056       0  \n",
        "37094     Morgana       6278       1  \n",
        "37095    Nautilus     -16476       0  \n",
        "37096     Morgana     -17743       0  \n",
        "37097       Janna      -8015       0  \n",
        "37098        Nami      19573       1  \n",
        "37099        Lulu       1033       1  \n",
        "37100       Braum      -9916       0  \n",
        "37101      Thresh       7222       1  \n",
        "37102      Soraka      22493       1  \n",
        "37103      Thresh       6694       1  \n",
        "37104       Karma       7719       1  \n",
        "37105       Janna     -11241       0  \n",
        "37106       Janna       4041       0  \n",
        "\n",
        "[37107 rows x 13 columns]"
       ]
      }
     ],
     "prompt_number": 14
    },
    {
     "cell_type": "code",
     "collapsed": false,
     "input": [
      "matches[1]"
     ],
     "language": "python",
     "metadata": {},
     "outputs": [
      {
       "metadata": {},
       "output_type": "pyout",
       "prompt_number": 31,
       "text": [
        "[1494330027,\n",
        " u'Lulu',\n",
        " u'LeeSin',\n",
        " u'Zed',\n",
        " u'Vayne',\n",
        " u'Morgana',\n",
        " u'Alistar',\n",
        " u'Shaco',\n",
        " u'Fizz',\n",
        " u'Corki',\n",
        " u'Thresh',\n",
        " 10723,\n",
        " 1]"
       ]
      }
     ],
     "prompt_number": 31
    },
    {
     "cell_type": "code",
     "collapsed": false,
     "input": [
      "### part 1\n",
      "\n",
      "## Combinations of 2 ##\n",
      "category = ['A1', 'A2', 'A3', 'A4', 'A5', 'B1', 'B2', 'B3', 'B4', 'B5', 'Winner']\n",
      "\n",
      "num = 5\n",
      "candidates = pd.DataFrame(index=range(0,num), columns=category)\n",
      "\n",
      "import random\n",
      "for i in range(0, len(category)):\n",
      "        candidates[category[i]] = random.sample(range(1, 6), num)\n",
      "        \n",
      "candidates['Winner'] = [0, 1, 1, 0, 0]\n",
      "\n",
      "## 0 means A, 1 means B ##\n",
      "candidates\n",
      "\n",
      "a = ['A1', 'A2', 'A3', 'A4', 'A5']\n",
      "b = ['B1', 'B2', 'B3', 'B4', 'B5']\n",
      "\n",
      "def combination(item, item2):\n",
      "    title = ['A', 'B', 'W']\n",
      "    data = pd.DataFrame(index=range(0, 20*num), columns=title)\n",
      "    outputa = []\n",
      "    outputb = []\n",
      "    win = []\n",
      "    for p in range(0, len(candidates['A1'])): \n",
      "        for i in range(0,len(item)):\n",
      "            for j in range(i+1, len(item)):\n",
      "                outputa.append(sorted([candidates[item[i]][p], candidates[item[j]][p]])[0])\n",
      "                outputb.append(sorted([candidates[item[i]][p], candidates[item[j]][p]])[1])\n",
      "                win.append(candidates['Winner'][p] == 0)\n",
      "    for p in range(0, len(candidates['A1'])): \n",
      "        for i in range(0,len(item2)):\n",
      "            for j in range(i+1, len(item2)):\n",
      "                outputa.append(sorted([candidates[item2[i]][p], candidates[item2[j]][p]])[0])\n",
      "                outputb.append(sorted([candidates[item2[i]][p], candidates[item2[j]][p]])[1])\n",
      "                win.append(candidates['Winner'][p] == 1)\n",
      "    data['A'] = outputa\n",
      "    data['B'] = outputb\n",
      "    data['W'] = win\n",
      "    return data\n",
      "\n",
      "outa = combination(a, b)\n",
      "newlist = pd.DataFrame(outa)\n",
      "newlist = newlist.drop_duplicates(subset=['A', 'B']).reset_index(drop=True)\n",
      "\n",
      "# print newlist\n",
      "newlist['Wins'] = ''\n",
      "newlist['Matches'] = ''\n",
      "newlist['Percent'] = ''\n",
      "for i in range(0, len(newlist)):\n",
      "    item = outa[(outa['A'] == newlist['A'][i]) & (outa['B'] == newlist['B'][i])]\n",
      "    newlist['Wins'][i] = len(item[item['W'] == True])\n",
      "    newlist['Matches'][i] = len(item)\n",
      "    newlist['Percent'][i] = np.round(1.0*newlist['Wins'][i]/newlist['Matches'][i], 2)\n",
      "    \n",
      "newlist = newlist.drop('W', 1).sort(columns='B').sort(columns='A').reset_index(drop=True)\n",
      "newlist\n"
     ],
     "language": "python",
     "metadata": {},
     "outputs": [
      {
       "html": [
        "<div style=\"max-height:1000px;max-width:1500px;overflow:auto;\">\n",
        "<table border=\"1\" class=\"dataframe\">\n",
        "  <thead>\n",
        "    <tr style=\"text-align: right;\">\n",
        "      <th></th>\n",
        "      <th>A</th>\n",
        "      <th>B</th>\n",
        "      <th>Wins</th>\n",
        "      <th>Matches</th>\n",
        "      <th>Percent</th>\n",
        "    </tr>\n",
        "  </thead>\n",
        "  <tbody>\n",
        "    <tr>\n",
        "      <th>0 </th>\n",
        "      <td> 1</td>\n",
        "      <td> 1</td>\n",
        "      <td> 2</td>\n",
        "      <td>  3</td>\n",
        "      <td> 0.67</td>\n",
        "    </tr>\n",
        "    <tr>\n",
        "      <th>1 </th>\n",
        "      <td> 1</td>\n",
        "      <td> 2</td>\n",
        "      <td> 4</td>\n",
        "      <td>  6</td>\n",
        "      <td> 0.67</td>\n",
        "    </tr>\n",
        "    <tr>\n",
        "      <th>2 </th>\n",
        "      <td> 1</td>\n",
        "      <td> 3</td>\n",
        "      <td> 5</td>\n",
        "      <td>  7</td>\n",
        "      <td> 0.71</td>\n",
        "    </tr>\n",
        "    <tr>\n",
        "      <th>3 </th>\n",
        "      <td> 1</td>\n",
        "      <td> 4</td>\n",
        "      <td> 9</td>\n",
        "      <td> 11</td>\n",
        "      <td> 0.82</td>\n",
        "    </tr>\n",
        "    <tr>\n",
        "      <th>4 </th>\n",
        "      <td> 1</td>\n",
        "      <td> 5</td>\n",
        "      <td> 6</td>\n",
        "      <td> 10</td>\n",
        "      <td>  0.6</td>\n",
        "    </tr>\n",
        "    <tr>\n",
        "      <th>5 </th>\n",
        "      <td> 2</td>\n",
        "      <td> 2</td>\n",
        "      <td> 1</td>\n",
        "      <td>  3</td>\n",
        "      <td> 0.33</td>\n",
        "    </tr>\n",
        "    <tr>\n",
        "      <th>6 </th>\n",
        "      <td> 2</td>\n",
        "      <td> 3</td>\n",
        "      <td> 4</td>\n",
        "      <td> 10</td>\n",
        "      <td>  0.4</td>\n",
        "    </tr>\n",
        "    <tr>\n",
        "      <th>7 </th>\n",
        "      <td> 2</td>\n",
        "      <td> 4</td>\n",
        "      <td> 3</td>\n",
        "      <td>  7</td>\n",
        "      <td> 0.43</td>\n",
        "    </tr>\n",
        "    <tr>\n",
        "      <th>8 </th>\n",
        "      <td> 2</td>\n",
        "      <td> 5</td>\n",
        "      <td> 3</td>\n",
        "      <td> 11</td>\n",
        "      <td> 0.27</td>\n",
        "    </tr>\n",
        "    <tr>\n",
        "      <th>9 </th>\n",
        "      <td> 3</td>\n",
        "      <td> 3</td>\n",
        "      <td> 0</td>\n",
        "      <td>  2</td>\n",
        "      <td>    0</td>\n",
        "    </tr>\n",
        "    <tr>\n",
        "      <th>10</th>\n",
        "      <td> 3</td>\n",
        "      <td> 4</td>\n",
        "      <td> 4</td>\n",
        "      <td> 10</td>\n",
        "      <td>  0.4</td>\n",
        "    </tr>\n",
        "    <tr>\n",
        "      <th>11</th>\n",
        "      <td> 3</td>\n",
        "      <td> 5</td>\n",
        "      <td> 3</td>\n",
        "      <td>  9</td>\n",
        "      <td> 0.33</td>\n",
        "    </tr>\n",
        "    <tr>\n",
        "      <th>12</th>\n",
        "      <td> 4</td>\n",
        "      <td> 4</td>\n",
        "      <td> 2</td>\n",
        "      <td>  2</td>\n",
        "      <td>    1</td>\n",
        "    </tr>\n",
        "    <tr>\n",
        "      <th>13</th>\n",
        "      <td> 4</td>\n",
        "      <td> 5</td>\n",
        "      <td> 4</td>\n",
        "      <td>  8</td>\n",
        "      <td>  0.5</td>\n",
        "    </tr>\n",
        "    <tr>\n",
        "      <th>14</th>\n",
        "      <td> 5</td>\n",
        "      <td> 5</td>\n",
        "      <td> 0</td>\n",
        "      <td>  1</td>\n",
        "      <td>    0</td>\n",
        "    </tr>\n",
        "  </tbody>\n",
        "</table>\n",
        "</div>"
       ],
       "metadata": {},
       "output_type": "pyout",
       "prompt_number": 9,
       "text": [
        "    A  B Wins Matches Percent\n",
        "0   1  1    2       3    0.67\n",
        "1   1  2    4       6    0.67\n",
        "2   1  3    5       7    0.71\n",
        "3   1  4    9      11    0.82\n",
        "4   1  5    6      10     0.6\n",
        "5   2  2    1       3    0.33\n",
        "6   2  3    4      10     0.4\n",
        "7   2  4    3       7    0.43\n",
        "8   2  5    3      11    0.27\n",
        "9   3  3    0       2       0\n",
        "10  3  4    4      10     0.4\n",
        "11  3  5    3       9    0.33\n",
        "12  4  4    2       2       1\n",
        "13  4  5    4       8     0.5\n",
        "14  5  5    0       1       0"
       ]
      }
     ],
     "prompt_number": 9
    },
    {
     "cell_type": "code",
     "collapsed": false,
     "input": [
      "#### part 2\n",
      "\n",
      "## Combinations of 1 ##\n",
      "\n",
      "def combination2(item, item2):\n",
      "    title = ['A', 'W']\n",
      "    data = pd.DataFrame(index=range(0, 10*num), columns=title)\n",
      "    outputa = []\n",
      "    win = []\n",
      "    for p in range(0, len(candidates['A1'])): \n",
      "        for i in range(0,len(item)):\n",
      "            outputa.append(candidates[item[i]][p])\n",
      "            win.append(candidates['Winner'][p] == 0)\n",
      "    for p in range(0, len(candidates['A1'])): \n",
      "        for i in range(0,len(item2)):\n",
      "            outputa.append(candidates[item2[i]][p])\n",
      "            win.append(candidates['Winner'][p] == 1)\n",
      "    data['A'] = outputa\n",
      "    data['W'] = win\n",
      "    return data\n",
      "\n",
      "outa = combination2(a, b)\n",
      "newlist = pd.DataFrame(outa)\n",
      "newlist = newlist.drop_duplicates(subset=['A']).reset_index(drop=True)\n",
      "\n",
      "# print newlist\n",
      "newlist['Wins'] = ''\n",
      "newlist['Matches'] = ''\n",
      "newlist['Percent'] = ''\n",
      "for i in range(0, len(newlist)):\n",
      "    item = outa[(outa['A'] == newlist['A'][i])]\n",
      "    newlist['Wins'][i] = len(item[item['W'] == True])\n",
      "    newlist['Matches'][i] = len(item)\n",
      "    newlist['Percent'][i] = np.round(1.0*newlist['Wins'][i]/newlist['Matches'][i], 2)\n",
      "    \n",
      "newlist = newlist.drop('W', 1).sort(columns='A').reset_index(drop=True)\n",
      "newlist"
     ],
     "language": "python",
     "metadata": {},
     "outputs": [
      {
       "html": [
        "<div style=\"max-height:1000px;max-width:1500px;overflow:auto;\">\n",
        "<table border=\"1\" class=\"dataframe\">\n",
        "  <thead>\n",
        "    <tr style=\"text-align: right;\">\n",
        "      <th></th>\n",
        "      <th>A</th>\n",
        "      <th>Wins</th>\n",
        "      <th>Matches</th>\n",
        "      <th>Percent</th>\n",
        "    </tr>\n",
        "  </thead>\n",
        "  <tbody>\n",
        "    <tr>\n",
        "      <th>0</th>\n",
        "      <td> 1</td>\n",
        "      <td> 7</td>\n",
        "      <td> 10</td>\n",
        "      <td> 0.7</td>\n",
        "    </tr>\n",
        "    <tr>\n",
        "      <th>1</th>\n",
        "      <td> 2</td>\n",
        "      <td> 4</td>\n",
        "      <td> 10</td>\n",
        "      <td> 0.4</td>\n",
        "    </tr>\n",
        "    <tr>\n",
        "      <th>2</th>\n",
        "      <td> 3</td>\n",
        "      <td> 4</td>\n",
        "      <td> 10</td>\n",
        "      <td> 0.4</td>\n",
        "    </tr>\n",
        "    <tr>\n",
        "      <th>3</th>\n",
        "      <td> 4</td>\n",
        "      <td> 6</td>\n",
        "      <td> 10</td>\n",
        "      <td> 0.6</td>\n",
        "    </tr>\n",
        "    <tr>\n",
        "      <th>4</th>\n",
        "      <td> 5</td>\n",
        "      <td> 4</td>\n",
        "      <td> 10</td>\n",
        "      <td> 0.4</td>\n",
        "    </tr>\n",
        "  </tbody>\n",
        "</table>\n",
        "</div>"
       ],
       "metadata": {},
       "output_type": "pyout",
       "prompt_number": 10,
       "text": [
        "   A Wins Matches Percent\n",
        "0  1    7      10     0.7\n",
        "1  2    4      10     0.4\n",
        "2  3    4      10     0.4\n",
        "3  4    6      10     0.6\n",
        "4  5    4      10     0.4"
       ]
      }
     ],
     "prompt_number": 10
    },
    {
     "cell_type": "code",
     "collapsed": false,
     "input": [
      "## part 3 ##\n",
      "\n",
      "## Combinations of 3 ##\n",
      "\n",
      "def combination3(item, item2):\n",
      "    title = ['A', 'B', 'C', 'W']\n",
      "    data = pd.DataFrame(index=range(0, 20*num), columns=title)\n",
      "    outputa = []\n",
      "    outputb = []\n",
      "    outputc = []\n",
      "    win = []\n",
      "    for p in range(0, len(candidates['A1'])): \n",
      "        for i in range(0,len(item)):\n",
      "            for j in range(i+1, len(item)):\n",
      "                for k in range(j+1, len(item)):\n",
      "                    temp = sorted([candidates[item[i]][p], candidates[item[j]][p], candidates[item[k]][p]])\n",
      "                    outputa.append(temp[0])\n",
      "                    outputb.append(temp[1])\n",
      "                    outputc.append(temp[2])\n",
      "                    win.append(candidates['Winner'][p] == 0)\n",
      "    for p in range(0, len(candidates['A1'])): \n",
      "        for i in range(0,len(item2)):\n",
      "            for j in range(i+1, len(item2)):\n",
      "                for k in range(j+1, len(item2)):\n",
      "                    temp = sorted([candidates[item2[i]][p], candidates[item2[j]][p], candidates[item2[k]][p]])\n",
      "                    outputa.append(temp[0])\n",
      "                    outputb.append(temp[1])\n",
      "                    outputc.append(temp[2])\n",
      "                    win.append(candidates['Winner'][p] == 1)\n",
      "    data['A'] = outputa\n",
      "    data['B'] = outputb\n",
      "    data['C'] = outputc\n",
      "    data['W'] = win\n",
      "    return data\n",
      "\n",
      "outa = combination3(a, b)\n",
      "newlist = pd.DataFrame(outa)\n",
      "newlist = newlist.drop_duplicates(subset=['A', 'B', 'C']).reset_index(drop=True)\n",
      "\n",
      "# print newlist\n",
      "newlist['Wins'] = ''\n",
      "newlist['Matches'] = ''\n",
      "newlist['Percent'] = ''\n",
      "for i in range(0, len(newlist)):\n",
      "    item = outa[(outa['A'] == newlist['A'][i]) & (outa['B'] == newlist['B'][i]) & (outa['C'] == newlist['C'][i])]\n",
      "    newlist['Wins'][i] = len(item[item['W'] == True])\n",
      "    newlist['Matches'][i] = len(item)\n",
      "    newlist['Percent'][i] = np.round(1.0*newlist['Wins'][i]/newlist['Matches'][i], 2)\n",
      "    \n",
      "newlist = newlist.drop('W', 1).sort(columns='C').sort(columns='B').sort(columns='A').reset_index(drop=True)\n",
      "newlist"
     ],
     "language": "python",
     "metadata": {},
     "outputs": [
      {
       "html": [
        "<div style=\"max-height:1000px;max-width:1500px;overflow:auto;\">\n",
        "<table border=\"1\" class=\"dataframe\">\n",
        "  <thead>\n",
        "    <tr style=\"text-align: right;\">\n",
        "      <th></th>\n",
        "      <th>A</th>\n",
        "      <th>B</th>\n",
        "      <th>C</th>\n",
        "      <th>Wins</th>\n",
        "      <th>Matches</th>\n",
        "      <th>Percent</th>\n",
        "    </tr>\n",
        "  </thead>\n",
        "  <tbody>\n",
        "    <tr>\n",
        "      <th>0 </th>\n",
        "      <td> 1</td>\n",
        "      <td> 1</td>\n",
        "      <td> 3</td>\n",
        "      <td> 1</td>\n",
        "      <td> 2</td>\n",
        "      <td>  0.5</td>\n",
        "    </tr>\n",
        "    <tr>\n",
        "      <th>1 </th>\n",
        "      <td> 1</td>\n",
        "      <td> 1</td>\n",
        "      <td> 4</td>\n",
        "      <td> 3</td>\n",
        "      <td> 4</td>\n",
        "      <td> 0.75</td>\n",
        "    </tr>\n",
        "    <tr>\n",
        "      <th>2 </th>\n",
        "      <td> 1</td>\n",
        "      <td> 1</td>\n",
        "      <td> 5</td>\n",
        "      <td> 2</td>\n",
        "      <td> 3</td>\n",
        "      <td> 0.67</td>\n",
        "    </tr>\n",
        "    <tr>\n",
        "      <th>3 </th>\n",
        "      <td> 1</td>\n",
        "      <td> 2</td>\n",
        "      <td> 2</td>\n",
        "      <td> 1</td>\n",
        "      <td> 2</td>\n",
        "      <td>  0.5</td>\n",
        "    </tr>\n",
        "    <tr>\n",
        "      <th>4 </th>\n",
        "      <td> 1</td>\n",
        "      <td> 2</td>\n",
        "      <td> 3</td>\n",
        "      <td> 4</td>\n",
        "      <td> 4</td>\n",
        "      <td>    1</td>\n",
        "    </tr>\n",
        "    <tr>\n",
        "      <th>5 </th>\n",
        "      <td> 1</td>\n",
        "      <td> 4</td>\n",
        "      <td> 4</td>\n",
        "      <td> 3</td>\n",
        "      <td> 3</td>\n",
        "      <td>    1</td>\n",
        "    </tr>\n",
        "    <tr>\n",
        "      <th>6 </th>\n",
        "      <td> 1</td>\n",
        "      <td> 2</td>\n",
        "      <td> 4</td>\n",
        "      <td> 3</td>\n",
        "      <td> 3</td>\n",
        "      <td>    1</td>\n",
        "    </tr>\n",
        "    <tr>\n",
        "      <th>7 </th>\n",
        "      <td> 1</td>\n",
        "      <td> 2</td>\n",
        "      <td> 5</td>\n",
        "      <td> 3</td>\n",
        "      <td> 7</td>\n",
        "      <td> 0.43</td>\n",
        "    </tr>\n",
        "    <tr>\n",
        "      <th>8 </th>\n",
        "      <td> 1</td>\n",
        "      <td> 4</td>\n",
        "      <td> 5</td>\n",
        "      <td> 7</td>\n",
        "      <td> 9</td>\n",
        "      <td> 0.78</td>\n",
        "    </tr>\n",
        "    <tr>\n",
        "      <th>9 </th>\n",
        "      <td> 1</td>\n",
        "      <td> 3</td>\n",
        "      <td> 5</td>\n",
        "      <td> 4</td>\n",
        "      <td> 6</td>\n",
        "      <td> 0.67</td>\n",
        "    </tr>\n",
        "    <tr>\n",
        "      <th>10</th>\n",
        "      <td> 1</td>\n",
        "      <td> 5</td>\n",
        "      <td> 5</td>\n",
        "      <td> 0</td>\n",
        "      <td> 1</td>\n",
        "      <td>    0</td>\n",
        "    </tr>\n",
        "    <tr>\n",
        "      <th>11</th>\n",
        "      <td> 1</td>\n",
        "      <td> 3</td>\n",
        "      <td> 4</td>\n",
        "      <td> 5</td>\n",
        "      <td> 7</td>\n",
        "      <td> 0.71</td>\n",
        "    </tr>\n",
        "    <tr>\n",
        "      <th>12</th>\n",
        "      <td> 2</td>\n",
        "      <td> 4</td>\n",
        "      <td> 5</td>\n",
        "      <td> 1</td>\n",
        "      <td> 5</td>\n",
        "      <td>  0.2</td>\n",
        "    </tr>\n",
        "    <tr>\n",
        "      <th>13</th>\n",
        "      <td> 2</td>\n",
        "      <td> 4</td>\n",
        "      <td> 4</td>\n",
        "      <td> 1</td>\n",
        "      <td> 1</td>\n",
        "      <td>    1</td>\n",
        "    </tr>\n",
        "    <tr>\n",
        "      <th>14</th>\n",
        "      <td> 2</td>\n",
        "      <td> 3</td>\n",
        "      <td> 3</td>\n",
        "      <td> 0</td>\n",
        "      <td> 2</td>\n",
        "      <td>    0</td>\n",
        "    </tr>\n",
        "    <tr>\n",
        "      <th>15</th>\n",
        "      <td> 2</td>\n",
        "      <td> 5</td>\n",
        "      <td> 5</td>\n",
        "      <td> 0</td>\n",
        "      <td> 2</td>\n",
        "      <td>    0</td>\n",
        "    </tr>\n",
        "    <tr>\n",
        "      <th>16</th>\n",
        "      <td> 2</td>\n",
        "      <td> 3</td>\n",
        "      <td> 5</td>\n",
        "      <td> 3</td>\n",
        "      <td> 9</td>\n",
        "      <td> 0.33</td>\n",
        "    </tr>\n",
        "    <tr>\n",
        "      <th>17</th>\n",
        "      <td> 2</td>\n",
        "      <td> 2</td>\n",
        "      <td> 5</td>\n",
        "      <td> 1</td>\n",
        "      <td> 4</td>\n",
        "      <td> 0.25</td>\n",
        "    </tr>\n",
        "    <tr>\n",
        "      <th>18</th>\n",
        "      <td> 2</td>\n",
        "      <td> 2</td>\n",
        "      <td> 4</td>\n",
        "      <td> 0</td>\n",
        "      <td> 1</td>\n",
        "      <td>    0</td>\n",
        "    </tr>\n",
        "    <tr>\n",
        "      <th>19</th>\n",
        "      <td> 2</td>\n",
        "      <td> 2</td>\n",
        "      <td> 3</td>\n",
        "      <td> 1</td>\n",
        "      <td> 2</td>\n",
        "      <td>  0.5</td>\n",
        "    </tr>\n",
        "    <tr>\n",
        "      <th>20</th>\n",
        "      <td> 2</td>\n",
        "      <td> 3</td>\n",
        "      <td> 4</td>\n",
        "      <td> 3</td>\n",
        "      <td> 9</td>\n",
        "      <td> 0.33</td>\n",
        "    </tr>\n",
        "    <tr>\n",
        "      <th>21</th>\n",
        "      <td> 3</td>\n",
        "      <td> 3</td>\n",
        "      <td> 4</td>\n",
        "      <td> 0</td>\n",
        "      <td> 2</td>\n",
        "      <td>    0</td>\n",
        "    </tr>\n",
        "    <tr>\n",
        "      <th>22</th>\n",
        "      <td> 3</td>\n",
        "      <td> 4</td>\n",
        "      <td> 4</td>\n",
        "      <td> 1</td>\n",
        "      <td> 1</td>\n",
        "      <td>    1</td>\n",
        "    </tr>\n",
        "    <tr>\n",
        "      <th>23</th>\n",
        "      <td> 3</td>\n",
        "      <td> 4</td>\n",
        "      <td> 5</td>\n",
        "      <td> 2</td>\n",
        "      <td> 8</td>\n",
        "      <td> 0.25</td>\n",
        "    </tr>\n",
        "    <tr>\n",
        "      <th>24</th>\n",
        "      <td> 3</td>\n",
        "      <td> 3</td>\n",
        "      <td> 5</td>\n",
        "      <td> 0</td>\n",
        "      <td> 2</td>\n",
        "      <td>    0</td>\n",
        "    </tr>\n",
        "    <tr>\n",
        "      <th>25</th>\n",
        "      <td> 4</td>\n",
        "      <td> 4</td>\n",
        "      <td> 5</td>\n",
        "      <td> 1</td>\n",
        "      <td> 1</td>\n",
        "      <td>    1</td>\n",
        "    </tr>\n",
        "  </tbody>\n",
        "</table>\n",
        "</div>"
       ],
       "metadata": {},
       "output_type": "pyout",
       "prompt_number": 11,
       "text": [
        "    A  B  C Wins Matches Percent\n",
        "0   1  1  3    1       2     0.5\n",
        "1   1  1  4    3       4    0.75\n",
        "2   1  1  5    2       3    0.67\n",
        "3   1  2  2    1       2     0.5\n",
        "4   1  2  3    4       4       1\n",
        "5   1  4  4    3       3       1\n",
        "6   1  2  4    3       3       1\n",
        "7   1  2  5    3       7    0.43\n",
        "8   1  4  5    7       9    0.78\n",
        "9   1  3  5    4       6    0.67\n",
        "10  1  5  5    0       1       0\n",
        "11  1  3  4    5       7    0.71\n",
        "12  2  4  5    1       5     0.2\n",
        "13  2  4  4    1       1       1\n",
        "14  2  3  3    0       2       0\n",
        "15  2  5  5    0       2       0\n",
        "16  2  3  5    3       9    0.33\n",
        "17  2  2  5    1       4    0.25\n",
        "18  2  2  4    0       1       0\n",
        "19  2  2  3    1       2     0.5\n",
        "20  2  3  4    3       9    0.33\n",
        "21  3  3  4    0       2       0\n",
        "22  3  4  4    1       1       1\n",
        "23  3  4  5    2       8    0.25\n",
        "24  3  3  5    0       2       0\n",
        "25  4  4  5    1       1       1"
       ]
      }
     ],
     "prompt_number": 11
    },
    {
     "cell_type": "code",
     "collapsed": false,
     "input": [],
     "language": "python",
     "metadata": {},
     "outputs": []
    }
   ],
   "metadata": {}
  }
 ]
}