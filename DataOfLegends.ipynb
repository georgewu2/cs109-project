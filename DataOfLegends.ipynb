{
 "metadata": {
  "name": "",
  "signature": "sha256:d5bc73ed803a46d481ced199fb4f82d4267c180ac2de05208e55bc8f5f5dbd37"
 },
 "nbformat": 3,
 "nbformat_minor": 0,
 "worksheets": [
  {
   "cells": [
    {
     "cell_type": "markdown",
     "metadata": {},
     "source": [
      "#Data of Legends\n",
      "##An Analysis of League of Legends and how Team Composition Affects Outcomes of Games\n",
      "###George Wu, James Ho, Michael Ma, Shannon Zhu"
     ]
    },
    {
     "cell_type": "markdown",
     "metadata": {},
     "source": [
      "##Motivation\n",
      "\n",
      "League of Legends is the #1 most played game in the world and has been revolutionizing the online gaming scene through tournaments such as E-sports. One huge endeavor that Riot (the creator of League of Legends) is undertaking is the promotion of esports (electronic sports), which are consistently getting a lot of publicity from major media outlets such as the New York Times. Even colleges are recognizing esports as official sports and are starting varsity teams, and much of the world is beginning to see it as a real competition of sorts. Because so much money from streaming and major corporations such as Coca Cola is being poured into the industry and the tournaments, we are very interested in how much games can be predicted by arbitrary starting factors that are not tied to skill. \n",
      "\n",
      "To clarify, at the beginning of each game, players choose to play certain characters with different strengths and weaknesses - and the teams are randomly assigned a side of the map. These are recognized as nontrivial differences, but we are interested in statistically formalizing this starting bias and analyzing how much it affects game outcomes."
     ]
    },
    {
     "cell_type": "markdown",
     "metadata": {},
     "source": [
      "##Related Work\n",
      "\n",
      "Three out of the four group members were already active players of League of Legends. While we were playing, we noticed that there were always advanced details of our match during and after the game, with numerous statistics and interesting data. One of our team members also spent a summer at Riot Games working on analytics projects and there have been many articles posted about League of Legends, such as in http://www.ongamers.com/articles/league-of-legends-2014-world-championship-viewer-n/1100-2365/, and http://www.nytimes.com/2014/12/09/technology/esports-colleges-breeding-grounds-professional-gaming.html?smid=tw-nytimesbits&_r=0. "
     ]
    },
    {
     "cell_type": "markdown",
     "metadata": {},
     "source": [
      "##Initial Questions\n",
      "In our initial proposal we wanted to check the following\n",
      "\n",
      "1. Given two team compositions, we wanted to predict win rates between the two teams.\n",
      "1. Given two team compositions, we wanted to predict gold differences between the two teams. Gold differential is essentially the statistic of how much a team wins by.\n",
      "1. We also wanted to predict which champions require skill and which champions were more beginner friendly. \n",
      "\n",
      "Given these goals, we realized that the Riot API did not provide a friendly way to access data in lower tiers. Essentially, this meant that we were not able to get data in the lower tiers in a reasonable amount of time, due to API and rate-limiting constraints. We then focused on our first two goals and tried to find other interesting statistics, such as how a **fed** player can affect a team."
     ]
    },
    {
     "cell_type": "markdown",
     "metadata": {},
     "source": [
      "## Data Retrieval\n",
      "To get the data, please visit https://github.com/georgewu2/cs109-project. Clone the repository or download the data, and make sure the this IPython Notebook is in the same folder. If this doesn't work, please contact one of us and we can share you on our dropbox. Our emails are georgewu@college.harvard.edu, shannonzhu@college.harvard.edu, jamesho@college.harvard.edu, and mma@college.harvard.edu."
     ]
    },
    {
     "cell_type": "code",
     "collapsed": false,
     "input": [
      "%matplotlib inline\n",
      "\n",
      "import json\n",
      "\n",
      "import requests\n",
      "import pandas as pd\n",
      "import numpy as np\n",
      "import matplotlib.pyplot as plt\n",
      "import time\n",
      "import pickle\n",
      "import seaborn as sns\n",
      "import sklearn.cross_validation\n",
      "import scipy.stats as stats\n",
      "from sklearn.cross_validation import cross_val_score\n",
      "from sklearn.ensemble import RandomForestClassifier\n",
      "\n",
      "api_key = 'c977fbae-0c60-4d6c-a3dc-ee1b305dbdd7'"
     ],
     "language": "python",
     "metadata": {},
     "outputs": [],
     "prompt_number": 135
    },
    {
     "cell_type": "markdown",
     "metadata": {},
     "source": [
      "### Retrieving Players in Challenger Tier\n",
      "First we'll get the list of all players who are in the highest ranked tier (Challenger tier). Players in this group are essentially professional and we assume that they play optimally, so the impact of skill level on the game outcome is minimized."
     ]
    },
    {
     "cell_type": "code",
     "collapsed": false,
     "input": [
      "# get all player IDs in \"challenger\" (professional) level of play\n",
      "url = 'https://na.api.pvp.net/api/lol/na/v2.5/league/challenger?type=RANKED_SOLO_5x5&api_key=' + api_key\n",
      "data = requests.get(url).json()\n",
      "\n",
      "summoners = data['entries']\n",
      "summoner_df = pd.read_json(json.dumps(summoners))\n",
      "summoner_df.head()"
     ],
     "language": "python",
     "metadata": {},
     "outputs": [
      {
       "html": [
        "<div style=\"max-height:1000px;max-width:1500px;overflow:auto;\">\n",
        "<table border=\"1\" class=\"dataframe\">\n",
        "  <thead>\n",
        "    <tr style=\"text-align: right;\">\n",
        "      <th></th>\n",
        "      <th>division</th>\n",
        "      <th>isFreshBlood</th>\n",
        "      <th>isHotStreak</th>\n",
        "      <th>isInactive</th>\n",
        "      <th>isVeteran</th>\n",
        "      <th>leaguePoints</th>\n",
        "      <th>playerOrTeamId</th>\n",
        "      <th>playerOrTeamName</th>\n",
        "      <th>wins</th>\n",
        "    </tr>\n",
        "  </thead>\n",
        "  <tbody>\n",
        "    <tr>\n",
        "      <th>0</th>\n",
        "      <td> I</td>\n",
        "      <td> False</td>\n",
        "      <td> False</td>\n",
        "      <td> False</td>\n",
        "      <td>  True</td>\n",
        "      <td> 1085</td>\n",
        "      <td> 51409228</td>\n",
        "      <td>         Apdo Dog</td>\n",
        "      <td> 269</td>\n",
        "    </tr>\n",
        "    <tr>\n",
        "      <th>1</th>\n",
        "      <td> I</td>\n",
        "      <td> False</td>\n",
        "      <td> False</td>\n",
        "      <td> False</td>\n",
        "      <td> False</td>\n",
        "      <td>  531</td>\n",
        "      <td> 27798233</td>\n",
        "      <td>       Just Jayce</td>\n",
        "      <td> 400</td>\n",
        "    </tr>\n",
        "    <tr>\n",
        "      <th>2</th>\n",
        "      <td> I</td>\n",
        "      <td> False</td>\n",
        "      <td> False</td>\n",
        "      <td>  True</td>\n",
        "      <td> False</td>\n",
        "      <td>  480</td>\n",
        "      <td>   410417</td>\n",
        "      <td>            MeyeA</td>\n",
        "      <td> 306</td>\n",
        "    </tr>\n",
        "    <tr>\n",
        "      <th>3</th>\n",
        "      <td> I</td>\n",
        "      <td> False</td>\n",
        "      <td>  True</td>\n",
        "      <td> False</td>\n",
        "      <td> False</td>\n",
        "      <td>  566</td>\n",
        "      <td> 21540249</td>\n",
        "      <td> PowerlessToplane</td>\n",
        "      <td> 859</td>\n",
        "    </tr>\n",
        "    <tr>\n",
        "      <th>4</th>\n",
        "      <td> I</td>\n",
        "      <td> False</td>\n",
        "      <td> False</td>\n",
        "      <td> False</td>\n",
        "      <td>  True</td>\n",
        "      <td>  561</td>\n",
        "      <td> 20156016</td>\n",
        "      <td>           willxo</td>\n",
        "      <td> 624</td>\n",
        "    </tr>\n",
        "  </tbody>\n",
        "</table>\n",
        "</div>"
       ],
       "metadata": {},
       "output_type": "pyout",
       "prompt_number": 2,
       "text": [
        "  division isFreshBlood isHotStreak isInactive isVeteran  leaguePoints  \\\n",
        "0        I        False       False      False      True          1085   \n",
        "1        I        False       False      False     False           531   \n",
        "2        I        False       False       True     False           480   \n",
        "3        I        False        True      False     False           566   \n",
        "4        I        False       False      False      True           561   \n",
        "\n",
        "   playerOrTeamId  playerOrTeamName  wins  \n",
        "0        51409228          Apdo Dog   269  \n",
        "1        27798233        Just Jayce   400  \n",
        "2          410417             MeyeA   306  \n",
        "3        21540249  PowerlessToplane   859  \n",
        "4        20156016            willxo   624  "
       ]
      }
     ],
     "prompt_number": 2
    },
    {
     "cell_type": "markdown",
     "metadata": {},
     "source": [
      "### Match Histories\n",
      "For each player in the challenger tier, we query the Riot API for their match history and accumulate a list of match IDs. We filtered the list to contain games played only in the 2014 season and filtered out duplicates. We only wanted games played in the 2014 season to take out differences due to game changes from different seasons. "
     ]
    },
    {
     "cell_type": "code",
     "collapsed": false,
     "input": [
      "# get match histories of all professional-level players\n",
      "player_Ids = summoner_df[\"playerOrTeamId\"].tolist()\n",
      "\n",
      "# constant for later\n",
      "beta_map_Id = 11\n",
      "\n",
      "# we don't want duplicate match IDs, so we use a set\n",
      "match_Ids = set()\n",
      "\n",
      "print \"Starting request from Riot:\"\n",
      "for i in xrange(0,len(player_Ids)):\n",
      "    print \"Processing player # \" + str(i+1) + \", ID: \" + str(player_Ids[i])\n",
      "    \n",
      "    # keep track of number of requests so we don't get rate limited\n",
      "    num_requests = 0\n",
      "    \n",
      "    # Riot's API only allows for retrieving 15 matches at a time, so we have to index into the history\n",
      "    index = 0\n",
      "    while True:\n",
      "        \n",
      "        # we filter for solo queues because we don't want team synergy to influence our results\n",
      "        queue = \"RANKED_SOLO_5x5\"\n",
      "        url = \"https://na.api.pvp.net/api/lol/na/v2.2/matchhistory/\" + str(player_Ids[i]) + \\\n",
      "            \"?beginIndex=\" + str(index) + \"&endIndex=\" + str((index + 15)) + \"&api_key=\" + api_key\n",
      "        response = requests.get(url)\n",
      "        try:\n",
      "            data = response.json()\n",
      "        except ValueError:\n",
      "            print 'JSON Decoding failed for url: ' + url\n",
      "        \n",
      "        # if the request was empty, then we have reached the end of the history and we should move on to the next player\n",
      "        if not data:\n",
      "            break\n",
      "            \n",
      "        matches = data['matches']\n",
      "        for match in matches:\n",
      "            \n",
      "            # we want to exclude the new Summoner's Rift map because it has changes in the game\n",
      "            if match['mapId'] != beta_map_Id:\n",
      "                match_Ids.add(match['matchId'])\n",
      "        index += 15\n",
      "        num_requests += 1\n",
      "        \n",
      "        # to ensure we don't get rate limited, we pause every 10 requests and after finding all of a player's history\n",
      "        if num_requests % 9 == 0:\n",
      "            time.sleep(10)\n",
      "        \n",
      "    time.sleep(10)"
     ],
     "language": "python",
     "metadata": {},
     "outputs": [
      {
       "output_type": "stream",
       "stream": "stdout",
       "text": [
        "Starting request from Riot:\n",
        "Processing player # 1, ID: 20026563\n",
        "Processing player # 2, ID: 50749357"
       ]
      },
      {
       "output_type": "stream",
       "stream": "stdout",
       "text": [
        "\n",
        "Processing player # 3, ID: 21238911"
       ]
      },
      {
       "output_type": "stream",
       "stream": "stdout",
       "text": [
        "\n",
        "Processing player # 4, ID: 21542029"
       ]
      },
      {
       "output_type": "stream",
       "stream": "stdout",
       "text": [
        "\n",
        "Processing player # 5, ID: 44979328"
       ]
      },
      {
       "output_type": "stream",
       "stream": "stdout",
       "text": [
        "\n",
        "Processing player # 6, ID: 19201346"
       ]
      },
      {
       "output_type": "stream",
       "stream": "stdout",
       "text": [
        "\n",
        "Processing player # 7, ID: 21361834"
       ]
      },
      {
       "output_type": "stream",
       "stream": "stdout",
       "text": [
        "\n",
        "Processing player # 8, ID: 56397325"
       ]
      },
      {
       "output_type": "stream",
       "stream": "stdout",
       "text": [
        "\n",
        "Processing player # 9, ID: 22645232"
       ]
      },
      {
       "output_type": "stream",
       "stream": "stdout",
       "text": [
        "\n",
        "Processing player # 10, ID: 35301382"
       ]
      },
      {
       "output_type": "stream",
       "stream": "stdout",
       "text": [
        "\n",
        "Processing player # 11, ID: 19998293"
       ]
      },
      {
       "output_type": "stream",
       "stream": "stdout",
       "text": [
        "\n",
        "Processing player # 12, ID: 20156016"
       ]
      },
      {
       "output_type": "stream",
       "stream": "stdout",
       "text": [
        "\n",
        "Processing player # 13, ID: 60729817"
       ]
      },
      {
       "output_type": "stream",
       "stream": "stdout",
       "text": [
        "\n",
        "Processing player # 14, ID: 42762376"
       ]
      },
      {
       "output_type": "stream",
       "stream": "stdout",
       "text": [
        "\n",
        "Processing player # 15, ID: 38839329"
       ]
      },
      {
       "output_type": "stream",
       "stream": "stdout",
       "text": [
        "\n",
        "Processing player # 16, ID: 20132258"
       ]
      },
      {
       "output_type": "stream",
       "stream": "stdout",
       "text": [
        "\n",
        "Processing player # 17, ID: 23292582"
       ]
      },
      {
       "output_type": "stream",
       "stream": "stdout",
       "text": [
        "\n",
        "Processing player # 18, ID: 21124626"
       ]
      },
      {
       "output_type": "stream",
       "stream": "stdout",
       "text": [
        "\n",
        "Processing player # 19, ID: 60939398"
       ]
      },
      {
       "output_type": "stream",
       "stream": "stdout",
       "text": [
        "\n",
        "Processing player # 20, ID: 31670053"
       ]
      },
      {
       "output_type": "stream",
       "stream": "stdout",
       "text": [
        "\n",
        "Processing player # 21, ID: 20971952"
       ]
      },
      {
       "output_type": "stream",
       "stream": "stdout",
       "text": [
        "\n",
        "Processing player # 22, ID: 22140119"
       ]
      },
      {
       "output_type": "stream",
       "stream": "stdout",
       "text": [
        "\n",
        "Processing player # 23, ID: 20017478"
       ]
      },
      {
       "output_type": "stream",
       "stream": "stdout",
       "text": [
        "\n",
        "Processing player # 24, ID: 25244896"
       ]
      },
      {
       "output_type": "stream",
       "stream": "stdout",
       "text": [
        "\n",
        "Processing player # 25, ID: 401169"
       ]
      },
      {
       "output_type": "stream",
       "stream": "stdout",
       "text": [
        "\n",
        "Processing player # 26, ID: 22005573"
       ]
      },
      {
       "output_type": "stream",
       "stream": "stdout",
       "text": [
        "\n",
        "Processing player # 27, ID: 7184"
       ]
      },
      {
       "output_type": "stream",
       "stream": "stdout",
       "text": [
        "\n",
        "Processing player # 28, ID: 410417"
       ]
      },
      {
       "output_type": "stream",
       "stream": "stdout",
       "text": [
        "\n",
        "Processing player # 29, ID: 37962884"
       ]
      },
      {
       "output_type": "stream",
       "stream": "stdout",
       "text": [
        "\n",
        "Processing player # 30, ID: 47015652"
       ]
      },
      {
       "output_type": "stream",
       "stream": "stdout",
       "text": [
        "\n",
        "Processing player # 31, ID: 30172503"
       ]
      },
      {
       "output_type": "stream",
       "stream": "stdout",
       "text": [
        "\n",
        "Processing player # 32, ID: 44989299"
       ]
      },
      {
       "output_type": "stream",
       "stream": "stdout",
       "text": [
        "\n",
        "Processing player # 33, ID: 28407347"
       ]
      },
      {
       "output_type": "stream",
       "stream": "stdout",
       "text": [
        "\n",
        "Processing player # 34, ID: 57008072"
       ]
      },
      {
       "output_type": "stream",
       "stream": "stdout",
       "text": [
        "\n",
        "Processing player # 35, ID: 22058902"
       ]
      },
      {
       "output_type": "stream",
       "stream": "stdout",
       "text": [
        "\n",
        "Processing player # 36, ID: 50539313"
       ]
      },
      {
       "output_type": "stream",
       "stream": "stdout",
       "text": [
        "\n",
        "Processing player # 37, ID: 20072604"
       ]
      },
      {
       "output_type": "stream",
       "stream": "stdout",
       "text": [
        "\n",
        "Processing player # 38, ID: 29699937"
       ]
      },
      {
       "output_type": "stream",
       "stream": "stdout",
       "text": [
        "\n",
        "Processing player # 39, ID: 25848742"
       ]
      },
      {
       "output_type": "stream",
       "stream": "stdout",
       "text": [
        "\n",
        "Processing player # 40, ID: 39040566"
       ]
      },
      {
       "output_type": "stream",
       "stream": "stdout",
       "text": [
        "\n",
        "Processing player # 41, ID: 21966037"
       ]
      },
      {
       "output_type": "stream",
       "stream": "stdout",
       "text": [
        "\n",
        "Processing player # 42, ID: 19602876"
       ]
      },
      {
       "output_type": "stream",
       "stream": "stdout",
       "text": [
        "\n",
        "Processing player # 43, ID: 24332462"
       ]
      },
      {
       "output_type": "stream",
       "stream": "stdout",
       "text": [
        "\n",
        "Processing player # 44, ID: 23235987"
       ]
      },
      {
       "output_type": "stream",
       "stream": "stdout",
       "text": [
        "\n",
        "Processing player # 45, ID: 56838917"
       ]
      },
      {
       "output_type": "stream",
       "stream": "stdout",
       "text": [
        "\n",
        "Processing player # 46, ID: 47199162"
       ]
      },
      {
       "output_type": "stream",
       "stream": "stdout",
       "text": [
        "\n",
        "Processing player # 47, ID: 20441329"
       ]
      },
      {
       "output_type": "stream",
       "stream": "stdout",
       "text": [
        "\n",
        "Processing player # 48, ID: 286367"
       ]
      },
      {
       "output_type": "stream",
       "stream": "stdout",
       "text": [
        "\n",
        "Processing player # 49, ID: 56917699"
       ]
      },
      {
       "output_type": "stream",
       "stream": "stdout",
       "text": [
        "\n",
        "Processing player # 50, ID: 22826752"
       ]
      },
      {
       "output_type": "stream",
       "stream": "stdout",
       "text": [
        "\n",
        "Processing player # 51, ID: 24221302"
       ]
      },
      {
       "output_type": "stream",
       "stream": "stdout",
       "text": [
        "\n",
        "Processing player # 52, ID: 21903966"
       ]
      },
      {
       "output_type": "stream",
       "stream": "stdout",
       "text": [
        "\n",
        "Processing player # 53, ID: 20171127"
       ]
      },
      {
       "output_type": "stream",
       "stream": "stdout",
       "text": [
        "\n",
        "Processing player # 54, ID: 19113946"
       ]
      },
      {
       "output_type": "stream",
       "stream": "stdout",
       "text": [
        "\n",
        "Processing player # 55, ID: 27020026"
       ]
      },
      {
       "output_type": "stream",
       "stream": "stdout",
       "text": [
        "\n",
        "Processing player # 56, ID: 22365815"
       ]
      },
      {
       "output_type": "stream",
       "stream": "stdout",
       "text": [
        "\n",
        "Processing player # 57, ID: 22933497"
       ]
      },
      {
       "output_type": "stream",
       "stream": "stdout",
       "text": [
        "\n",
        "Processing player # 58, ID: 20842490"
       ]
      },
      {
       "output_type": "stream",
       "stream": "stdout",
       "text": [
        "\n",
        "Processing player # 59, ID: 22051304"
       ]
      },
      {
       "output_type": "stream",
       "stream": "stdout",
       "text": [
        "\n",
        "Processing player # 60, ID: 57029179"
       ]
      },
      {
       "output_type": "stream",
       "stream": "stdout",
       "text": [
        "\n",
        "Processing player # 61, ID: 42060215"
       ]
      },
      {
       "output_type": "stream",
       "stream": "stdout",
       "text": [
        "\n",
        "Processing player # 62, ID: 27798233"
       ]
      },
      {
       "output_type": "stream",
       "stream": "stdout",
       "text": [
        "\n",
        "Processing player # 63, ID: 22300476"
       ]
      },
      {
       "output_type": "stream",
       "stream": "stdout",
       "text": [
        "\n",
        "Processing player # 64, ID: 25295387"
       ]
      },
      {
       "output_type": "stream",
       "stream": "stdout",
       "text": [
        "\n",
        "Processing player # 65, ID: 57019107"
       ]
      },
      {
       "output_type": "stream",
       "stream": "stdout",
       "text": [
        "\n",
        "Processing player # 66, ID: 44989349"
       ]
      },
      {
       "output_type": "stream",
       "stream": "stdout",
       "text": [
        "\n",
        "Processing player # 67, ID: 40984753"
       ]
      },
      {
       "output_type": "stream",
       "stream": "stdout",
       "text": [
        "\n",
        "Processing player # 68, ID: 23817924"
       ]
      },
      {
       "output_type": "stream",
       "stream": "stdout",
       "text": [
        "\n",
        "JSON Decoding failed for url: https://na.api.pvp.net/api/lol/na/v2.2/matchhistory/23817924?beginIndex=405&endIndex=420&api_key=c977fbae-0c60-4d6c-a3dc-ee1b305dbdd7"
       ]
      },
      {
       "output_type": "stream",
       "stream": "stdout",
       "text": [
        "\n",
        "JSON Decoding failed for url: https://na.api.pvp.net/api/lol/na/v2.2/matchhistory/23817924?beginIndex=420&endIndex=435&api_key=c977fbae-0c60-4d6c-a3dc-ee1b305dbdd7"
       ]
      },
      {
       "output_type": "stream",
       "stream": "stdout",
       "text": [
        "\n",
        "JSON Decoding failed for url: https://na.api.pvp.net/api/lol/na/v2.2/matchhistory/23817924?beginIndex=435&endIndex=450&api_key=c977fbae-0c60-4d6c-a3dc-ee1b305dbdd7"
       ]
      },
      {
       "output_type": "stream",
       "stream": "stdout",
       "text": [
        "\n",
        "Processing player # 69, ID: 390600"
       ]
      },
      {
       "output_type": "stream",
       "stream": "stdout",
       "text": [
        "\n",
        "Processing player # 70, ID: 5908"
       ]
      },
      {
       "output_type": "stream",
       "stream": "stdout",
       "text": [
        "\n",
        "Processing player # 71, ID: 26324263"
       ]
      },
      {
       "output_type": "stream",
       "stream": "stdout",
       "text": [
        "\n",
        "Processing player # 72, ID: 21101048"
       ]
      },
      {
       "output_type": "stream",
       "stream": "stdout",
       "text": [
        "\n",
        "Processing player # 73, ID: 19440665"
       ]
      },
      {
       "output_type": "stream",
       "stream": "stdout",
       "text": [
        "\n",
        "Processing player # 74, ID: 2648"
       ]
      },
      {
       "output_type": "stream",
       "stream": "stdout",
       "text": [
        "\n",
        "Processing player # 75, ID: 47836799"
       ]
      },
      {
       "output_type": "stream",
       "stream": "stdout",
       "text": [
        "\n",
        "Processing player # 76, ID: 59673766"
       ]
      },
      {
       "output_type": "stream",
       "stream": "stdout",
       "text": [
        "\n",
        "Processing player # 77, ID: 23137868"
       ]
      },
      {
       "output_type": "stream",
       "stream": "stdout",
       "text": [
        "\n",
        "Processing player # 78, ID: 31014009"
       ]
      },
      {
       "output_type": "stream",
       "stream": "stdout",
       "text": [
        "\n",
        "Processing player # 79, ID: 23534118"
       ]
      },
      {
       "output_type": "stream",
       "stream": "stdout",
       "text": [
        "\n",
        "Processing player # 80, ID: 44979366"
       ]
      },
      {
       "output_type": "stream",
       "stream": "stdout",
       "text": [
        "\n",
        "Processing player # 81, ID: 49159160"
       ]
      },
      {
       "output_type": "stream",
       "stream": "stdout",
       "text": [
        "\n",
        "Processing player # 82, ID: 492066"
       ]
      },
      {
       "output_type": "stream",
       "stream": "stdout",
       "text": [
        "\n",
        "Processing player # 83, ID: 19019472"
       ]
      },
      {
       "output_type": "stream",
       "stream": "stdout",
       "text": [
        "\n",
        "Processing player # 84, ID: 22507642"
       ]
      },
      {
       "output_type": "stream",
       "stream": "stdout",
       "text": [
        "\n",
        "Processing player # 85, ID: 23050296"
       ]
      },
      {
       "output_type": "stream",
       "stream": "stdout",
       "text": [
        "\n",
        "Processing player # 86, ID: 19061980"
       ]
      },
      {
       "output_type": "stream",
       "stream": "stdout",
       "text": [
        "\n",
        "Processing player # 87, ID: 22673591"
       ]
      },
      {
       "output_type": "stream",
       "stream": "stdout",
       "text": [
        "\n",
        "Processing player # 88, ID: 58261653"
       ]
      },
      {
       "output_type": "stream",
       "stream": "stdout",
       "text": [
        "\n",
        "Processing player # 89, ID: 35592112"
       ]
      },
      {
       "output_type": "stream",
       "stream": "stdout",
       "text": [
        "\n",
        "Processing player # 90, ID: 55508353"
       ]
      },
      {
       "output_type": "stream",
       "stream": "stdout",
       "text": [
        "\n",
        "Processing player # 91, ID: 62599179"
       ]
      },
      {
       "output_type": "stream",
       "stream": "stdout",
       "text": [
        "\n",
        "Processing player # 92, ID: 20833616"
       ]
      },
      {
       "output_type": "stream",
       "stream": "stdout",
       "text": [
        "\n",
        "Processing player # 93, ID: 20131827"
       ]
      },
      {
       "output_type": "stream",
       "stream": "stdout",
       "text": [
        "\n",
        "Processing player # 94, ID: 26082266"
       ]
      },
      {
       "output_type": "stream",
       "stream": "stdout",
       "text": [
        "\n",
        "Processing player # 95, ID: 19238304"
       ]
      },
      {
       "output_type": "stream",
       "stream": "stdout",
       "text": [
        "\n",
        "Processing player # 96, ID: 29259499"
       ]
      },
      {
       "output_type": "stream",
       "stream": "stdout",
       "text": [
        "\n",
        "Processing player # 97, ID: 44989348"
       ]
      },
      {
       "output_type": "stream",
       "stream": "stdout",
       "text": [
        "\n",
        "Processing player # 98, ID: 36488045"
       ]
      },
      {
       "output_type": "stream",
       "stream": "stdout",
       "text": [
        "\n",
        "Processing player # 99, ID: 28039649"
       ]
      },
      {
       "output_type": "stream",
       "stream": "stdout",
       "text": [
        "\n",
        "Processing player # 100, ID: 21051986"
       ]
      },
      {
       "output_type": "stream",
       "stream": "stdout",
       "text": [
        "\n",
        "Processing player # 101, ID: 25244616"
       ]
      },
      {
       "output_type": "stream",
       "stream": "stdout",
       "text": [
        "\n",
        "Processing player # 102, ID: 21328590"
       ]
      },
      {
       "output_type": "stream",
       "stream": "stdout",
       "text": [
        "\n",
        "Processing player # 103, ID: 245353"
       ]
      },
      {
       "output_type": "stream",
       "stream": "stdout",
       "text": [
        "\n",
        "Processing player # 104, ID: 26600205"
       ]
      },
      {
       "output_type": "stream",
       "stream": "stdout",
       "text": [
        "\n",
        "Processing player # 105, ID: 44979325"
       ]
      },
      {
       "output_type": "stream",
       "stream": "stdout",
       "text": [
        "\n",
        "Processing player # 106, ID: 21705406"
       ]
      },
      {
       "output_type": "stream",
       "stream": "stdout",
       "text": [
        "\n",
        "Processing player # 107, ID: 62374009"
       ]
      },
      {
       "output_type": "stream",
       "stream": "stdout",
       "text": [
        "\n",
        "Processing player # 108, ID: 24069119"
       ]
      },
      {
       "output_type": "stream",
       "stream": "stdout",
       "text": [
        "\n",
        "Processing player # 109, ID: 19738326"
       ]
      },
      {
       "output_type": "stream",
       "stream": "stdout",
       "text": [
        "\n",
        "Processing player # 110, ID: 20576181"
       ]
      },
      {
       "output_type": "stream",
       "stream": "stdout",
       "text": [
        "\n",
        "Processing player # 111, ID: 23404806"
       ]
      },
      {
       "output_type": "stream",
       "stream": "stdout",
       "text": [
        "\n",
        "Processing player # 112, ID: 36718800"
       ]
      },
      {
       "output_type": "stream",
       "stream": "stdout",
       "text": [
        "\n",
        "Processing player # 113, ID: 20151025"
       ]
      },
      {
       "output_type": "stream",
       "stream": "stdout",
       "text": [
        "\n",
        "Processing player # 114, ID: 19944591"
       ]
      },
      {
       "output_type": "stream",
       "stream": "stdout",
       "text": [
        "\n",
        "Processing player # 115, ID: 19732914"
       ]
      },
      {
       "output_type": "stream",
       "stream": "stdout",
       "text": [
        "\n",
        "Processing player # 116, ID: 23557909"
       ]
      },
      {
       "output_type": "stream",
       "stream": "stdout",
       "text": [
        "\n",
        "Processing player # 117, ID: 20726321"
       ]
      },
      {
       "output_type": "stream",
       "stream": "stdout",
       "text": [
        "\n",
        "Processing player # 118, ID: 48637590"
       ]
      },
      {
       "output_type": "stream",
       "stream": "stdout",
       "text": [
        "\n",
        "Processing player # 119, ID: 63389080"
       ]
      },
      {
       "output_type": "stream",
       "stream": "stdout",
       "text": [
        "\n",
        "Processing player # 120, ID: 22216718"
       ]
      },
      {
       "output_type": "stream",
       "stream": "stdout",
       "text": [
        "\n",
        "Processing player # 121, ID: 18991200"
       ]
      },
      {
       "output_type": "stream",
       "stream": "stdout",
       "text": [
        "\n",
        "Processing player # 122, ID: 19967304"
       ]
      },
      {
       "output_type": "stream",
       "stream": "stdout",
       "text": [
        "\n",
        "Processing player # 123, ID: 21600556"
       ]
      },
      {
       "output_type": "stream",
       "stream": "stdout",
       "text": [
        "\n",
        "Processing player # 124, ID: 49389111"
       ]
      },
      {
       "output_type": "stream",
       "stream": "stdout",
       "text": [
        "\n",
        "Processing player # 125, ID: 22059766"
       ]
      },
      {
       "output_type": "stream",
       "stream": "stdout",
       "text": [
        "\n",
        "Processing player # 126, ID: 22079480"
       ]
      },
      {
       "output_type": "stream",
       "stream": "stdout",
       "text": [
        "\n",
        "Processing player # 127, ID: 23480331"
       ]
      },
      {
       "output_type": "stream",
       "stream": "stdout",
       "text": [
        "\n",
        "Processing player # 128, ID: 24295656"
       ]
      },
      {
       "output_type": "stream",
       "stream": "stdout",
       "text": [
        "\n",
        "Processing player # 129, ID: 29200584"
       ]
      },
      {
       "output_type": "stream",
       "stream": "stdout",
       "text": [
        "\n",
        "Processing player # 130, ID: 26114733"
       ]
      },
      {
       "output_type": "stream",
       "stream": "stdout",
       "text": [
        "\n",
        "Processing player # 131, ID: 56403918"
       ]
      },
      {
       "output_type": "stream",
       "stream": "stdout",
       "text": [
        "\n",
        "Processing player # 132, ID: 19889421"
       ]
      },
      {
       "output_type": "stream",
       "stream": "stdout",
       "text": [
        "\n",
        "Processing player # 133, ID: 21837426"
       ]
      },
      {
       "output_type": "stream",
       "stream": "stdout",
       "text": [
        "\n",
        "Processing player # 134, ID: 20203681"
       ]
      },
      {
       "output_type": "stream",
       "stream": "stdout",
       "text": [
        "\n",
        "Processing player # 135, ID: 58060767"
       ]
      },
      {
       "output_type": "stream",
       "stream": "stdout",
       "text": [
        "\n",
        "Processing player # 136, ID: 57539163"
       ]
      },
      {
       "output_type": "stream",
       "stream": "stdout",
       "text": [
        "\n",
        "Processing player # 137, ID: 23765764"
       ]
      },
      {
       "output_type": "stream",
       "stream": "stdout",
       "text": [
        "\n",
        "Processing player # 138, ID: 26676087"
       ]
      },
      {
       "output_type": "stream",
       "stream": "stdout",
       "text": [
        "\n",
        "Processing player # 139, ID: 56779211"
       ]
      },
      {
       "output_type": "stream",
       "stream": "stdout",
       "text": [
        "\n",
        "Processing player # 140, ID: 19202854"
       ]
      },
      {
       "output_type": "stream",
       "stream": "stdout",
       "text": [
        "\n",
        "Processing player # 141, ID: 61109246"
       ]
      },
      {
       "output_type": "stream",
       "stream": "stdout",
       "text": [
        "\n",
        "Processing player # 142, ID: 271851"
       ]
      },
      {
       "output_type": "stream",
       "stream": "stdout",
       "text": [
        "\n",
        "Processing player # 143, ID: 19134540"
       ]
      },
      {
       "output_type": "stream",
       "stream": "stdout",
       "text": [
        "\n",
        "Processing player # 144, ID: 581716"
       ]
      },
      {
       "output_type": "stream",
       "stream": "stdout",
       "text": [
        "\n",
        "Processing player # 145, ID: 21701239"
       ]
      },
      {
       "output_type": "stream",
       "stream": "stdout",
       "text": [
        "\n",
        "Processing player # 146, ID: 25888946"
       ]
      },
      {
       "output_type": "stream",
       "stream": "stdout",
       "text": [
        "\n",
        "Processing player # 147, ID: 19770082"
       ]
      },
      {
       "output_type": "stream",
       "stream": "stdout",
       "text": [
        "\n",
        "Processing player # 148, ID: 27271906"
       ]
      },
      {
       "output_type": "stream",
       "stream": "stdout",
       "text": [
        "\n",
        "Processing player # 149, ID: 26782828"
       ]
      },
      {
       "output_type": "stream",
       "stream": "stdout",
       "text": [
        "\n",
        "Processing player # 150, ID: 51409228"
       ]
      },
      {
       "output_type": "stream",
       "stream": "stdout",
       "text": [
        "\n",
        "Processing player # 151, ID: 58110784"
       ]
      },
      {
       "output_type": "stream",
       "stream": "stdout",
       "text": [
        "\n",
        "Processing player # 152, ID: 21540249"
       ]
      },
      {
       "output_type": "stream",
       "stream": "stdout",
       "text": [
        "\n",
        "Processing player # 153, ID: 29524444"
       ]
      },
      {
       "output_type": "stream",
       "stream": "stdout",
       "text": [
        "\n",
        "Processing player # 154, ID: 39877298"
       ]
      },
      {
       "output_type": "stream",
       "stream": "stdout",
       "text": [
        "\n",
        "Processing player # 155, ID: 23162732"
       ]
      },
      {
       "output_type": "stream",
       "stream": "stdout",
       "text": [
        "\n",
        "Processing player # 156, ID: 398435"
       ]
      },
      {
       "output_type": "stream",
       "stream": "stdout",
       "text": [
        "\n",
        "Processing player # 157, ID: 34925733"
       ]
      },
      {
       "output_type": "stream",
       "stream": "stdout",
       "text": [
        "\n",
        "Processing player # 158, ID: 30512424"
       ]
      },
      {
       "output_type": "stream",
       "stream": "stdout",
       "text": [
        "\n",
        "Processing player # 159, ID: 20610274"
       ]
      },
      {
       "output_type": "stream",
       "stream": "stdout",
       "text": [
        "\n",
        "Processing player # 160, ID: 377115"
       ]
      },
      {
       "output_type": "stream",
       "stream": "stdout",
       "text": [
        "\n",
        "Processing player # 161, ID: 40743771"
       ]
      },
      {
       "output_type": "stream",
       "stream": "stdout",
       "text": [
        "\n",
        "Processing player # 162, ID: 7250"
       ]
      },
      {
       "output_type": "stream",
       "stream": "stdout",
       "text": [
        "\n",
        "Processing player # 163, ID: 51539240"
       ]
      },
      {
       "output_type": "stream",
       "stream": "stdout",
       "text": [
        "\n",
        "Processing player # 164, ID: 20579425"
       ]
      },
      {
       "output_type": "stream",
       "stream": "stdout",
       "text": [
        "\n",
        "Processing player # 165, ID: 44979332"
       ]
      },
      {
       "output_type": "stream",
       "stream": "stdout",
       "text": [
        "\n",
        "Processing player # 166, ID: 51082800"
       ]
      },
      {
       "output_type": "stream",
       "stream": "stdout",
       "text": [
        "\n",
        "Processing player # 167, ID: 31804754"
       ]
      },
      {
       "output_type": "stream",
       "stream": "stdout",
       "text": [
        "\n",
        "Processing player # 168, ID: 377078"
       ]
      },
      {
       "output_type": "stream",
       "stream": "stdout",
       "text": [
        "\n",
        "Processing player # 169, ID: 20711378"
       ]
      },
      {
       "output_type": "stream",
       "stream": "stdout",
       "text": [
        "\n",
        "Processing player # 170, ID: 37838557"
       ]
      },
      {
       "output_type": "stream",
       "stream": "stdout",
       "text": [
        "\n",
        "Processing player # 171, ID: 20218807"
       ]
      },
      {
       "output_type": "stream",
       "stream": "stdout",
       "text": [
        "\n",
        "Processing player # 172, ID: 61542283"
       ]
      },
      {
       "output_type": "stream",
       "stream": "stdout",
       "text": [
        "\n",
        "Processing player # 173, ID: 30312037"
       ]
      },
      {
       "output_type": "stream",
       "stream": "stdout",
       "text": [
        "\n",
        "Processing player # 174, ID: 19665819"
       ]
      },
      {
       "output_type": "stream",
       "stream": "stdout",
       "text": [
        "\n",
        "Processing player # 175, ID: 23747766"
       ]
      },
      {
       "output_type": "stream",
       "stream": "stdout",
       "text": [
        "\n",
        "Processing player # 176, ID: 22138282"
       ]
      },
      {
       "output_type": "stream",
       "stream": "stdout",
       "text": [
        "\n",
        "Processing player # 177, ID: 21059607"
       ]
      },
      {
       "output_type": "stream",
       "stream": "stdout",
       "text": [
        "\n",
        "Processing player # 178, ID: 24837798"
       ]
      },
      {
       "output_type": "stream",
       "stream": "stdout",
       "text": [
        "\n",
        "Processing player # 179, ID: 51405"
       ]
      },
      {
       "output_type": "stream",
       "stream": "stdout",
       "text": [
        "\n",
        "Processing player # 180, ID: 19209176"
       ]
      },
      {
       "output_type": "stream",
       "stream": "stdout",
       "text": [
        "\n",
        "Processing player # 181, ID: 63379079"
       ]
      },
      {
       "output_type": "stream",
       "stream": "stdout",
       "text": [
        "\n",
        "Processing player # 182, ID: 22079096"
       ]
      },
      {
       "output_type": "stream",
       "stream": "stdout",
       "text": [
        "\n",
        "Processing player # 183, ID: 19199530"
       ]
      },
      {
       "output_type": "stream",
       "stream": "stdout",
       "text": [
        "\n",
        "Processing player # 184, ID: 44989344"
       ]
      },
      {
       "output_type": "stream",
       "stream": "stdout",
       "text": [
        "\n",
        "Processing player # 185, ID: 25850956"
       ]
      },
      {
       "output_type": "stream",
       "stream": "stdout",
       "text": [
        "\n",
        "Processing player # 186, ID: 564332"
       ]
      },
      {
       "output_type": "stream",
       "stream": "stdout",
       "text": [
        "\n",
        "Processing player # 187, ID: 4297"
       ]
      },
      {
       "output_type": "stream",
       "stream": "stdout",
       "text": [
        "\n",
        "Processing player # 188, ID: 19887289"
       ]
      },
      {
       "output_type": "stream",
       "stream": "stdout",
       "text": [
        "\n",
        "Processing player # 189, ID: 41732749"
       ]
      },
      {
       "output_type": "stream",
       "stream": "stdout",
       "text": [
        "\n",
        "Processing player # 190, ID: 26384426"
       ]
      },
      {
       "output_type": "stream",
       "stream": "stdout",
       "text": [
        "\n",
        "Processing player # 191, ID: 521955"
       ]
      },
      {
       "output_type": "stream",
       "stream": "stdout",
       "text": [
        "\n",
        "Processing player # 192, ID: 25089268"
       ]
      },
      {
       "output_type": "stream",
       "stream": "stdout",
       "text": [
        "\n",
        "Processing player # 193, ID: 47008091"
       ]
      },
      {
       "output_type": "stream",
       "stream": "stdout",
       "text": [
        "\n",
        "Processing player # 194, ID: 19063356"
       ]
      },
      {
       "output_type": "stream",
       "stream": "stdout",
       "text": [
        "\n",
        "Processing player # 195, ID: 44979338"
       ]
      },
      {
       "output_type": "stream",
       "stream": "stdout",
       "text": [
        "\n",
        "Processing player # 196, ID: 20915481"
       ]
      },
      {
       "output_type": "stream",
       "stream": "stdout",
       "text": [
        "\n",
        "Processing player # 197, ID: 30871780"
       ]
      },
      {
       "output_type": "stream",
       "stream": "stdout",
       "text": [
        "\n",
        "Processing player # 198, ID: 22478427"
       ]
      },
      {
       "output_type": "stream",
       "stream": "stdout",
       "text": [
        "\n",
        "Processing player # 199, ID: 25738593"
       ]
      },
      {
       "output_type": "stream",
       "stream": "stdout",
       "text": [
        "\n",
        "Processing player # 200, ID: 21633048"
       ]
      },
      {
       "output_type": "stream",
       "stream": "stdout",
       "text": [
        "\n"
       ]
      }
     ],
     "prompt_number": 97
    },
    {
     "cell_type": "markdown",
     "metadata": {},
     "source": [
      "Getting this data took a couple of hours, so we'll save it to a file so we don't have to retrieve it again."
     ]
    },
    {
     "cell_type": "code",
     "collapsed": false,
     "input": [
      "# locally save large data after request to avoid querying API each time\n",
      "f = open('matchId.pckl', 'w')\n",
      "pickle.dump(match_Ids, f)\n",
      "f.close()"
     ],
     "language": "python",
     "metadata": {},
     "outputs": [],
     "prompt_number": 22
    },
    {
     "cell_type": "code",
     "collapsed": false,
     "input": [
      "# open matchID data from local file\n",
      "match_Ids = pickle.load(open('matchId.pckl', 'rb'))"
     ],
     "language": "python",
     "metadata": {},
     "outputs": [],
     "prompt_number": 10
    },
    {
     "cell_type": "markdown",
     "metadata": {},
     "source": [
      "With the list of matchIDs that we want to examine, we query the API again to get more detailed data about each particular match. This includes the champions selected by both sides and the roles they played in the game, as well as the game outcome and gold earned throughout the game. We will be using gold earned by a team as one of our variables because it is a very strong indicator of game dominance. "
     ]
    },
    {
     "cell_type": "markdown",
     "metadata": {},
     "source": [
      "We want to organize our data so that instead of using champion IDs, we have champion names instead. The following code segment provides a mapping from ID to name."
     ]
    },
    {
     "cell_type": "code",
     "collapsed": false,
     "input": [
      "# champion key lookup by id - define a dictionary that can find a champion name from its Riot ID\n",
      "static_champion_data = {}\n",
      "url = 'https://na.api.pvp.net/api/lol/static-data/na/v1.2/champion?api_key=7dff8fa2-5167-40f3-8c11-9b1887b6ca8a'\n",
      "champs = requests.get(url).json()\n",
      "for champ, data in champs['data'].iteritems():\n",
      "    static_champion_data[data['id']] = champ"
     ],
     "language": "python",
     "metadata": {},
     "outputs": [],
     "prompt_number": 3
    },
    {
     "cell_type": "markdown",
     "metadata": {},
     "source": [
      "The following function gets the data in chunks because we wanted to limit failure."
     ]
    },
    {
     "cell_type": "code",
     "collapsed": false,
     "input": [
      "\"\"\"\n",
      "Polls the Riot API to get the data about certain matches\n",
      "Input:\n",
      "    match_Ids: list of match IDs to poll from\n",
      "    begin_index: index to start from in the list\n",
      "    end_index: index to end at from the list\n",
      "\"\"\"\n",
      "def get_matches(match_Ids, begin_index, end_index):\n",
      "\n",
      "    # for rate limiting\n",
      "    num_requests = 0\n",
      "    match_Ids_piece = list(match_Ids)[begin_index:end_index]\n",
      "    num_Ids = len(list(match_Ids))\n",
      "\n",
      "    for match_Id in match_Ids_piece:\n",
      "        url = \"https://na.api.pvp.net/api/lol/na/v2.2/match/\" + str(match_Id) + \"?api_key=\" + api_key\n",
      "        response = requests.get(url)\n",
      "        try:\n",
      "            match_data = response.json()\n",
      "        except ValueError:\n",
      "            print 'JSON Decoding failed for url: ' + url\n",
      "\n",
      "        num_requests += 1\n",
      "        if num_requests % 10 == 0:\n",
      "            time.sleep(10)\n",
      "        if num_requests % 100 == 0:\n",
      "            print \"Processed \" + str(num_requests) + \" requests\"\n",
      "        all_match_data.append(match_data)\n",
      "    \n",
      "    # save into a corresponding file\n",
      "    f = open('matchData' + str(begin_index) + '_' + str(end_index) + '.pckl', 'w')\n",
      "    pickle.dump(all_match_data, f)\n",
      "    f.close()"
     ],
     "language": "python",
     "metadata": {},
     "outputs": [],
     "prompt_number": 23
    },
    {
     "cell_type": "markdown",
     "metadata": {},
     "source": [
      "Now that we have all the data, we convert the data that we want into a dataframe."
     ]
    },
    {
     "cell_type": "code",
     "collapsed": false,
     "input": [
      "\"\"\"\n",
      "Converts json data into a Pandas dataframe we can use\n",
      "Input:\n",
      "    all_match_data: list of matches (each match is in a json format)\n",
      "    matches: list to append to\n",
      "Output:\n",
      "    matches: the list containing all the converted matches\n",
      "\"\"\"\n",
      "def convert_to_matches(all_match_data, matches):\n",
      "    for match_data in all_match_data:\n",
      "        \n",
      "        # if the data contains participants, then we can proceed\n",
      "        if 'participants' in match_data:\n",
      "            participants = match_data['participants']\n",
      "            \n",
      "            # separate teams by checking team ID\n",
      "            team1 = []\n",
      "            team2 = []\n",
      "            \n",
      "            # boolean to keep track of which team won\n",
      "            team1_win = None\n",
      "            \n",
      "            for participant in participants:\n",
      "                # the two teams are identified as team ID 100 and 200\n",
      "                if (participant['teamId'] == 100):\n",
      "                    team1.append(participant)\n",
      "                    team1_win = participant['stats']['winner']\n",
      "                else:\n",
      "                    team2.append(participant)\n",
      "                    team1_win = not participant['stats']['winner']\n",
      "                    \n",
      "            # determine the total amount of gold on the team\n",
      "            team1_gold = sum([participant['stats']['goldEarned'] for participant in team1])\n",
      "            team2_gold = sum([participant['stats']['goldEarned'] for participant in team2])\n",
      "            \n",
      "            # preallocate for each row\n",
      "            match_summary = [None for i in xrange(0, 13)]\n",
      "            \n",
      "            # first column will be the match ID\n",
      "            match_summary[0] = match_data['matchId']\n",
      "            ## Row invariant: first column will be match ID, next 5 columns are team 1 in the following order\n",
      "            #  1. Top\n",
      "            #  2. Jungle\n",
      "            #  3. Middle\n",
      "            #  4. Bottom AD Carry\n",
      "            #  5. Bottom Support\n",
      "            # The next 5 columns will be team 2 with the same order\n",
      "            # The 12th column is the gold differential between the first and second team.\n",
      "            # The 13th column is the team that won the game\n",
      "            for player in team1:\n",
      "                if player['timeline']['lane'] == 'TOP':\n",
      "                    match_summary[1] = static_champion_data[player['championId']]\n",
      "                if player['timeline']['lane'] == 'JUNGLE':\n",
      "                    match_summary[2] = static_champion_data[player['championId']]\n",
      "                if player['timeline']['lane'] == 'MID' or player['timeline']['lane'] == 'MIDDLE':\n",
      "                    match_summary[3] = static_champion_data[player['championId']]\n",
      "                if player['timeline']['lane'] == 'BOT' or player['timeline']['lane'] == 'BOTTOM':\n",
      "                    if player['timeline']['role'] == 'DUO_CARRY':\n",
      "                        match_summary[4] = static_champion_data[player['championId']]\n",
      "                    else:\n",
      "                        match_summary[5] = static_champion_data[player['championId']]\n",
      "\n",
      "            for player in team2:\n",
      "                if player['timeline']['lane'] == 'TOP':\n",
      "                    match_summary[6] = static_champion_data[player['championId']]\n",
      "                if player['timeline']['lane'] == 'JUNGLE':\n",
      "                    match_summary[7] = static_champion_data[player['championId']]\n",
      "                if player['timeline']['lane'] == 'MID' or player['timeline']['lane'] == 'MIDDLE':\n",
      "                    match_summary[8] = static_champion_data[player['championId']]\n",
      "                if player['timeline']['lane'] == 'BOT' or player['timeline']['lane'] == 'BOTTOM':\n",
      "                    if player['timeline']['role'] == 'DUO_CARRY':\n",
      "                        match_summary[9] = static_champion_data[player['championId']]\n",
      "                    else:\n",
      "                        match_summary[10] = static_champion_data[player['championId']]\n",
      "            match_summary[11] = team1_gold - team2_gold\n",
      "            match_summary[12] = int(team1_win)\n",
      "            matches.append(match_summary)\n",
      "    return matches\n"
     ],
     "language": "python",
     "metadata": {},
     "outputs": [],
     "prompt_number": 3
    },
    {
     "cell_type": "markdown",
     "metadata": {},
     "source": [
      "Because Riot's API limits us to 10 requests every 10 seconds, it took a very long time to retrieve about 50000 matches from their servers. Thus, we took out the code to poll Riot's data and put it in a separate python file, called `getMatches.py`. We then saved the data into pickle files so that in the future, we do not have to request the data again. Be forewarned, the loading of the data takes a very long time, and could cause your computer to run out of memory."
     ]
    },
    {
     "cell_type": "code",
     "collapsed": false,
     "input": [
      "# store all the data into a list\n",
      "matches = []\n",
      "\n",
      "print 'Reading first part...'\n",
      "all_match_data = pickle.load(open('matchData4000_8000.pckl', 'rb'))\n",
      "matches = convert_to_matches(all_match_data, matches)\n",
      "\n",
      "print 'Reading second part...'\n",
      "all_match_data = pickle.load(open('matchData8000_30000.pckl', 'rb'))\n",
      "matches = convert_to_matches(all_match_data, matches)"
     ],
     "language": "python",
     "metadata": {},
     "outputs": [
      {
       "output_type": "stream",
       "stream": "stdout",
       "text": [
        "Reading first part...\n",
        "Reading second part...\n"
       ]
      }
     ],
     "prompt_number": 6
    },
    {
     "cell_type": "code",
     "collapsed": false,
     "input": [
      "print 'Reading third part...'\n",
      "all_match_data = pickle.load(open('matchData30000_34000.pckl', 'rb'))\n",
      "matches = convert_to_matches(all_match_data, matches)\n",
      "\n",
      "print 'Reading last part...'\n",
      "all_match_data = pickle.load(open('matchData34000_51632.pckl', 'rb'))\n",
      "matches = convert_to_matches(all_match_data, matches)"
     ],
     "language": "python",
     "metadata": {},
     "outputs": [
      {
       "output_type": "stream",
       "stream": "stdout",
       "text": [
        "Reading third part...\n",
        "Reading last part..."
       ]
      },
      {
       "output_type": "stream",
       "stream": "stdout",
       "text": [
        "\n"
       ]
      }
     ],
     "prompt_number": 7
    },
    {
     "cell_type": "markdown",
     "metadata": {},
     "source": [
      "When looking through the data, we noticed that there were quite a few None's appearing in our dataframe. After doing some digging, we found that some of the matches included 3 vs. 3 matches. Since the dynamic of 3 vs. 3 matches is quite different from 5 vs. 5 matches, we decided to take those rows out of our data frame. Additionally, some of the matches were unorthodox in the sense that the team composition did not have the 5 standard players (Top, Jungle, Mid, ADC, Support). In some cases, there were two junglers, or two mid-laners. Since we wanted to predict professional level games, we decided not to include those games as well, as those unorthodox team compositions never appear at the esports level. Thus we implemented the function `clean_data` to help us filter relevant games."
     ]
    },
    {
     "cell_type": "code",
     "collapsed": false,
     "input": [
      "\"\"\"\n",
      "Takes the data and filters out matches we do not care about\n",
      "Input:\n",
      "    matches: a 2-D list. Contains a list of all the matches, each of which is a list of information we specified above.\n",
      "Output:\n",
      "    match_data_df: a Pandas dataframe containing \n",
      "\"\"\"\n",
      "def clean_data(matches):\n",
      "    headers = ['Match ID', 'top1', 'jun1', 'mid1', 'adc1', 'sup1', 'top2', 'jun2', 'mid2', 'adc2', 'sup2', 'Gold Diff', 'Winner']\n",
      "    match_data_df = pd.DataFrame(matches,columns=headers)\n",
      "    for i in range(0, len(match_data_df.columns)):\n",
      "        match_data_df = match_data_df[match_data_df[match_data_df.columns[i]].isnull() == False]\n",
      "    match_data_df = match_data_df.reset_index(drop=True)\n",
      "    return match_data_df"
     ],
     "language": "python",
     "metadata": {},
     "outputs": [],
     "prompt_number": 8
    },
    {
     "cell_type": "markdown",
     "metadata": {},
     "source": [
      "Again, since loading the original json data took a long time (~1 hour), we decided to save the contents of this dataframe into a pickle file."
     ]
    },
    {
     "cell_type": "code",
     "collapsed": false,
     "input": [
      "# clean the data\n",
      "match_data_df = clean_data(matches)\n",
      "\n",
      "# save into a file\n",
      "f = open('matchSummary4000_end.pckl', 'w')\n",
      "pickle.dump(match_data_df, f)\n",
      "f.close()"
     ],
     "language": "python",
     "metadata": {},
     "outputs": [],
     "prompt_number": 11
    },
    {
     "cell_type": "markdown",
     "metadata": {},
     "source": [
      "Here's an example of what the dataframe looks like."
     ]
    },
    {
     "cell_type": "code",
     "collapsed": false,
     "input": [
      "match_data_df = pickle.load(open('matchSummary4000_end.pckl', 'rb'))\n",
      "match_data_df.head()"
     ],
     "language": "python",
     "metadata": {},
     "outputs": [
      {
       "html": [
        "<div style=\"max-height:1000px;max-width:1500px;overflow:auto;\">\n",
        "<table border=\"1\" class=\"dataframe\">\n",
        "  <thead>\n",
        "    <tr style=\"text-align: right;\">\n",
        "      <th></th>\n",
        "      <th>Match ID</th>\n",
        "      <th>top1</th>\n",
        "      <th>jun1</th>\n",
        "      <th>mid1</th>\n",
        "      <th>adc1</th>\n",
        "      <th>sup1</th>\n",
        "      <th>top2</th>\n",
        "      <th>jun2</th>\n",
        "      <th>mid2</th>\n",
        "      <th>adc2</th>\n",
        "      <th>sup2</th>\n",
        "      <th>Gold Diff</th>\n",
        "      <th>Winner</th>\n",
        "    </tr>\n",
        "  </thead>\n",
        "  <tbody>\n",
        "    <tr>\n",
        "      <th>0</th>\n",
        "      <td> 1516251192</td>\n",
        "      <td>  Jayce</td>\n",
        "      <td>        Elise</td>\n",
        "      <td>     Fizz</td>\n",
        "      <td>      Lucian</td>\n",
        "      <td> Blitzcrank</td>\n",
        "      <td>        Zed</td>\n",
        "      <td>   Khazix</td>\n",
        "      <td>   Katarina</td>\n",
        "      <td>    Corki</td>\n",
        "      <td>      Braum</td>\n",
        "      <td>    14</td>\n",
        "      <td> 1</td>\n",
        "    </tr>\n",
        "    <tr>\n",
        "      <th>1</th>\n",
        "      <td> 1386752062</td>\n",
        "      <td> Gragas</td>\n",
        "      <td> FiddleSticks</td>\n",
        "      <td> Katarina</td>\n",
        "      <td>      Lucian</td>\n",
        "      <td>     Thresh</td>\n",
        "      <td> MonkeyKing</td>\n",
        "      <td> Pantheon</td>\n",
        "      <td>      Kayle</td>\n",
        "      <td>    Varus</td>\n",
        "      <td>      Janna</td>\n",
        "      <td>-11522</td>\n",
        "      <td> 0</td>\n",
        "    </tr>\n",
        "    <tr>\n",
        "      <th>2</th>\n",
        "      <td> 1509304384</td>\n",
        "      <td>  Swain</td>\n",
        "      <td>      Warwick</td>\n",
        "      <td> Tristana</td>\n",
        "      <td>      Lucian</td>\n",
        "      <td>    Alistar</td>\n",
        "      <td>      Akali</td>\n",
        "      <td>  Trundle</td>\n",
        "      <td>       Fizz</td>\n",
        "      <td>    Corki</td>\n",
        "      <td> Blitzcrank</td>\n",
        "      <td>  3857</td>\n",
        "      <td> 1</td>\n",
        "    </tr>\n",
        "    <tr>\n",
        "      <th>3</th>\n",
        "      <td> 1536043075</td>\n",
        "      <td>  Akali</td>\n",
        "      <td>      Warwick</td>\n",
        "      <td>  Orianna</td>\n",
        "      <td>       Vayne</td>\n",
        "      <td>    Morgana</td>\n",
        "      <td>     Maokai</td>\n",
        "      <td> Pantheon</td>\n",
        "      <td>      Yasuo</td>\n",
        "      <td> Tristana</td>\n",
        "      <td>      Janna</td>\n",
        "      <td>-17505</td>\n",
        "      <td> 0</td>\n",
        "    </tr>\n",
        "    <tr>\n",
        "      <th>4</th>\n",
        "      <td> 1533159493</td>\n",
        "      <td>  Yasuo</td>\n",
        "      <td>     JarvanIV</td>\n",
        "      <td>  Orianna</td>\n",
        "      <td> MissFortune</td>\n",
        "      <td>       Nami</td>\n",
        "      <td>      Riven</td>\n",
        "      <td>  Hecarim</td>\n",
        "      <td> Cassiopeia</td>\n",
        "      <td>   Lucian</td>\n",
        "      <td>     Thresh</td>\n",
        "      <td>-11915</td>\n",
        "      <td> 0</td>\n",
        "    </tr>\n",
        "  </tbody>\n",
        "</table>\n",
        "</div>"
       ],
       "metadata": {},
       "output_type": "pyout",
       "prompt_number": 4,
       "text": [
        "     Match ID    top1          jun1      mid1         adc1        sup1  \\\n",
        "0  1516251192   Jayce         Elise      Fizz       Lucian  Blitzcrank   \n",
        "1  1386752062  Gragas  FiddleSticks  Katarina       Lucian      Thresh   \n",
        "2  1509304384   Swain       Warwick  Tristana       Lucian     Alistar   \n",
        "3  1536043075   Akali       Warwick   Orianna        Vayne     Morgana   \n",
        "4  1533159493   Yasuo      JarvanIV   Orianna  MissFortune        Nami   \n",
        "\n",
        "         top2      jun2        mid2      adc2        sup2  Gold Diff  Winner  \n",
        "0         Zed    Khazix    Katarina     Corki       Braum         14       1  \n",
        "1  MonkeyKing  Pantheon       Kayle     Varus       Janna     -11522       0  \n",
        "2       Akali   Trundle        Fizz     Corki  Blitzcrank       3857       1  \n",
        "3      Maokai  Pantheon       Yasuo  Tristana       Janna     -17505       0  \n",
        "4       Riven   Hecarim  Cassiopeia    Lucian      Thresh     -11915       0  "
       ]
      }
     ],
     "prompt_number": 4
    },
    {
     "cell_type": "code",
     "collapsed": false,
     "input": [
      "len(match_data_df['top1'])"
     ],
     "language": "python",
     "metadata": {},
     "outputs": [
      {
       "metadata": {},
       "output_type": "pyout",
       "prompt_number": 13,
       "text": [
        "37107"
       ]
      }
     ],
     "prompt_number": 13
    },
    {
     "cell_type": "markdown",
     "metadata": {},
     "source": [
      "###Data Analysis"
     ]
    },
    {
     "cell_type": "code",
     "collapsed": false,
     "input": [
      "# define column names of two teams\n",
      "category = ['top1', 'jun1', 'mid1', 'adc1', 'sup1', 'top2', 'jun2', 'mid2', 'adc2', 'sup2', 'Winner']\n",
      "\n",
      "\n",
      "\"\"\"\n",
      "Finds all possible combinations of pairs/triples for each team in each match\n",
      "Input:\n",
      "    team1: column names for team 1\n",
      "    team2: column names for team 2\n",
      "Output:\n",
      "    data: dataframe of combinations\n",
      "\"\"\"\n",
      "def create_pairs(matches):\n",
      "    team1 = ['top1', 'jun1', 'mid1', 'adc1', 'sup1']\n",
      "    team2 = ['top2', 'jun2', 'mid2', 'adc2', 'sup2']\n",
      "    title = ['champ1', 'champ2', 'W', 'ID']\n",
      "    # number of matches in data set\n",
      "    rows = []\n",
      "    print 'Processing Team 1 Pairs'\n",
      "    for p in range(0, len(matches)): \n",
      "        for i in range(0,len(team1)):\n",
      "            for j in range(i+1, len(team1)):\n",
      "                row = []\n",
      "                row.append(sorted([matches[team1[i]][p], matches[team1[j]][p]])[0])\n",
      "                row.append(sorted([matches[team1[i]][p], matches[team1[j]][p]])[1])\n",
      "                row.append(matches['Winner'][p] == 1)\n",
      "                row.append(team1[i]+team1[j])\n",
      "                rows.append(row)\n",
      "        if (p % 5000 == 0):\n",
      "            print str(p+1) + ' matches processed...'\n",
      "    print 'Processing Team 2 Pairs'\n",
      "    for p in range(0, len(matches['top1'])): \n",
      "        for i in range(0,len(team2)):\n",
      "            for j in range(i+1, len(team2)):\n",
      "                row = []\n",
      "                row.append(sorted([matches[team2[i]][p], matches[team2[j]][p]])[0])\n",
      "                row.append(sorted([matches[team2[i]][p], matches[team2[j]][p]])[1])\n",
      "                row.append(matches['Winner'][p] == 0)\n",
      "                row.append(team2[i]+team2[j])\n",
      "                rows.append(row)\n",
      "        if (p % 5000 == 0):\n",
      "            print str(p+1) + ' matches processed...'\n",
      "    data = pd.DataFrame(rows,columns=title)\n",
      "    return data\n",
      "\n",
      "def create_trips(matches):\n",
      "    team1 = ['top1', 'jun1', 'mid1', 'adc1', 'sup1']\n",
      "    team2 = ['top2', 'jun2', 'mid2', 'adc2', 'sup2']\n",
      "    title = ['champ1','champ2','champ3','W','ID']\n",
      "    num = len(matches)\n",
      "    data = pd.DataFrame(index=range(0, 20*num), columns=title)\n",
      "    champ1_list = []\n",
      "    champ2_list = []\n",
      "    champ3_list = []\n",
      "    win = []\n",
      "    ids = []\n",
      "    for p in range(0, len(matches['top1'])): \n",
      "        for i in range(0,len(team1)):\n",
      "            for j in range(i+1, len(team1)):\n",
      "                for k in range(j+1, len(team1)):\n",
      "                    temp = sorted([matches[team1[i]][p], matches[team1[j]][p], matches[team1[k]][p]])\n",
      "                    champ1_list.append(temp[0])\n",
      "                    champ2_list.append(temp[1])\n",
      "                    champ3_list.append(temp[2])\n",
      "                    win.append(matches['Winner'][p] == 1)\n",
      "                    ids.append(team1[i]+team1[j]+team1[k])\n",
      "        if (p % 5000 == 0):\n",
      "            print str(p+1) + ' matches processed...'\n",
      "    for p in range(0, len(matches['top1'])): \n",
      "        for i in range(0,len(team2)):\n",
      "            for j in range(i+1, len(team2)):\n",
      "                for k in range(j+1, len(team2)):\n",
      "                    temp = sorted([matches[team2[i]][p], matches[team2[j]][p], matches[team2[k]][p]])\n",
      "                    champ1_list.append(temp[0])\n",
      "                    champ2_list.append(temp[1])\n",
      "                    champ3_list.append(temp[2])\n",
      "                    win.append(matches['Winner'][p] == 0)\n",
      "                    ids.append(team2[i]+team2[j]+team2[k])\n",
      "        if (p % 5000 == 0):\n",
      "            print str(p+1) + ' matches processed...'\n",
      "    data['champ1'] = champ1_list\n",
      "    data['champ2'] = champ2_list\n",
      "    data['champ3'] = champ3_list\n",
      "    data['W'] = win\n",
      "    data['ID'] = ids\n",
      "    return data\n",
      "\n",
      "\n",
      "# define function to calculate historical win percentage of each pair\n",
      "\"\"\"\n",
      "Creates a lookup table that determines the win percentage of each pair/triples of champions\n",
      "Input\n",
      "    champ_pairs: output from create_pairs/create_trips\n",
      "    cutoff: \n",
      "Output\n",
      "    data: the lookup table\n",
      "\"\"\"\n",
      "def pair_winpercent(champ_pairs, cutoff=0):\n",
      "    pairlist = pd.DataFrame(champ_pairs)\n",
      "    pairlist = pairlist.drop_duplicates(subset=['champ1', 'champ2']).reset_index(drop=True)\n",
      "    pairlist['Wins'] = ''\n",
      "    pairlist['Matches'] = ''\n",
      "    pairlist['Win_percent'] = ''\n",
      "    for i in range(0, len(pairlist)):\n",
      "        if (i % 4000 == 0):\n",
      "            print str(i) + ' unique pairs processed'\n",
      "        filteredlist = champ_pairs[(champ_pairs['champ1'] == pairlist['champ1'][i]) & (champ_pairs['champ2'] == pairlist['champ2'][i])]\n",
      "        pairlist['Wins'][i] = len(filteredlist[filteredlist['W'] == True])\n",
      "        pairlist['Matches'][i] = len(filteredlist)\n",
      "        pairlist['Win_percent'][i] = np.round(1.0*pairlist['Wins'][i]/pairlist['Matches'][i], 2)\n",
      "    pairlist = pairlist.drop('W', 1).drop('ID', 1).sort(columns='champ2').sort(columns='champ1').reset_index(drop=True)\n",
      "    return pairlist[pairlist['Matches'] >= cutoff].reset_index(drop=True)\n",
      "\n",
      "def triple_winpercent(champ_triples, cutoff=0):\n",
      "    triplelist = pd.DataFrame(champ_triples)\n",
      "    triplelist = triplelist.drop_duplicates(subset=['champ1', 'champ2', 'champ3']).reset_index(drop=True)\n",
      "    triplelist['Wins'] = ''\n",
      "    triplelist['Matches'] = ''\n",
      "    triplelist['Win_percent'] = ''\n",
      "    for i in range(0, len(triplelist)):\n",
      "        if (i % 4000 == 0):\n",
      "            print str(i) + ' unique triples processed'\n",
      "        filteredlist = champ_triples[(champ_triples['champ1'] == triplelist['champ1'][i]) & (champ_triples['champ2'] == triplelist['champ2'][i]) & (champ_triples['champ3'] == triplelist['champ3'][i])]\n",
      "        triplelist['Wins'][i] = len(filteredlist[filteredlist['W'] == True])\n",
      "        triplelist['Matches'][i] = len(filteredlist)\n",
      "        triplelist['Win_percent'][i] = np.round(1.0*triplelist['Wins'][i]/triplelist['Matches'][i], 2)\n",
      "    triplelist = triplelist.drop('W', 1).drop('ID', 1).sort(columns='champ3').sort(columns='champ2').sort(columns='champ1').reset_index(drop=True)\n",
      "    return triplelist[triplelist['Matches'] >= cutoff].reset_index(drop=True)\n",
      "\n",
      "\n",
      "\n",
      "\"\"\"\n",
      "\n",
      "Input\n",
      "    champ_pairs: create_pairs output\n",
      "    pairlist: lookup table\n",
      "    final_comb: list of column names\n",
      "    num: number of matches\n",
      "Output\n",
      "    pos_comb: table of probabilities for each game\n",
      "\"\"\"\n",
      "\n",
      "def create_prob(champ_pairs, pairlist, final_comb, num):\n",
      "    count_x = 0\n",
      "    count_y = 0\n",
      "    pos_comb = pd.DataFrame(index=range(0,num), columns=final_comb)\n",
      "    for i in range(0, len(final_comb)):\n",
      "        if (i % 5 == 0):\n",
      "            print str(i) + ' fields processed'\n",
      "        filtered = champ_pairs[champ_pairs['ID'] == final_comb[i]].reset_index(drop=True)  \n",
      "        array = []\n",
      "        for j in range(0, len(filtered)):\n",
      "            temp = pairlist[(pairlist['champ1'] == filtered['champ1'][j]) & (pairlist['champ2'] == filtered['champ2'][j])].reset_index(drop=True)['Win_percent']\n",
      "            if (len(temp) > 0):\n",
      "                array.append(temp[0])\n",
      "                count_x += 1\n",
      "                count_y += 1\n",
      "            else:\n",
      "                array.append(0.5)\n",
      "                count_y += 1\n",
      "        pos_comb[final_comb[i]] = array\n",
      "    return pos_comb\n",
      "\n",
      "\n",
      "def create_prob_full(champ_pairs, champ_triples, pairlist, triplelist, final_comb, num):\n",
      "    count_x = 0\n",
      "    count_y = 0\n",
      "    pos_comb = pd.DataFrame(index=range(0,num), columns=final_comb)\n",
      "    for i in range(0, len(final_comb)):\n",
      "        if (i % 5 == 0):\n",
      "            print str(i) + ' fields processed'\n",
      "        if (len(final_comb[i]) == 8):\n",
      "            filtered = champ_pairs[champ_pairs['ID'] == final_comb[i]].reset_index(drop=True)\n",
      "        else:\n",
      "            filtered = champ_triples[champ_triples['ID'] == final_comb[i]].reset_index(drop=True)\n",
      "        array = []\n",
      "        for j in range(0, len(filtered)):\n",
      "            if (len(final_comb[i]) == 8):\n",
      "                temp = pairlist[(pairlist['champ1'] == filtered['champ1'][j]) & (pairlist['champ2'] == filtered['champ2'][j])].reset_index(drop=True)['Win_percent']\n",
      "            else:\n",
      "                temp = triplelist[(triplelist['champ1'] == filtered['champ1'][j]) & (triplelist['champ2'] == filtered['champ2'][j]) & (triplelist['champ3'] == filtered['champ3'][j])].reset_index(drop=True)['Win_percent']\n",
      "            if (len(temp) > 0):\n",
      "                array.append(temp[0])\n",
      "                count_x += 1\n",
      "                count_y += 1\n",
      "            else:\n",
      "                array.append(0.5)\n",
      "                count_y += 1               \n",
      "        pos_comb[final_comb[i]] = array\n",
      "    return pos_comb"
     ],
     "language": "python",
     "metadata": {},
     "outputs": [],
     "prompt_number": 121
    },
    {
     "cell_type": "code",
     "collapsed": false,
     "input": [
      "matchSummary = pickle.load(open('matchSummary4000_end.pckl', 'rb'))\n",
      "index1 = int(0.8*len(matchSummary))\n",
      "index2 = int(0.97*len(matchSummary))\n",
      "table = matchSummary[0:index1]\n",
      "train = matchSummary[index1:index2].reset_index(drop=True)\n",
      "test = matchSummary[index2:len(matchSummary)].reset_index(drop=True)\n",
      "\n",
      "lookup_table2 = pickle.load(open('lookuptable2.pckl', 'rb'))\n",
      "position_pairs = create_pairs(table[0:1])['ID'].drop_duplicates().reset_index(drop=True)\n",
      "\n",
      "lookup_table3 = pickle.load(open('lookuptable3.pckl', 'rb'))\n",
      "position_triples = create_trips(table[0:1])['ID'].drop_duplicates().reset_index(drop=True)\n",
      "full_position_list = position_pairs.append(position_triples).reset_index(drop=True)"
     ],
     "language": "python",
     "metadata": {},
     "outputs": [
      {
       "output_type": "stream",
       "stream": "stdout",
       "text": [
        "Processing Team 1 Pairs\n",
        "1 matches processed...\n",
        "Processing Team 2 Pairs\n",
        "1 matches processed...\n",
        "1 matches processed..."
       ]
      },
      {
       "output_type": "stream",
       "stream": "stdout",
       "text": [
        "\n",
        "1 matches processed...\n"
       ]
      }
     ],
     "prompt_number": 126
    },
    {
     "cell_type": "code",
     "collapsed": false,
     "input": [
      "## DISTRIBUTION OF MATCH FREQUENCIES\n",
      "\n",
      "samp_size = 50\n",
      "cumulative_pct2 = [0]*samp_size\n",
      "cumulative_pct3 = [0]*samp_size\n",
      "size2 = len(lookup_table2)\n",
      "size3 = len(lookup_table3)\n",
      "for i in range(1, len(cumulative_pct2)):\n",
      "    cumulative_pct2[i] = cumulative_pct2[i-1] + 1.0*len(lookup_table2[lookup_table2['Matches'] == i])/size2\n",
      "    cumulative_pct3[i] = cumulative_pct3[i-1] + 1.0*len(lookup_table3[lookup_table3['Matches'] == i])/size3\n",
      "\n",
      "\n",
      "plt.plot(cumulative_pct2)\n",
      "plt.title('Cumulative Distribution of Match Frequencies (Pairs)')\n",
      "plt.xlabel('Number of Matches')\n",
      "plt.ylabel('Cumulative Percent')\n",
      "plt.show()\n",
      "\n",
      "plt.plot(cumulative_pct3)\n",
      "plt.title('Cumulative Distribution of Match Frequencies (Triples)')\n",
      "plt.xlabel('Number of Matches')\n",
      "plt.ylabel('Cumulative Percent')\n",
      "plt.show()"
     ],
     "language": "python",
     "metadata": {},
     "outputs": [
      {
       "metadata": {},
       "output_type": "display_data",
       "png": "[encoded data removed]",
       "text": [
        "<matplotlib.figure.Figure at 0x14f0fa0d0>"
       ]
      },
      {
       "metadata": {},
       "output_type": "display_data",
       "png": "[encoded data removed]",
       "text": [
        "<matplotlib.figure.Figure at 0x11a8a1d50>"
       ]
      }
     ],
     "prompt_number": 130
    },
    {
     "cell_type": "code",
     "collapsed": false,
     "input": [
      "## SET UP PAIRS DATA\n",
      "\n",
      "pairings = create_pairs(table)\n",
      "pairs_train = create_pairs(train)\n",
      "pairs_test = create_pairs(test)\n",
      "trim_lookup2 = lookup_table2[lookup_table2['Matches'] >= 5].reset_index(drop=True)\n",
      "\n",
      "\"\"\"\n",
      "No need to generate lookup table since it was pre-loaded to save time.\n",
      "\"\"\"\n",
      "# lookup_table2 = pair_winpercent(pairings)\n",
      "\n",
      "## SAVING LOOKUP TABLE TO FILE FOR QUICK LOADING\n",
      "\n",
      "# f = open('lookuptable2.pckl', 'w')\n",
      "# pickle.dump(lookup_table2,f)\n",
      "# f.close()"
     ],
     "language": "python",
     "metadata": {},
     "outputs": [
      {
       "output_type": "stream",
       "stream": "stdout",
       "text": [
        "Processing Team 1 Pairs\n",
        "1 matches processed...\n",
        "5001 matches processed..."
       ]
      },
      {
       "output_type": "stream",
       "stream": "stdout",
       "text": [
        "\n",
        "10001 matches processed..."
       ]
      },
      {
       "output_type": "stream",
       "stream": "stdout",
       "text": [
        "\n",
        "15001 matches processed..."
       ]
      },
      {
       "output_type": "stream",
       "stream": "stdout",
       "text": [
        "\n",
        "20001 matches processed..."
       ]
      },
      {
       "output_type": "stream",
       "stream": "stdout",
       "text": [
        "\n",
        "25001 matches processed..."
       ]
      },
      {
       "output_type": "stream",
       "stream": "stdout",
       "text": [
        "\n",
        "Processing Team 2 Pairs"
       ]
      },
      {
       "output_type": "stream",
       "stream": "stdout",
       "text": [
        "\n",
        "1 matches processed...\n",
        "5001 matches processed..."
       ]
      },
      {
       "output_type": "stream",
       "stream": "stdout",
       "text": [
        "\n",
        "10001 matches processed..."
       ]
      },
      {
       "output_type": "stream",
       "stream": "stdout",
       "text": [
        "\n",
        "15001 matches processed..."
       ]
      },
      {
       "output_type": "stream",
       "stream": "stdout",
       "text": [
        "\n",
        "20001 matches processed..."
       ]
      },
      {
       "output_type": "stream",
       "stream": "stdout",
       "text": [
        "\n",
        "25001 matches processed..."
       ]
      },
      {
       "output_type": "stream",
       "stream": "stdout",
       "text": [
        "\n",
        "Processing Team 1 Pairs"
       ]
      },
      {
       "output_type": "stream",
       "stream": "stdout",
       "text": [
        "\n",
        "1 matches processed...\n",
        "5001 matches processed..."
       ]
      },
      {
       "output_type": "stream",
       "stream": "stdout",
       "text": [
        "\n",
        "Processing Team 2 Pairs"
       ]
      },
      {
       "output_type": "stream",
       "stream": "stdout",
       "text": [
        "\n",
        "1 matches processed...\n",
        "5001 matches processed..."
       ]
      },
      {
       "output_type": "stream",
       "stream": "stdout",
       "text": [
        "\n",
        "Processing Team 1 Pairs"
       ]
      },
      {
       "output_type": "stream",
       "stream": "stdout",
       "text": [
        "\n",
        "1 matches processed...\n",
        "Processing Team 2 Pairs"
       ]
      },
      {
       "output_type": "stream",
       "stream": "stdout",
       "text": [
        "\n",
        "1 matches processed...\n"
       ]
      }
     ],
     "prompt_number": 127
    },
    {
     "cell_type": "markdown",
     "metadata": {},
     "source": [
      "##Please Read!\n",
      "We spent a lot of time trying to use both pairs and triples data to predict results. However as you can see from the\n",
      "cumulative distribution table above, there is a very small percentage of triples data that has sufficient sample size for the triples data to have sufficient predictive power. For instance for the triples data, only 10% of the data has a sample size larger than 10. As a result we did a lot of work that we wanted to include in our project submission, but don't yield useful results, and therefore don't recommend running the cell below."
     ]
    },
    {
     "cell_type": "code",
     "collapsed": false,
     "input": [
      "## SET UP TRIPLES DATA\n",
      "\n",
      "\"\"\"\n",
      "DO NOT RUN this portion of the code since it takes an extremely long time to generate the full model with the triples data\n",
      "on the scale of hours. \n",
      "\n",
      "\"\"\"\n",
      "\n",
      "triples = create_trips(table)\n",
      "triples_train = create_trips(train)\n",
      "triples_test = create_trips(test)\n",
      "lookup_table3 = triple_winpercent(triples)\n",
      "trim_lookup3 = lookup_table3[lookup_table3['Matches'] >= 3].reset_index(drop=True)\n",
      "\n",
      "## CREATE PROBABILITY TABLE FOR FULL MODEL (PAIRS + TRIPLES)\n",
      "train_data_full = create_prob_full(pairs_train, triples_train, lookup_table2, lookup_table3, full_position_list, len(train))\n",
      "\n",
      "\n",
      "## Training data for full model\n",
      "X_train_full = train_data_full.as_matrix()\n",
      "Y_train_full = np.array(train['Winner'])\n",
      "\n",
      "\n",
      "## Cross validation for full model\n",
      "score = [0]*15\n",
      "for i in range(0, len(score)):\n",
      "    score[i] = cross_val_score(RandomForestClassifier(n_estimators=i+1), X_train_full, Y_train_full, cv=10)\n",
      "plt.figure(figsize=(15,5),facecolor='w') \n",
      "sns.boxplot(score)\n",
      "plt.title('Accuracy versus number of trees')\n",
      "plt.xlabel('Number of trees')\n",
      "plt.ylabel('Accuracy')\n",
      "\n",
      "\n",
      "## Testing data for full model\n",
      "test_data_full = create_prob_full(pairs_test, triples_test, lookup_table2, lookup_table3, full_position_list, len(test))\n",
      "\n",
      "\n",
      "## Results from full model\n",
      "X_test_full = test_data_full.as_matrix()\n",
      "forest_train = RandomForestClassifier(n_estimators=25).fit(X_train_full, Y_train_full)\n",
      "predicted = forest_train.predict(X_test_full)\n",
      "\n",
      "numer = 0\n",
      "denom = 0\n",
      "for i in range(0, len(predicted)):\n",
      "    denom += 1\n",
      "    if (predicted[i] == test['Winner'][i]):\n",
      "        numer +=1\n",
      "        \n",
      "print 'Accuracy: ' + str(100.0*numer/denom)"
     ],
     "language": "python",
     "metadata": {},
     "outputs": []
    },
    {
     "cell_type": "code",
     "collapsed": false,
     "input": [
      "## Training data for reduced model\n",
      "train_data_reduced = create_prob(pairs_train, lookup_table2, position_pairs, len(train))\n",
      "test_data_reduced = create_prob(pairs_test, lookup_table2, position_pairs, len(test))"
     ],
     "language": "python",
     "metadata": {},
     "outputs": [
      {
       "output_type": "stream",
       "stream": "stdout",
       "text": [
        "0 fields processed\n",
        "5 fields processed"
       ]
      },
      {
       "output_type": "stream",
       "stream": "stdout",
       "text": [
        "\n",
        "10 fields processed"
       ]
      },
      {
       "output_type": "stream",
       "stream": "stdout",
       "text": [
        "\n",
        "15 fields processed"
       ]
      },
      {
       "output_type": "stream",
       "stream": "stdout",
       "text": [
        "\n",
        "0 fields processed"
       ]
      },
      {
       "output_type": "stream",
       "stream": "stdout",
       "text": [
        "\n",
        "5 fields processed"
       ]
      },
      {
       "output_type": "stream",
       "stream": "stdout",
       "text": [
        "\n",
        "10 fields processed"
       ]
      },
      {
       "output_type": "stream",
       "stream": "stdout",
       "text": [
        "\n",
        "15 fields processed"
       ]
      },
      {
       "output_type": "stream",
       "stream": "stdout",
       "text": [
        "\n"
       ]
      }
     ],
     "prompt_number": 128
    },
    {
     "cell_type": "code",
     "collapsed": false,
     "input": [
      "## Set up data for reduced model as matrix\n",
      "X_train_reduced = train_data_reduced.as_matrix()\n",
      "Y_train_reduced = np.array(train['Winner'])"
     ],
     "language": "python",
     "metadata": {},
     "outputs": [],
     "prompt_number": 131
    },
    {
     "cell_type": "code",
     "collapsed": false,
     "input": [
      "## Cross validation for reduced model\n",
      "score = [0]*20\n",
      "for i in range(0, len(score)):\n",
      "    score[i] = cross_val_score(RandomForestClassifier(n_estimators=i+1), X_train_reduced, Y_train_reduced, cv=10)\n",
      "plt.figure(figsize=(15,5),facecolor='w') \n",
      "sns.boxplot(score)\n",
      "plt.title('Accuracy versus number of trees')\n",
      "plt.xlabel('Number of trees')\n",
      "plt.ylabel('Accuracy')"
     ],
     "language": "python",
     "metadata": {},
     "outputs": [
      {
       "metadata": {},
       "output_type": "pyout",
       "prompt_number": 133,
       "text": [
        "<matplotlib.text.Text at 0x11abcc410>"
       ]
      },
      {
       "metadata": {},
       "output_type": "display_data",
       "png": "[encoded data removed]",
       "text": [
        "<matplotlib.figure.Figure at 0x10e691b90>"
       ]
      }
     ],
     "prompt_number": 133
    },
    {
     "cell_type": "code",
     "collapsed": false,
     "input": [
      "## Using training data to predict our test set\n",
      "nums = 100\n",
      "results = [0]*nums\n",
      "sig = [0]*nums\n",
      "for j in range(0, nums):\n",
      "    X_test_reduced = test_data_reduced.as_matrix()\n",
      "    forest_train = RandomForestClassifier(n_estimators=18).fit(X_train_reduced, Y_train_reduced)\n",
      "    predicted = forest_train.predict(X_test_reduced)\n",
      "    numer = 0\n",
      "    denom = 0\n",
      "    for i in range(0, len(predicted)):\n",
      "        denom += 1\n",
      "        if (predicted[i] == test['Winner'][i]):\n",
      "            numer +=1\n",
      "    results[j] = 100.0*numer/denom\n",
      "    p = stats.binom.cdf(numer, denom, 0.5)\n",
      "    if (p > 0.5):\n",
      "        sig[j] = 2*(1-p)\n",
      "    else:\n",
      "        sig[j] = 2*p"
     ],
     "language": "python",
     "metadata": {},
     "outputs": [],
     "prompt_number": 136
    },
    {
     "cell_type": "code",
     "collapsed": false,
     "input": [
      "## Statistics for prediction results\n",
      "plt.hist(results)\n",
      "plt.xlabel('Accuracy')\n",
      "plt.show()\n",
      "acc_df = pd.DataFrame(results, columns = ['Acc'])\n",
      "print 'Percent of results with better than 50% accuracy: ' + str(100.0*len(acc_df[acc_df['Acc'] >= 50])/len(acc_df))\n",
      "\n",
      "plt.hist(sig)\n",
      "plt.xlabel('Two-sided p-values')\n",
      "plt.show()\n",
      "pval_df = pd.DataFrame(sig, columns = ['pval'])\n",
      "print 'Percent of p-values significant at 10% level: ' + str(100.0*len(pval_df[pval_df['pval'] <= 0.1])/len(pval_df)) \n"
     ],
     "language": "python",
     "metadata": {},
     "outputs": [
      {
       "metadata": {},
       "output_type": "display_data",
       "png": "[encoded data removed]",
       "text": [
        "<matplotlib.figure.Figure at 0x158d92e90>"
       ]
      },
      {
       "output_type": "stream",
       "stream": "stdout",
       "text": [
        "Percent of results with better than 50% accuracy: 93.0\n"
       ]
      },
      {
       "metadata": {},
       "output_type": "display_data",
       "png": "[encoded data removed]",
       "text": [
        "<matplotlib.figure.Figure at 0x15d973e90>"
       ]
      },
      {
       "output_type": "stream",
       "stream": "stdout",
       "text": [
        "Percent of p-values significant at 10% level: 47.0\n"
       ]
      }
     ],
     "prompt_number": 144
    },
    {
     "cell_type": "markdown",
     "metadata": {},
     "source": [
      "Summary: Based on this, we can see that our prediction results were indeed significant. Nearly 50% of our p-values were significant at the 10% level from a repeated simulation, and over 90% of our predictions exceeded the benchmark of 50%. To validate our results, we would like to test them on external data sets such as the esports data to look for external validation."
     ]
    },
    {
     "cell_type": "code",
     "collapsed": false,
     "input": [
      "## Inputting esports data to test for external validation\n",
      "url = 'cs109_testdata.csv'\n",
      "test_data = pd.io.parsers.read_csv(url, sep=',', index_col=None)\n",
      "\n",
      "gameId = test_data['gameId'].drop_duplicates().reset_index(drop=True)\n",
      "\n",
      "\n",
      "test_table = pd.DataFrame(index=range(0,len(gameId)), columns=category)\n",
      "\n",
      "\n",
      "for i in range(0, len(gameId)):\n",
      "    for j in range(0, len(team1_names)):\n",
      "        test_table[team1_names[j]][i] = test_data['champ'][i*5+j]\n",
      "        test_table[team2_names[j]][i] = test_data['enemychamp'][i*5+j]\n",
      "    if (test_data['winner'][5*i] == True):\n",
      "        test_table['Winner'][i] = 1\n",
      "    else:\n",
      "        test_table['Winner'][i] = 0"
     ],
     "language": "python",
     "metadata": {},
     "outputs": [
      {
       "html": [
        "<div style=\"max-height:1000px;max-width:1500px;overflow:auto;\">\n",
        "<table border=\"1\" class=\"dataframe\">\n",
        "  <thead>\n",
        "    <tr style=\"text-align: right;\">\n",
        "      <th></th>\n",
        "      <th>top1</th>\n",
        "      <th>jun1</th>\n",
        "      <th>mid1</th>\n",
        "      <th>adc1</th>\n",
        "      <th>sup1</th>\n",
        "      <th>top2</th>\n",
        "      <th>jun2</th>\n",
        "      <th>mid2</th>\n",
        "      <th>adc2</th>\n",
        "      <th>sup2</th>\n",
        "      <th>Winner</th>\n",
        "    </tr>\n",
        "  </thead>\n",
        "  <tbody>\n",
        "    <tr>\n",
        "      <th>0</th>\n",
        "      <td> Trundle</td>\n",
        "      <td>  LeeSin</td>\n",
        "      <td> Leblanc</td>\n",
        "      <td>      Lucian</td>\n",
        "      <td> Morgana</td>\n",
        "      <td> Shyvana</td>\n",
        "      <td> XinZhao</td>\n",
        "      <td>    Lulu</td>\n",
        "      <td> Twitch</td>\n",
        "      <td>  Thresh</td>\n",
        "      <td> 1</td>\n",
        "    </tr>\n",
        "    <tr>\n",
        "      <th>1</th>\n",
        "      <td> DrMundo</td>\n",
        "      <td> Evelynn</td>\n",
        "      <td>   Yasuo</td>\n",
        "      <td> MissFortune</td>\n",
        "      <td>  Thresh</td>\n",
        "      <td> Shyvana</td>\n",
        "      <td>   Elise</td>\n",
        "      <td>   Kayle</td>\n",
        "      <td> Lucian</td>\n",
        "      <td> Morgana</td>\n",
        "      <td> 0</td>\n",
        "    </tr>\n",
        "    <tr>\n",
        "      <th>2</th>\n",
        "      <td> Shyvana</td>\n",
        "      <td>  LeeSin</td>\n",
        "      <td> Leblanc</td>\n",
        "      <td>      Lucian</td>\n",
        "      <td>   Leona</td>\n",
        "      <td>  Khazix</td>\n",
        "      <td>   Elise</td>\n",
        "      <td>   Kayle</td>\n",
        "      <td> KogMaw</td>\n",
        "      <td>  Thresh</td>\n",
        "      <td> 1</td>\n",
        "    </tr>\n",
        "    <tr>\n",
        "      <th>3</th>\n",
        "      <td> DrMundo</td>\n",
        "      <td>  LeeSin</td>\n",
        "      <td>    Lulu</td>\n",
        "      <td>      Twitch</td>\n",
        "      <td>   Karma</td>\n",
        "      <td> Shyvana</td>\n",
        "      <td>   Elise</td>\n",
        "      <td> Leblanc</td>\n",
        "      <td> Lucian</td>\n",
        "      <td>    Zyra</td>\n",
        "      <td> 0</td>\n",
        "    </tr>\n",
        "    <tr>\n",
        "      <th>4</th>\n",
        "      <td>     Jax</td>\n",
        "      <td>  LeeSin</td>\n",
        "      <td> Nidalee</td>\n",
        "      <td>       Sivir</td>\n",
        "      <td>    Lulu</td>\n",
        "      <td> Shyvana</td>\n",
        "      <td>    Nunu</td>\n",
        "      <td>   Yasuo</td>\n",
        "      <td> Twitch</td>\n",
        "      <td> Morgana</td>\n",
        "      <td> 0</td>\n",
        "    </tr>\n",
        "  </tbody>\n",
        "</table>\n",
        "</div>"
       ],
       "metadata": {},
       "output_type": "pyout",
       "prompt_number": 145,
       "text": [
        "      top1     jun1     mid1         adc1     sup1     top2     jun2     mid2  \\\n",
        "0  Trundle   LeeSin  Leblanc       Lucian  Morgana  Shyvana  XinZhao     Lulu   \n",
        "1  DrMundo  Evelynn    Yasuo  MissFortune   Thresh  Shyvana    Elise    Kayle   \n",
        "2  Shyvana   LeeSin  Leblanc       Lucian    Leona   Khazix    Elise    Kayle   \n",
        "3  DrMundo   LeeSin     Lulu       Twitch    Karma  Shyvana    Elise  Leblanc   \n",
        "4      Jax   LeeSin  Nidalee        Sivir     Lulu  Shyvana     Nunu    Yasuo   \n",
        "\n",
        "     adc2     sup2 Winner  \n",
        "0  Twitch   Thresh      1  \n",
        "1  Lucian  Morgana      0  \n",
        "2  KogMaw   Thresh      1  \n",
        "3  Lucian     Zyra      0  \n",
        "4  Twitch  Morgana      0  "
       ]
      }
     ],
     "prompt_number": 145
    },
    {
     "cell_type": "code",
     "collapsed": false,
     "input": [
      "## Random Forest Prediction for esports data\n",
      "\n",
      "esports_test = create_pairs(test_table)\n",
      "esports_test_reduced = create_prob(esports_test, lookup_table2, position_pairs, len(test_table))\n",
      "\n",
      "results_esports = [0]*nums\n",
      "sig_esports = [0]*nums\n",
      "for j in range(0, nums):\n",
      "    X_test_reduced = esports_test_reduced.as_matrix()\n",
      "    forest_train = RandomForestClassifier(n_estimators=18).fit(X_train_reduced, Y_train_reduced)\n",
      "    predicted = forest_train.predict(X_test_reduced)\n",
      "    numer = 0\n",
      "    denom = 0\n",
      "    for i in range(0, len(predicted)):\n",
      "        denom += 1\n",
      "        if (predicted[i] == test_table['Winner'][i]):\n",
      "            numer +=1\n",
      "    results_esports[j] = 100.0*numer/denom\n",
      "    p = stats.binom.cdf(numer, denom, 0.5)\n",
      "    if (p > 0.5):\n",
      "        sig_esports[j] = 2*(1-p)\n",
      "    else:\n",
      "        sig_esports[j] = 2*p"
     ],
     "language": "python",
     "metadata": {},
     "outputs": [
      {
       "output_type": "stream",
       "stream": "stdout",
       "text": [
        "Processing Team 1 Pairs\n",
        "1 matches processed...\n",
        "Processing Team 2 Pairs"
       ]
      },
      {
       "output_type": "stream",
       "stream": "stdout",
       "text": [
        "\n",
        "1 matches processed...\n",
        "0 fields processed"
       ]
      },
      {
       "output_type": "stream",
       "stream": "stdout",
       "text": [
        "\n",
        "5 fields processed"
       ]
      },
      {
       "output_type": "stream",
       "stream": "stdout",
       "text": [
        "\n",
        "10 fields processed"
       ]
      },
      {
       "output_type": "stream",
       "stream": "stdout",
       "text": [
        "\n",
        "15 fields processed"
       ]
      },
      {
       "output_type": "stream",
       "stream": "stdout",
       "text": [
        "\n"
       ]
      }
     ],
     "prompt_number": 159
    },
    {
     "cell_type": "code",
     "collapsed": false,
     "input": [
      "## Statistics for prediction results for e-sports data\n",
      "\n",
      "plt.hist(results_esports)\n",
      "plt.xlabel('Accuracy')\n",
      "plt.show()\n",
      "acc_df = pd.DataFrame(results_esports, columns = ['Acc'])\n",
      "print 'Percent of results with better than 50% accuracy: ' + str(100.0*len(acc_df[acc_df['Acc'] >= 50])/len(acc_df))\n",
      "\n",
      "plt.hist(sig_esports)\n",
      "plt.xlabel('Two-sided p-values')\n",
      "plt.show()\n",
      "pval_df = pd.DataFrame(sig_esports, columns = ['pval'])\n",
      "print 'Percent of p-values significant at 10% level: ' + str(100.0*len(pval_df[pval_df['pval'] <= 0.1])/len(pval_df)) \n"
     ],
     "language": "python",
     "metadata": {},
     "outputs": [
      {
       "metadata": {},
       "output_type": "display_data",
       "png": "[encoded data removed]",
       "text": [
        "<matplotlib.figure.Figure at 0x13e574650>"
       ]
      },
      {
       "output_type": "stream",
       "stream": "stdout",
       "text": [
        "Percent of results with better than 50% accuracy: 26.0\n"
       ]
      },
      {
       "metadata": {},
       "output_type": "display_data",
       "png": "[encoded data removed]",
       "text": [
        "<matplotlib.figure.Figure at 0x15ae67350>"
       ]
      },
      {
       "output_type": "stream",
       "stream": "stdout",
       "text": [
        "Percent of p-values significant at 10% level: 14.0\n"
       ]
      }
     ],
     "prompt_number": 160
    },
    {
     "cell_type": "markdown",
     "metadata": {},
     "source": [
      "Based on these results, we can see that our statistical predictors don't have much external validation with the esports data set and performs extremely poorly."
     ]
    },
    {
     "cell_type": "markdown",
     "metadata": {},
     "source": [
      "Now, we take a look at gold differences at the end of each match. Gold in the game is a measure of how well a team is doing as a whole, and the gold differential usually indicates whether a game was close or a shut-out. It essentially functions as points in other sports."
     ]
    },
    {
     "cell_type": "code",
     "collapsed": false,
     "input": [
      "# set up data to examine unexpected matches\n",
      "positives = matchSummary[matchSummary['Gold Diff']>0]\n",
      "throwers = positives[positives['Winner']==0]\n",
      "negatives = matchSummary[matchSummary['Gold Diff']<0]\n",
      "underdogs = negatives[negatives['Winner']==1]"
     ],
     "language": "python",
     "metadata": {},
     "outputs": [],
     "prompt_number": 149
    },
    {
     "cell_type": "code",
     "collapsed": false,
     "input": [
      "# examine distribution of games with unexpected results\n",
      "plt.hist(np.array(throwers['Gold Diff']), label='Throwers')\n",
      "plt.hist(np.array(underdogs['Gold Diff']), label='Underdogs')\n",
      "plt.title('Matches with Unexpected Results')\n",
      "plt.xlabel('Gold Difference')\n",
      "plt.ylabel('Frequency')\n",
      "plt.legend(loc=2)\n",
      "plt.show()"
     ],
     "language": "python",
     "metadata": {},
     "outputs": [
      {
       "metadata": {},
       "output_type": "display_data",
       "png": "[encoded data removed]",
       "text": [
        "<matplotlib.figure.Figure at 0x14c762c90>"
       ]
      }
     ],
     "prompt_number": 152
    },
    {
     "cell_type": "code",
     "collapsed": false,
     "input": [
      "matchSummary = pickle.load(open('matchSummary4000_end.pckl', 'rb'))\n",
      "index1 = int(0.6*len(matchSummary))\n",
      "index2 = int(0.9*len(matchSummary))\n",
      "table = matchSummary[0:index1]\n",
      "train = matchSummary[index1:index2].reset_index(drop=True)\n",
      "test = matchSummary[index2:len(matchSummary)].reset_index(drop=True)\n",
      "\n",
      "## different iteration of the lookup table with 60% of our data used to build it to provide more testing data\n",
      "lookup_table2_60 = pickle.load(open('lookuptable2_60.pckl', 'rb'))\n",
      "\n",
      "# Gold diff: 0 <-10000, 3: >10000, 1: -10000<gd<0, 2: 0<gd<10000\n",
      "\n",
      "gdiff = range(len(matchSummary))\n",
      "for i in xrange(len(matchSummary)):\n",
      "    if matchSummary['Gold Diff'].values[i] < -10000:\n",
      "        gdiff[i] = 0\n",
      "    elif matchSummary['Gold Diff'].values[i] > 10000:\n",
      "        gdiff[i] = 3\n",
      "    elif matchSummary['Gold Diff'].values[i] < 0:\n",
      "        gdiff[i] = 1\n",
      "    else:\n",
      "        gdiff[i] = 2\n",
      "matchSummary['Gold Diff'] = gdiff\n",
      "\n",
      "table = matchSummary[0:index1]\n",
      "train = matchSummary[index1:index2].reset_index(drop=True)\n",
      "test = matchSummary[index2:len(matchSummary)].reset_index(drop=True)"
     ],
     "language": "python",
     "metadata": {},
     "outputs": [],
     "prompt_number": 153
    },
    {
     "cell_type": "code",
     "collapsed": false,
     "input": [
      "trim_lookup2_60 = lookup_table2_60[lookup_table2_60['Matches'] >= 5].reset_index(drop=True)\n",
      "pairings_train = create_pairs(train)\n",
      "train_data = create_prob(pairings_train, trim_lookup2_60, comb_list2, len(train))\n",
      "pairings_test = create_pairs(test)\n",
      "test_data = create_prob(pairings_test, trim_lookup2_60, comb_list2, len(test))"
     ],
     "language": "python",
     "metadata": {},
     "outputs": [
      {
       "output_type": "stream",
       "stream": "stdout",
       "text": [
        "Processing Team 1 Pairs\n",
        "1 matches processed...\n",
        "Processing Team 2 Pairs"
       ]
      },
      {
       "output_type": "stream",
       "stream": "stdout",
       "text": [
        "\n",
        "1 matches processed...\n",
        "0 fields processed"
       ]
      },
      {
       "output_type": "stream",
       "stream": "stdout",
       "text": [
        "\n",
        "5 fields processed"
       ]
      },
      {
       "output_type": "stream",
       "stream": "stdout",
       "text": [
        "\n",
        "10 fields processed"
       ]
      },
      {
       "output_type": "stream",
       "stream": "stdout",
       "text": [
        "\n",
        "15 fields processed"
       ]
      },
      {
       "output_type": "stream",
       "stream": "stdout",
       "text": [
        "\n"
       ]
      }
     ],
     "prompt_number": 155
    },
    {
     "cell_type": "code",
     "collapsed": false,
     "input": [
      "## Gold Differential ###\n",
      "# set up for cross fold on training data\n",
      "X = train_data.as_matrix()\n",
      "Y = np.array(train['Gold Diff'])\n",
      "\n",
      "# change to gold difference\n",
      "score = [0]*20\n",
      "for i in range(0, len(score)):\n",
      "    score[i] = cross_val_score(RandomForestClassifier(n_estimators=i+1), X, Y, cv=10)\n",
      "plt.figure(figsize=(15,5),facecolor='w') \n",
      "sns.boxplot(score)\n",
      "plt.title('Accuracy versus number of trees')\n",
      "plt.xlabel('Number of trees')\n",
      "plt.ylabel('Accuracy')"
     ],
     "language": "python",
     "metadata": {},
     "outputs": [
      {
       "metadata": {},
       "output_type": "pyout",
       "prompt_number": 156,
       "text": [
        "<matplotlib.text.Text at 0x14fdfce90>"
       ]
      },
      {
       "metadata": {},
       "output_type": "display_data",
       "png": "[encoded data removed]",
       "text": [
        "<matplotlib.figure.Figure at 0x14ec8add0>"
       ]
      }
     ],
     "prompt_number": 156
    },
    {
     "cell_type": "code",
     "collapsed": false,
     "input": [
      "## Set up test matrix for gold difference predictions\n",
      "X_test = test_data.as_matrix()\n",
      "forest_train = RandomForestClassifier(n_estimators=18).fit(X, Y)\n",
      "predicted = forest_train.predict(X_test)"
     ],
     "language": "python",
     "metadata": {},
     "outputs": [],
     "prompt_number": 157
    },
    {
     "cell_type": "code",
     "collapsed": false,
     "input": [
      "results_gd = [0]*nums\n",
      "for j in range(0, nums):\n",
      "    X_test_reduced = test_data_reduced.as_matrix()\n",
      "    forest_train = RandomForestClassifier(n_estimators=18).fit(X_train_reduced, Y_train_reduced)\n",
      "    predicted = forest_train.predict(X_test_reduced)\n",
      "    numer = 0\n",
      "    denom = 0\n",
      "    for i in range(0, len(predicted)):\n",
      "        denom += 1\n",
      "        if (predicted[i] == test['Gold Diff'][i]):\n",
      "            numer +=1\n",
      "    results_gd[j] = 100.0*numer/denom\n",
      "    p = stats.binom.cdf(numer, denom, 0.5)"
     ],
     "language": "python",
     "metadata": {},
     "outputs": [],
     "prompt_number": 161
    },
    {
     "cell_type": "code",
     "collapsed": false,
     "input": [
      "## Statistics for prediction results for gold difference\n",
      "plt.hist(results_gd)\n",
      "plt.xlabel('Accuracy')\n",
      "plt.show()\n",
      "acc_df = pd.DataFrame(results_gd, columns = ['Acc'])\n",
      "print 'Percent of results with better than 25% accuracy: ' + str(100.0*len(acc_df[acc_df['Acc'] >= 25])/len(acc_df))"
     ],
     "language": "python",
     "metadata": {},
     "outputs": [
      {
       "metadata": {},
       "output_type": "display_data",
       "png": "[encoded data removed]",
       "text": [
        "<matplotlib.figure.Figure at 0x1205bf4d0>"
       ]
      },
      {
       "output_type": "stream",
       "stream": "stdout",
       "text": [
        "Percent of results with better than 25% accuracy: 99.0\n"
       ]
      }
     ],
     "prompt_number": 164
    },
    {
     "cell_type": "markdown",
     "metadata": {},
     "source": [
      "Seeing that we have 4 buckets, here we can see that our gold difference results do relatively well. However we have not yet adjusted this for the fact that there are different sample sizes in each of the 4 buckets which may make 25% not the ideal benchmark for our results."
     ]
    },
    {
     "cell_type": "code",
     "collapsed": false,
     "input": [
      "finalpred = range(len(predicted))\n",
      "for i in xrange(len(predicted)):\n",
      "    if predicted[i] ==0:\n",
      "        finalpred[i] = 0\n",
      "    elif predicted[i] ==1:\n",
      "        finalpred[i] = np.random.binomial(1,1.0*len(underdogs)/len(matchSummary[matchSummary['Gold Diff']==1]))\n",
      "    elif predicted[i] ==2:\n",
      "        finalpred[i] = np.random.binomial(1,1-1.0*len(throwers)/len(matchSummary[matchSummary['Gold Diff']==2]))\n",
      "    else:\n",
      "        finalpred[i] = 1\n",
      "\n",
      "numer = 0\n",
      "denom = 0\n",
      "for i in range(0, len(finalpred)):\n",
      "    denom += 1\n",
      "    if (finalpred[i] == test['Winner'][i]):\n",
      "        numer +=1\n",
      "      \n",
      "print 'Prediction accuracy for wins:'\n",
      "print str(np.round(100.0*numer/denom,2 )) + '%'"
     ],
     "language": "python",
     "metadata": {},
     "outputs": [
      {
       "output_type": "stream",
       "stream": "stdout",
       "text": [
        "Prediction accuracy for wins:\n",
        "48.83%\n"
       ]
      }
     ],
     "prompt_number": 167
    },
    {
     "cell_type": "code",
     "collapsed": false,
     "input": [
      "## Example function that we will use to implement for our website for live predictions\n",
      "\n",
      "def prediction(array1, array2):\n",
      "    categ = ['top1', 'jun1', 'mid1', 'adc1', 'sup1', 'top2', 'jun2', 'mid2', 'adc2', 'sup2', 'Winner']\n",
      "    entry = pd.DataFrame(index=range(0, 1), columns=categ)\n",
      "    merge = array1 + array2 + ['N']\n",
      "    entry.loc[0]  = merge\n",
      "    pairings_test = create_pairs(entry)\n",
      "    test_data = create_prob(pairings_test, trim_lookup2, comb_list2, len(entry))\n",
      "    X_test = test_data.as_matrix()\n",
      "    forest_train = RandomForestClassifier(n_estimators=25).fit(X, Y)\n",
      "    predicted = forest_train.predict(X_test)\n",
      "    if (list(predicted)[0] == 1):\n",
      "        print 'Prediction Results: Team 1 Wins'\n",
      "    else:\n",
      "        print 'Prediction Results: Team 2 Wins'\n",
      "\n",
      "array = ['Irelia', 'Gragas', 'Yasuo', 'Tristana', 'Nami']\n",
      "array3 = ['Pantheon', 'MasterYi', 'Ahri', 'Jinx', 'Syndra']\n",
      "\n",
      "prediction(array, array3)"
     ],
     "language": "python",
     "metadata": {},
     "outputs": [
      {
       "output_type": "stream",
       "stream": "stdout",
       "text": [
        "Processing Team 1 Pairs\n",
        "1 matches processed...\n",
        "Processing Team 2 Pairs\n",
        "1 matches processed...\n",
        "0 fields processed\n",
        "5 fields processed\n",
        "10 fields processed"
       ]
      },
      {
       "output_type": "stream",
       "stream": "stdout",
       "text": [
        "\n",
        "15 fields processed\n",
        "Prediction Results: Team 2 Wins"
       ]
      },
      {
       "output_type": "stream",
       "stream": "stdout",
       "text": [
        "\n"
       ]
      }
     ],
     "prompt_number": 169
    },
    {
     "cell_type": "markdown",
     "metadata": {},
     "source": [
      "### Interesting Statistics\n",
      "Here we would like to calculate some statistics based on certain events that occur in the game. Additionally, we would like to explore whether the skill distribution of the players before entering the game has an effect on the game outcome."
     ]
    },
    {
     "cell_type": "code",
     "collapsed": false,
     "input": [
      "\"\"\"\n",
      "Converts json data into team statistics\n",
      "Input:\n",
      "    all_match_data: list of matches (each match is in a json format)\n",
      "    team_data: list to append to\n",
      "Output:\n",
      "    team_data: the list containing team-oriented match data\n",
      "\"\"\"\n",
      "def convert_to_team_data(all_match_data, team_data):\n",
      "    for match_data in all_match_data:\n",
      "        if (('mapId' in match_data) and (match_data['mapId'] == 1)):\n",
      "            # if the data contains participants, then we can proceed\n",
      "            if 'participants' in match_data:\n",
      "                participants = match_data['participants']\n",
      "\n",
      "                # separate teams by checking team ID\n",
      "                team1 = []\n",
      "                team2 = []\n",
      "\n",
      "                # keet track of match data\n",
      "                team1_firstblood = None\n",
      "                team2_firstblood = None\n",
      "                team1_firstinhib = 0\n",
      "                team1_firsttower = 0\n",
      "                team1_kills = []\n",
      "                team2_kills = []\n",
      "\n",
      "                # boolean to keep track of which team won\n",
      "                team1_win = None\n",
      "\n",
      "                for team in match_data['teams']:\n",
      "                    if (team['teamId'] == 100) :\n",
      "                        team1_firstinhib = team['firstInhibitor']\n",
      "                        team1_firsttower = team['firstTower']\n",
      "\n",
      "                for participant in participants:\n",
      "                    # the two teams are identified as team ID 100 and 200\n",
      "                    if (participant['teamId'] == 100):\n",
      "                        team1.append(participant)\n",
      "                        team1_win = participant['stats']['winner']\n",
      "                        team1_kills.append(participant['stats']['kills'])\n",
      "                        if 'firstBloodKill' in participant['stats']:\n",
      "                            if (participant['stats']['firstBloodKill']):\n",
      "                                team1_firstblood = participant['timeline']['lane']\n",
      "                    else:\n",
      "                        team2.append(participant)\n",
      "                        team1_win = not participant['stats']['winner']\n",
      "                        team2_kills.append(participant['stats']['kills'])\n",
      "                        if 'firstBloodKill' in participant['stats']:\n",
      "                            if (participant['stats']['firstBloodKill']):\n",
      "                                team2_firstblood = participant['timeline']['lane']\n",
      "\n",
      "                # determine the total amount of gold on the team\n",
      "                team1_gold = sum([participant['stats']['goldEarned'] for participant in team1])\n",
      "                team2_gold = sum([participant['stats']['goldEarned'] for participant in team2])\n",
      "\n",
      "                # preallocate for each row\n",
      "                match_summary = [None for i in xrange(0, 9)]\n",
      "\n",
      "                # first column will be the match ID\n",
      "                match_summary[0] = match_data['matchId']\n",
      "                match_summary[1] = int(team1_win)\n",
      "                match_summary[2] = team1_gold - team2_gold\n",
      "                match_summary[3] = team1_firstblood\n",
      "                match_summary[4] = team2_firstblood\n",
      "                match_summary[5] = team1_firstinhib\n",
      "                match_summary[6] = team1_firsttower\n",
      "                match_summary[7] = np.std(team1_kills)\n",
      "                match_summary[8] = np.std(team2_kills)\n",
      "                team_data.append(match_summary)\n",
      "    return team_data\n",
      "\n",
      "\"\"\"\n",
      "Takes the data and converts to a dataframe\n",
      "Input:\n",
      "    matches: a 2-D list. Contains a list of all the matches, each of which is a list of information we specified above.\n",
      "Output:\n",
      "    match_data_df: a Pandas dataframe containing \n",
      "\"\"\"\n",
      "def convert_team_data(matches):\n",
      "    headers = ['Match ID', 'Win', 'Gold Diff', 'First Blood 1', 'First Blood 2', 'First Inhibitor', 'First Tower', 'Kill STD 1', 'Kill STD 2']\n",
      "    match_data_df = pd.DataFrame(matches,columns=headers)\n",
      "    return match_data_df"
     ],
     "language": "python",
     "metadata": {},
     "outputs": [],
     "prompt_number": 20
    },
    {
     "cell_type": "markdown",
     "metadata": {},
     "source": [
      "We have reload the data unforunately to get the information that we want :("
     ]
    },
    {
     "cell_type": "code",
     "collapsed": false,
     "input": [
      "# store all the data into a list\n",
      "team_data = []\n",
      "\n",
      "print 'Reading first part...'\n",
      "all_match_data = pickle.load(open('matchData4000_8000.pckl', 'rb'))\n",
      "team_data = convert_to_team_data(all_match_data, team_data)\n",
      "\n",
      "print 'Reading second part...'\n",
      "all_match_data = pickle.load(open('matchData8000_30000.pckl', 'rb'))\n",
      "team_data = convert_to_team_data(all_match_data, team_data)"
     ],
     "language": "python",
     "metadata": {},
     "outputs": [
      {
       "output_type": "stream",
       "stream": "stdout",
       "text": [
        "Reading first part...\n",
        "Reading second part..."
       ]
      },
      {
       "output_type": "stream",
       "stream": "stdout",
       "text": [
        "\n"
       ]
      }
     ],
     "prompt_number": 21
    },
    {
     "cell_type": "code",
     "collapsed": false,
     "input": [
      "print 'Reading third part...'\n",
      "all_match_data = pickle.load(open('matchData30000_34000.pckl', 'rb'))\n",
      "team_data = convert_to_team_data(all_match_data, team_data)\n",
      "\n",
      "print 'Reading last part...'\n",
      "all_match_data = pickle.load(open('matchData34000_51632.pckl', 'rb'))\n",
      "team_data = convert_to_team_data(all_match_data, team_data)"
     ],
     "language": "python",
     "metadata": {},
     "outputs": [
      {
       "output_type": "stream",
       "stream": "stdout",
       "text": [
        "Reading third part...\n",
        "Reading last part..."
       ]
      },
      {
       "output_type": "stream",
       "stream": "stdout",
       "text": [
        "\n"
       ]
      },
      {
       "output_type": "stream",
       "stream": "stderr",
       "text": [
        "/Users/georgieewuu/anaconda/lib/python2.7/site-packages/numpy/core/_methods.py:83: RuntimeWarning: Degrees of freedom <= 0 for slice\n",
        "  warnings.warn(\"Degrees of freedom <= 0 for slice\", RuntimeWarning)\n"
       ]
      }
     ],
     "prompt_number": 22
    },
    {
     "cell_type": "code",
     "collapsed": false,
     "input": [
      "cleaned_data = convert_team_data(team_data)\n",
      "cleaned_data.head()"
     ],
     "language": "python",
     "metadata": {},
     "outputs": [
      {
       "html": [
        "<div style=\"max-height:1000px;max-width:1500px;overflow:auto;\">\n",
        "<table border=\"1\" class=\"dataframe\">\n",
        "  <thead>\n",
        "    <tr style=\"text-align: right;\">\n",
        "      <th></th>\n",
        "      <th>Match ID</th>\n",
        "      <th>Win</th>\n",
        "      <th>Gold Diff</th>\n",
        "      <th>First Blood 1</th>\n",
        "      <th>First Blood 2</th>\n",
        "      <th>First Inhibitor</th>\n",
        "      <th>First Tower</th>\n",
        "      <th>Kill STD 1</th>\n",
        "      <th>Kill STD 2</th>\n",
        "    </tr>\n",
        "  </thead>\n",
        "  <tbody>\n",
        "    <tr>\n",
        "      <th>0</th>\n",
        "      <td> 1516251192</td>\n",
        "      <td> 1</td>\n",
        "      <td>    14</td>\n",
        "      <td>   None</td>\n",
        "      <td> MIDDLE</td>\n",
        "      <td>  True</td>\n",
        "      <td> False</td>\n",
        "      <td> 4.381780</td>\n",
        "      <td> 3.136877</td>\n",
        "    </tr>\n",
        "    <tr>\n",
        "      <th>1</th>\n",
        "      <td> 1386752062</td>\n",
        "      <td> 0</td>\n",
        "      <td>-11522</td>\n",
        "      <td>   None</td>\n",
        "      <td> MIDDLE</td>\n",
        "      <td> False</td>\n",
        "      <td> False</td>\n",
        "      <td> 2.653300</td>\n",
        "      <td> 2.039608</td>\n",
        "    </tr>\n",
        "    <tr>\n",
        "      <th>2</th>\n",
        "      <td> 1509304384</td>\n",
        "      <td> 1</td>\n",
        "      <td>  3857</td>\n",
        "      <td> MIDDLE</td>\n",
        "      <td>   None</td>\n",
        "      <td>  True</td>\n",
        "      <td> False</td>\n",
        "      <td> 3.666061</td>\n",
        "      <td> 8.255907</td>\n",
        "    </tr>\n",
        "    <tr>\n",
        "      <th>3</th>\n",
        "      <td> 1376135234</td>\n",
        "      <td> 0</td>\n",
        "      <td> -9267</td>\n",
        "      <td> BOTTOM</td>\n",
        "      <td>   None</td>\n",
        "      <td> False</td>\n",
        "      <td>  True</td>\n",
        "      <td> 3.059412</td>\n",
        "      <td> 4.214262</td>\n",
        "    </tr>\n",
        "    <tr>\n",
        "      <th>4</th>\n",
        "      <td> 1536043075</td>\n",
        "      <td> 0</td>\n",
        "      <td>-17505</td>\n",
        "      <td>   None</td>\n",
        "      <td> BOTTOM</td>\n",
        "      <td> False</td>\n",
        "      <td>  True</td>\n",
        "      <td> 1.356466</td>\n",
        "      <td> 3.429286</td>\n",
        "    </tr>\n",
        "  </tbody>\n",
        "</table>\n",
        "</div>"
       ],
       "metadata": {},
       "output_type": "pyout",
       "prompt_number": 26,
       "text": [
        "     Match ID  Win  Gold Diff First Blood 1 First Blood 2 First Inhibitor  \\\n",
        "0  1516251192    1         14          None        MIDDLE            True   \n",
        "1  1386752062    0     -11522          None        MIDDLE           False   \n",
        "2  1509304384    1       3857        MIDDLE          None            True   \n",
        "3  1376135234    0      -9267        BOTTOM          None           False   \n",
        "4  1536043075    0     -17505          None        BOTTOM           False   \n",
        "\n",
        "  First Tower  Kill STD 1  Kill STD 2  \n",
        "0       False    4.381780    3.136877  \n",
        "1       False    2.653300    2.039608  \n",
        "2       False    3.666061    8.255907  \n",
        "3        True    3.059412    4.214262  \n",
        "4        True    1.356466    3.429286  "
       ]
      }
     ],
     "prompt_number": 26
    },
    {
     "cell_type": "markdown",
     "metadata": {},
     "source": [
      "There are some interesting things we can calculate from this. For example, we can calculate the probability of winning a game given that one of your lanes gets the first blood. In the following cell, we define a function `first_blood_prob` that calculates the probability of winning a game given that a certain lane gets first blood. \n",
      "\n",
      "We can also calculate probabilities based on structures destroyed. In League of Legends, there are structures called turrets and inhibitors, and the API gives us information about which team destroyed one of those structures first. `inhib_tower_prob` calculates those probabilites for us.\n",
      "\n",
      "Lastly, we want to understand whether a team with a single very strong player (these strong players are called **fed** players) can perform better than teams where the champions share the kills or are more evenly matched in skill level. Since we are interested in the impact of skill level on game outcomes, this is an interesting branch of skill impact to explore. In terms of the data, if the standard deviation of the kills on the team is larger, there is a high chance that there is a **fed** player on the team, whereas if the standard deviation of the kills on the team is smaller, the champions are **balanced** and tend to have a similar number of kills."
     ]
    },
    {
     "cell_type": "code",
     "collapsed": false,
     "input": [
      "\"\"\"\n",
      "Returns percentage of wins based on first blood in lane\n",
      "Input\n",
      "    lane: the lane to determine first blood on\n",
      "Output:\n",
      "    first_blood_percent: the percentage of wins based on first blood\n",
      "\"\"\"\n",
      "def first_blood_prob(lane):\n",
      "    first_blood_df = cleaned_data[(cleaned_data['First Blood 1'] == lane) | (cleaned_data['First Blood 2'] == lane)]\n",
      "    first_blood_wins_df = first_blood_df[((cleaned_data['First Blood 1'] == lane) & (cleaned_data['Win'] == 1)) | ((cleaned_data['First Blood 2'] == lane) & (cleaned_data['Win'] == 0))]\n",
      "    first_blood_wins = first_blood_wins_df.shape[0]\n",
      "    first_blood_totals = first_blood_df.shape[0]\n",
      "    first_blood_percent = float(first_blood_wins) / first_blood_totals\n",
      "    return first_blood_percent\n",
      "\n",
      "print \"Percentage Wins when top laner gets first blood: \" + str(first_blood_prob('TOP'))\n",
      "print \"Percentage Wins when bottom laner gets first blood: \" + str(first_blood_prob('BOTTOM'))\n",
      "print \"Percentage Wins when middle laner gets first blood: \" + str(first_blood_prob('MIDDLE'))\n",
      "print \"Percentage Wins when jungler gets first blood: \" + str(first_blood_prob('JUNGLE'))\n",
      "  \n",
      "\"\"\"\n",
      "Returns percentage of wins based on first building destroyed\n",
      "Input\n",
      "    building: which building to use in calculating probabilities\n",
      "Output\n",
      "    first_building_percent: the percentage of wins based on first structure destroyed\n",
      "\"\"\"\n",
      "def inhib_tower_prob(building):\n",
      "    first_building_total = cleaned_data.shape[0]\n",
      "    building = 'First ' + building\n",
      "    first_building_wins_df = cleaned_data[(cleaned_data[building] & cleaned_data['Win'] == 1) | (~ cleaned_data[building] & cleaned_data['Win'] == 0)]\n",
      "    first_building_wins = first_building_wins_df.shape[0]\n",
      "    first_building_percent = float(first_building_wins) / first_building_total\n",
      "    return first_building_percent\n",
      "print \"Percentage Wins when first inhib taken: \" + str(inhib_tower_prob('Inhibitor'))\n",
      "print \"Percentage Wins when first tower taken: \" + str(inhib_tower_prob('Tower'))\n",
      "\n",
      "# standard deviation of kills on team\n",
      "# does having a \"well-rounded\" team do better, or having one person \"carry\" the team win more games?\n",
      "larger_std = cleaned_data[(cleaned_data['Kill STD 1'] > cleaned_data['Kill STD 2'])]\n",
      "larger_std_total = larger_std.shape[0]\n",
      "larger_std_wins_df = larger_std[(larger_std['Win'] == 1)]\n",
      "larger_std_wins = larger_std_wins_df.shape[0]\n",
      "larger_std_percent = float(larger_std_wins) / larger_std_total\n",
      "print \"Percentage Wins with higher kill standard deviation: \" + str(larger_std_percent)"
     ],
     "language": "python",
     "metadata": {},
     "outputs": [
      {
       "output_type": "stream",
       "stream": "stdout",
       "text": [
        "Percentage Wins when top laner gets first blood: 0.599757895895\n",
        "Percentage Wins when bottom laner gets first blood: 0.607830714648"
       ]
      },
      {
       "output_type": "stream",
       "stream": "stdout",
       "text": [
        "\n",
        "Percentage Wins when middle laner gets first blood: 0.601682557487"
       ]
      },
      {
       "output_type": "stream",
       "stream": "stdout",
       "text": [
        "\n",
        "Percentage Wins when jungler gets first blood: 0.609185373205"
       ]
      },
      {
       "output_type": "stream",
       "stream": "stdout",
       "text": [
        "\n",
        "Percentage Wins when first inhib taken: 0.904018963474\n",
        "Percentage Wins when first tower taken: 0.846482060123\n",
        "Percentage Wins with higher kill standard deviation: 0.823073298205\n"
       ]
      },
      {
       "output_type": "stream",
       "stream": "stderr",
       "text": [
        "/Users/georgieewuu/anaconda/lib/python2.7/site-packages/pandas/core/frame.py:1706: UserWarning: Boolean Series key will be reindexed to match DataFrame index.\n",
        "  \"DataFrame index.\", UserWarning)\n"
       ]
      }
     ],
     "prompt_number": 27
    },
    {
     "cell_type": "markdown",
     "metadata": {},
     "source": [
      "Let's plot the standard deviation of kills on each team via a scatterplot."
     ]
    },
    {
     "cell_type": "code",
     "collapsed": false,
     "input": [
      "winners = cleaned_data['Win']\n",
      "team1_kill_std = cleaned_data['Kill STD 1']\n",
      "team2_kill_std = cleaned_data['Kill STD 2']\n",
      "\n",
      "win_teams = (winners * team1_kill_std) + ((1 - winners) * team2_kill_std)\n",
      "lose_teams = ((1 - winners) * team1_kill_std) + (winners * team2_kill_std)\n",
      "\n",
      "plt.figure(figsize=(15,15))\n",
      "plt.xlim((0,25))\n",
      "plt.ylim((0,25))\n",
      "plt.title('Winning Team Standard Deviation of Kills vs Losing Team Standard Deviation of Kills')\n",
      "plt.xlabel('Winning Team Kills Standard Deviation')\n",
      "plt.ylabel('Losing Team Kills Standard Deviation')\n",
      "plt.scatter(win_teams,lose_teams)"
     ],
     "language": "python",
     "metadata": {},
     "outputs": [
      {
       "metadata": {},
       "output_type": "pyout",
       "prompt_number": 55,
       "text": [
        "<matplotlib.collections.PathCollection at 0x116049250>"
       ]
      },
      {
       "metadata": {},
       "output_type": "display_data",
       "png": "[encoded data removed]",
       "text": [
        "<matplotlib.figure.Figure at 0x1127f0e90>"
       ]
      }
     ],
     "prompt_number": 55
    },
    {
     "cell_type": "markdown",
     "metadata": {},
     "source": [
      "From the scatterplot above, we can see that at the professional level, there doesn't seem to be a lot of matches where there is a single especially strong player on the team."
     ]
    },
    {
     "cell_type": "markdown",
     "metadata": {},
     "source": [
      "We examined champion select in terms of **team synergies** above, and now want to consider **lane matchups** as another way champion selections can affect the outcome of a game. We first split the match data we have into a testing set and training set, and accumulate a **match history dictionary** of wins and losses between different pairings of champions that are matched up in each lane. These win-loss histories are calculated into probabilities and then training a random forest classifier on these probabilities to predict the wins and losses of games in a testing set. \n",
      "\n",
      "Often times, certain champions can prove to be effective **counters** against another champion in lane, and the differences between champions of opposing sides in the same lane can be significant enough to severely affect the early game and may snowball into the late game and affect game outcomes. For instance, if some champions have a much larger range than other champions, they may be able to effectively poke and harrass the other champion out of lane. Other champions (for instance, Veigar) have skills and stats built to scale on his enemy's Ability Power damage, and can be extremely effective against champions who rely on AP to make their own skills effective. These differences are introduced when champions are selected, and even though they may affect game outcome, have nothing to do with the actual skill of the players - so we are interested in measuring these inherent differences."
     ]
    },
    {
     "cell_type": "code",
     "collapsed": false,
     "input": [
      "# get match history of wins and losses between matchups of different pairs of same-lane champs\n",
      "matchup_dict = {}\n",
      "for match, info in match_data_df[3000:].iterrows():\n",
      "    positions = ['top', 'mid', 'jun', 'adc', 'sup']\n",
      "    for p in positions:\n",
      "        char1 = info[p + '1']\n",
      "        char2 = info[p + '2']\n",
      "        char1_win = False\n",
      "        if (info['Winner'] == 1):\n",
      "            char1_win = True\n",
      "        # keep alphabetical order\n",
      "        if (char1 <= char2):\n",
      "            char_tuple = (char1, char2)\n",
      "        else:\n",
      "            char_tuple = (char2, char1)\n",
      "            char1_win = not char1_win\n",
      "        if char_tuple in matchup_dict.keys():\n",
      "            matchup_dict[char_tuple].append(char1_win)\n",
      "        else:\n",
      "            matchup_dict[char_tuple] = [char1_win]"
     ],
     "language": "python",
     "metadata": {},
     "outputs": [],
     "prompt_number": 45
    },
    {
     "cell_type": "markdown",
     "metadata": {},
     "source": [
      "We will convert the match histories into a probability of the first champion in a tuple to win in a lane matchup against the second champion in a tuple. However, we want to disregard any matchups that do not have enough data (which may result in artificially inflated or deflated probabilities) so we set any matchup with fewer than ten historical data points to have a probability of 0.5"
     ]
    },
    {
     "cell_type": "code",
     "collapsed": false,
     "input": [
      "# get probability of win for first champion for each pairing, set as neutral if not enough data\n",
      "matchup_prob = {}\n",
      "for (c1, c2), win_array in matchup_dict.iteritems():\n",
      "    if (len(win_array) < 10):\n",
      "        matchup_prob[(c1, c2)] = 0.5\n",
      "    else:\n",
      "        matchup_prob[(c1, c2)] = float(sum(win_array)) / len(win_array)"
     ],
     "language": "python",
     "metadata": {},
     "outputs": [],
     "prompt_number": 80
    },
    {
     "cell_type": "code",
     "collapsed": false,
     "input": [
      "len(match_data_df)"
     ],
     "language": "python",
     "metadata": {},
     "outputs": [
      {
       "metadata": {},
       "output_type": "pyout",
       "prompt_number": 42,
       "text": [
        "37107"
       ]
      }
     ],
     "prompt_number": 42
    },
    {
     "cell_type": "markdown",
     "metadata": {},
     "source": [
      "We first retrieve the probabilities for champion matchups in the training set, as well as the game result so we can use this dataframe to train a random forest to predict games based on matchups. We'll use the data points after 3000 to create our training set."
     ]
    },
    {
     "cell_type": "code",
     "collapsed": false,
     "input": [
      "# check accuracy of using average of matchup probabilities to predict matches\n",
      "probability_data = []\n",
      "for match, info in match_data_df[3000:].iterrows():\n",
      "    positions = ['top', 'mid', 'jun', 'adc', 'sup']\n",
      "    team1_win_prob = []\n",
      "    total_guesses += 1\n",
      "    for p in positions:\n",
      "        char1 = info[p + '1']\n",
      "        char2 = info[p + '2']\n",
      "        if (char1 <= char2):\n",
      "            char_tuple = (char1, char2)\n",
      "            if char_tuple in matchup_prob:\n",
      "                win_prob = matchup_prob[char_tuple]\n",
      "                team1_win_prob.append(win_prob)\n",
      "            else:\n",
      "                team1_win_prob.append(0.5)\n",
      "        else:\n",
      "            char_tuple = (char2, char1)\n",
      "            if char_tuple in matchup_prob:\n",
      "                if matchup_prob[char_tuple] != None:\n",
      "                    win_prob = 1 - matchup_prob[char_tuple]\n",
      "                team1_win_prob.append(win_prob)\n",
      "            else:\n",
      "                team1_win_prob.append(0.5)\n",
      "    team1_win_prob.append(info['Winner'])\n",
      "    probability_data.append(team1_win_prob)"
     ],
     "language": "python",
     "metadata": {},
     "outputs": [],
     "prompt_number": 81
    },
    {
     "cell_type": "markdown",
     "metadata": {},
     "source": [
      "We'll redo the same thing for our testing set."
     ]
    },
    {
     "cell_type": "code",
     "collapsed": false,
     "input": [
      "# For testing\n",
      "probability_test_data = []\n",
      "for match, info in match_data_df[:3000].iterrows():\n",
      "    positions = ['top', 'mid', 'jun', 'adc', 'sup']\n",
      "    team1_win_prob = []\n",
      "    total_guesses += 1\n",
      "    for p in positions:\n",
      "        char1 = info[p + '1']\n",
      "        char2 = info[p + '2']\n",
      "        if (char1 <= char2):\n",
      "            char_tuple = (char1, char2)\n",
      "            if char_tuple in matchup_prob:\n",
      "                win_prob = matchup_prob[char_tuple]\n",
      "                team1_win_prob.append(win_prob)\n",
      "            else:\n",
      "                team1_win_prob.append(0.5)\n",
      "        else:\n",
      "            char_tuple = (char2, char1)\n",
      "            if char_tuple in matchup_prob:\n",
      "                if matchup_prob[char_tuple] != None:\n",
      "                    win_prob = 1 - matchup_prob[char_tuple]\n",
      "                team1_win_prob.append(win_prob)\n",
      "            else:\n",
      "                team1_win_prob.append(0.5)\n",
      "    team1_win_prob.append(info['Winner'])\n",
      "    probability_test_data.append(team1_win_prob)"
     ],
     "language": "python",
     "metadata": {},
     "outputs": [],
     "prompt_number": 88
    },
    {
     "cell_type": "markdown",
     "metadata": {},
     "source": [
      "Just as we did in a previous pset, we'll calculate the scores for different trees in the random forest classifier and pick the best one."
     ]
    },
    {
     "cell_type": "code",
     "collapsed": false,
     "input": [
      "lane_matchup_probabilities = pd.DataFrame(probability_data, columns=['top', 'mid', 'jun', 'adc', 'sup', 'win'])\n",
      "Y = np.array(lane_matchup_probabilities['win'])\n",
      "lane_matchup_probabilities = lane_matchup_probabilities.drop('win', 1)\n",
      "\n",
      "X = lane_matchup_probabilities.as_matrix()\n",
      "scores = []\n",
      "for i in xrange(0, 30):\n",
      "    print 'Processing score # ' + str(i+1)\n",
      "    scores.append(cross_val_score(RandomForestClassifier(n_estimators=i+1),X,Y,cv=10))"
     ],
     "language": "python",
     "metadata": {},
     "outputs": [
      {
       "output_type": "stream",
       "stream": "stdout",
       "text": [
        "Processing score # 1\n",
        "Processing score # 2"
       ]
      },
      {
       "output_type": "stream",
       "stream": "stdout",
       "text": [
        "\n",
        "Processing score # 3"
       ]
      },
      {
       "output_type": "stream",
       "stream": "stdout",
       "text": [
        "\n",
        "Processing score # 4"
       ]
      },
      {
       "output_type": "stream",
       "stream": "stdout",
       "text": [
        "\n",
        "Processing score # 5"
       ]
      },
      {
       "output_type": "stream",
       "stream": "stdout",
       "text": [
        "\n",
        "Processing score # 6"
       ]
      },
      {
       "output_type": "stream",
       "stream": "stdout",
       "text": [
        "\n",
        "Processing score # 7"
       ]
      },
      {
       "output_type": "stream",
       "stream": "stdout",
       "text": [
        "\n",
        "Processing score # 8"
       ]
      },
      {
       "output_type": "stream",
       "stream": "stdout",
       "text": [
        "\n",
        "Processing score # 9"
       ]
      },
      {
       "output_type": "stream",
       "stream": "stdout",
       "text": [
        "\n",
        "Processing score # 10"
       ]
      },
      {
       "output_type": "stream",
       "stream": "stdout",
       "text": [
        "\n",
        "Processing score # 11"
       ]
      },
      {
       "output_type": "stream",
       "stream": "stdout",
       "text": [
        "\n",
        "Processing score # 12"
       ]
      },
      {
       "output_type": "stream",
       "stream": "stdout",
       "text": [
        "\n",
        "Processing score # 13"
       ]
      },
      {
       "output_type": "stream",
       "stream": "stdout",
       "text": [
        "\n",
        "Processing score # 14"
       ]
      },
      {
       "output_type": "stream",
       "stream": "stdout",
       "text": [
        "\n",
        "Processing score # 15"
       ]
      },
      {
       "output_type": "stream",
       "stream": "stdout",
       "text": [
        "\n",
        "Processing score # 16"
       ]
      },
      {
       "output_type": "stream",
       "stream": "stdout",
       "text": [
        "\n",
        "Processing score # 17"
       ]
      },
      {
       "output_type": "stream",
       "stream": "stdout",
       "text": [
        "\n",
        "Processing score # 18"
       ]
      },
      {
       "output_type": "stream",
       "stream": "stdout",
       "text": [
        "\n",
        "Processing score # 19"
       ]
      },
      {
       "output_type": "stream",
       "stream": "stdout",
       "text": [
        "\n",
        "Processing score # 20"
       ]
      },
      {
       "output_type": "stream",
       "stream": "stdout",
       "text": [
        "\n",
        "Processing score # 21"
       ]
      },
      {
       "output_type": "stream",
       "stream": "stdout",
       "text": [
        "\n",
        "Processing score # 22"
       ]
      },
      {
       "output_type": "stream",
       "stream": "stdout",
       "text": [
        "\n",
        "Processing score # 23"
       ]
      },
      {
       "output_type": "stream",
       "stream": "stdout",
       "text": [
        "\n",
        "Processing score # 24"
       ]
      },
      {
       "output_type": "stream",
       "stream": "stdout",
       "text": [
        "\n",
        "Processing score # 25"
       ]
      },
      {
       "output_type": "stream",
       "stream": "stdout",
       "text": [
        "\n",
        "Processing score # 26"
       ]
      },
      {
       "output_type": "stream",
       "stream": "stdout",
       "text": [
        "\n",
        "Processing score # 27"
       ]
      },
      {
       "output_type": "stream",
       "stream": "stdout",
       "text": [
        "\n",
        "Processing score # 28"
       ]
      },
      {
       "output_type": "stream",
       "stream": "stdout",
       "text": [
        "\n",
        "Processing score # 29"
       ]
      },
      {
       "output_type": "stream",
       "stream": "stdout",
       "text": [
        "\n",
        "Processing score # 30"
       ]
      },
      {
       "output_type": "stream",
       "stream": "stdout",
       "text": [
        "\n"
       ]
      }
     ],
     "prompt_number": 89
    },
    {
     "cell_type": "markdown",
     "metadata": {},
     "source": [
      "Here is our boxplot of the scores vs number of trees below."
     ]
    },
    {
     "cell_type": "code",
     "collapsed": false,
     "input": [
      "plt.figure(figsize=(15,5))\n",
      "sns.boxplot(scores)\n",
      "plt.title('Score vs Number of Trees')\n",
      "plt.xlabel('Number of Trees')\n",
      "plt.ylabel('Score')"
     ],
     "language": "python",
     "metadata": {},
     "outputs": [
      {
       "metadata": {},
       "output_type": "pyout",
       "prompt_number": 90,
       "text": [
        "<matplotlib.text.Text at 0x14f014110>"
       ]
      },
      {
       "metadata": {},
       "output_type": "display_data",
       "png": "[encoded data removed]",
       "text": [
        "<matplotlib.figure.Figure at 0x14b4da7d0>"
       ]
      }
     ],
     "prompt_number": 90
    },
    {
     "cell_type": "markdown",
     "metadata": {},
     "source": [
      "As we can see, the best value we have is `n_estimators=26`."
     ]
    },
    {
     "cell_type": "code",
     "collapsed": false,
     "input": [
      "# Train a random forest classifier\n",
      "classifier = RandomForestClassifier(n_estimators=26).fit(X,Y)\n",
      "lane_matchup_test_probabilities = pd.DataFrame(probability_test_data, columns=['top', 'mid', 'jun', 'adc', 'sup', 'win'])\n",
      "\n",
      "# get the true results we want to test on\n",
      "Y_test = np.array(lane_matchup_test_probabilities['win'])\n",
      "lane_matchup_test_probabilities = lane_matchup_test_probabilities.drop('win', 1)\n",
      "\n",
      "# calculate predictions and probabilities\n",
      "X_test = lane_matchup_test_probabilities.as_matrix()\n",
      "scores = []\n",
      "predicted = classifier.predict(X_test)\n",
      "count = 0\n",
      "for i in xrange(0, len(predicted)):\n",
      "    if predicted[i] == Y_test[i]:\n",
      "        count += 1\n",
      "float(count) / len(Y_test)"
     ],
     "language": "python",
     "metadata": {},
     "outputs": [
      {
       "metadata": {},
       "output_type": "pyout",
       "prompt_number": 109,
       "text": [
        "0.5206666666666667"
       ]
      }
     ],
     "prompt_number": 109
    },
    {
     "cell_type": "markdown",
     "metadata": {},
     "source": [
      "Our predictions aren't great, as we only got around 52.1% accuracy."
     ]
    },
    {
     "cell_type": "markdown",
     "metadata": {},
     "source": [
      "###Summary\n",
      "In summary, we learned that it is very difficult to predict the outcome of League of Legends matches. We started with a full model that used the historical winning percentages of combinations of 2 and 3 champions on a team in an attempt to predict the outcomes of these games. However, we soon found out that the triples we were using introduced a lot of noise into our predictions using the Random Forest classifier. Then, we proceeded to use only pairs of champions on a team and found out that this model performed better. Approximately 50% of our p-values ended up showing that this model significantly differed from randomly guessing the outcome of the games. Although this may not seem the most significant at first, 90% of our predictions were better than the random 0.5 guessing average. This means that if this prediction model was used to bet on the outcomes of Challenger-level League of Legends games, we would be expected to make a profit. When we tested on the professional esports dataset, we found insignificant prediction results. This makes sense because professional esports games are by nature very different than the ranked games that we were examining. This includes differences in team coordination and communication.\n",
      "\n",
      "After this, we worked on a model to predict gold difference using the same Random Forest approach. We bucketed gold differences into <-10000 (almost definite loss), -10000-0 (likely loss), 0-10000 (likely win), and 10000+ (almost definite win). We were able to predict these with ~30%  accuracy benchmarked against a baseline of 25% from guessing, though this benchmark may not be entirely accurate due to the distribution of gold differentials. When incorporating gold differentials and the likelihood of an unexpected result, our model did not seem to improve. \n",
      "\n",
      "Lastly, we slightly expanded the scope of our project by taking a look of some in-game events. We found that obtaining First Blood (the first kill in the game) had a  60% prediction accuracy, first tower (an objective in the game) had an 85% prediction accuracy, and lastly first inhibitor (another major objective) had a 90% prediction accuracy.\n",
      "\n",
      "In conclusion, we see that although we can provide some insight on how games are expected to turn out from champion selection (pre-game events), knowledge of game events, even early ones, have significantly increased predictive power. This suggests that skill plays a major component in League of Legends at a near-professional level."
     ]
    },
    {
     "cell_type": "code",
     "collapsed": false,
     "input": [],
     "language": "python",
     "metadata": {},
     "outputs": []
    }
   ],
   "metadata": {}
  }
 ]
}